{
  "nbformat": 4,
  "nbformat_minor": 0,
  "metadata": {
    "colab": {
      "provenance": [],
      "mount_file_id": "1NqU3ScTRUWe4rheltcZMXWo1AFUCNiBa",
      "authorship_tag": "ABX9TyPNt2KTLgTNGXVi7TYx2znn",
      "include_colab_link": true
    },
    "kernelspec": {
      "name": "python3",
      "display_name": "Python 3"
    },
    "language_info": {
      "name": "python"
    }
  },
  "cells": [
    {
      "cell_type": "markdown",
      "metadata": {
        "id": "view-in-github",
        "colab_type": "text"
      },
      "source": [
        "<a href=\"https://colab.research.google.com/github/jacob-jones23/MAT-422/blob/main/4_1_Network_Analysis.ipynb\" target=\"_parent\"><img src=\"https://colab.research.google.com/assets/colab-badge.svg\" alt=\"Open In Colab\"/></a>"
      ]
    },
    {
      "cell_type": "markdown",
      "source": [
        "#**4.1 Introduction**\n",
        "Network analysis is essential in analysis of data not only because social networks create huge amount of data, but also many data have network structured. One of the simple ways to introduce a network structure is to analyze correlations between variables and create correlation networks, which are widely used data mining method for studying biological networks based on pairwise correlations between variables.\n",
        "\n",
        "##**4.1.1 Graph Model**\n",
        "Any graph consists of both a set of objects, called nodes, and the connections between these nodes, called edges. Msthematically, a graph *G* is denoted as pair *G(V,E)*, where *V* = {*v$_{1}$, v$_{2}$,...,v$_{n}$*} represents the set of nodes and *E* = {*e$_{1}$, e$_{2}$,...,e$_{m}$*}\n",
        "\n",
        "Graphs that only have directed edges are called directed graphs.\n",
        "\n",
        "Grpahs that only have undirected edges are called undirected graphs.\n",
        "\n",
        "Graphs that have both directed and undirected edges are called mixed graphs.\n"
      ],
      "metadata": {
        "id": "SK_QN4fveW3F"
      }
    },
    {
      "cell_type": "code",
      "source": [
        "import matplotlib.pyplot as plt\n",
        "import networkx as nx\n",
        "import numpy as np\n",
        "import warnings\n",
        "warnings.simplefilter(action='ignore', category=FutureWarning)"
      ],
      "metadata": {
        "id": "CY8_S1dw2r0T"
      },
      "execution_count": 84,
      "outputs": []
    },
    {
      "cell_type": "code",
      "source": [
        "G = nx.Graph()\n",
        "\n",
        "# Create 10 nodes\n",
        "G.add_nodes_from([1, 2, 3, 4, 5, 6, 7, 8, 9, 10])\n",
        "\n",
        "# Randomly connect the nodes\n",
        "G.add_edges_from([\n",
        "    (1, 2), (1, 3), (1, 4), (1, 5), (1, 8),\n",
        "    (2, 3), (2, 4), (2, 5),\n",
        "    (3, 4), (3, 5),\n",
        "    (4, 5), (4, 6), (4, 7),\n",
        "    (5, 6), (5, 7), (5, 8),\n",
        "    (6, 7), (6, 8), (6, 9), (6, 10),\n",
        "    (7, 8), (7, 9), (7, 10),\n",
        "    (8, 9), (8, 10),\n",
        "    (9, 10),\n",
        "])\n",
        "\n",
        "# Draw the graph\n",
        "nx.draw(G, with_labels=True)\n",
        "plt.title(\"Network Graph Example\")\n",
        "plt.show()"
      ],
      "metadata": {
        "colab": {
          "base_uri": "https://localhost:8080/",
          "height": 245
        },
        "id": "dqJkgWg24aaC",
        "outputId": "a42ad33a-6d89-42ac-ef05-1decce893b4b"
      },
      "execution_count": 87,
      "outputs": [
        {
          "output_type": "error",
          "ename": "AttributeError",
          "evalue": "ignored",
          "traceback": [
            "\u001b[0;31m---------------------------------------------------------------------------\u001b[0m",
            "\u001b[0;31mAttributeError\u001b[0m                            Traceback (most recent call last)",
            "\u001b[0;32m<ipython-input-87-9f5669611c36>\u001b[0m in \u001b[0;36m<cell line: 20>\u001b[0;34m()\u001b[0m\n\u001b[1;32m     18\u001b[0m \u001b[0;34m\u001b[0m\u001b[0m\n\u001b[1;32m     19\u001b[0m \u001b[0;31m# Draw the graph\u001b[0m\u001b[0;34m\u001b[0m\u001b[0;34m\u001b[0m\u001b[0m\n\u001b[0;32m---> 20\u001b[0;31m \u001b[0mprint\u001b[0m\u001b[0;34m(\u001b[0m\u001b[0mG\u001b[0m\u001b[0;34m.\u001b[0m\u001b[0mtodense\u001b[0m\u001b[0;34m(\u001b[0m\u001b[0;34m)\u001b[0m\u001b[0;34m)\u001b[0m\u001b[0;34m\u001b[0m\u001b[0;34m\u001b[0m\u001b[0m\n\u001b[0m\u001b[1;32m     21\u001b[0m \u001b[0mnx\u001b[0m\u001b[0;34m.\u001b[0m\u001b[0mdraw\u001b[0m\u001b[0;34m(\u001b[0m\u001b[0mG\u001b[0m\u001b[0;34m,\u001b[0m \u001b[0mwith_labels\u001b[0m\u001b[0;34m=\u001b[0m\u001b[0;32mTrue\u001b[0m\u001b[0;34m)\u001b[0m\u001b[0;34m\u001b[0m\u001b[0;34m\u001b[0m\u001b[0m\n\u001b[1;32m     22\u001b[0m \u001b[0mplt\u001b[0m\u001b[0;34m.\u001b[0m\u001b[0mtitle\u001b[0m\u001b[0;34m(\u001b[0m\u001b[0;34m\"Network Graph Example\"\u001b[0m\u001b[0;34m)\u001b[0m\u001b[0;34m\u001b[0m\u001b[0;34m\u001b[0m\u001b[0m\n",
            "\u001b[0;31mAttributeError\u001b[0m: 'Graph' object has no attribute 'todense'"
          ]
        }
      ]
    },
    {
      "cell_type": "markdown",
      "source": [
        "##**4.1.2 Laplacian Matrix**\n",
        "A graph with *n* nodes can be represented by a *n 𝗑 n* adjacency matrix. A value of 1 at row *i*, column *j* in the adjacency matrix indicates a connection between nodes *v$_{i}$* and *v$_{j}$*, and a value of 0 denotes no connection between the two nodes.\n",
        "\n",
        "*A* is called the adjacency matrix.\n",
        "In directed graphs, we can have two edges between *i* and *j*. As a result, the adjacency matrix for directed graphs is not in general symmetirc. On the other hand, the adjacency matrix for undirected graphs is symmetric (*A* = *A$^{T}$*).\n",
        "\n",
        "\n",
        "An incidence matrix is a matrix that is used to represent the connectivity of a graph. It represents the edges of a graph as columns and the nodes of a graph as rows."
      ],
      "metadata": {
        "id": "4vnO0xwLrRB8"
      }
    },
    {
      "cell_type": "code",
      "source": [
        "# Generate Adjacency Matrix\n",
        "A = nx.adjacency_matrix(G)\n",
        "print(A.todense())"
      ],
      "metadata": {
        "colab": {
          "base_uri": "https://localhost:8080/"
        },
        "id": "MXDk9r5K4h9G",
        "outputId": "dc4df254-9de9-4f4b-ddb6-65dcc99a9f84"
      },
      "execution_count": 89,
      "outputs": [
        {
          "output_type": "stream",
          "name": "stdout",
          "text": [
            "[[0 1 1 1 1 0 0 1 0 0]\n",
            " [1 0 1 1 1 0 0 0 0 0]\n",
            " [1 1 0 1 1 0 0 0 0 0]\n",
            " [1 1 1 0 1 1 1 0 0 0]\n",
            " [1 1 1 1 0 1 1 1 0 0]\n",
            " [0 0 0 1 1 0 1 1 1 1]\n",
            " [0 0 0 1 1 1 0 1 1 1]\n",
            " [1 0 0 0 1 1 1 0 1 1]\n",
            " [0 0 0 0 0 1 1 1 0 1]\n",
            " [0 0 0 0 0 1 1 1 1 0]]\n"
          ]
        }
      ]
    },
    {
      "cell_type": "code",
      "source": [
        "def laplacian_matrix(graph: nx.Graph):\n",
        "    \"\"\"Get the Laplacian Matrix of a Graph\"\"\"\n",
        "    _adj = nx.adjacency_matrix(graph)\n",
        "    _diag = np.diag(np.sum(_adj, axis=1))\n",
        "    return _diag - _adj"
      ],
      "metadata": {
        "id": "6xOmKQLp4xoX"
      },
      "execution_count": 90,
      "outputs": []
    },
    {
      "cell_type": "code",
      "source": [
        "L = laplacian_matrix(graph=G)\n",
        "print(L)"
      ],
      "metadata": {
        "colab": {
          "base_uri": "https://localhost:8080/"
        },
        "id": "aZQcudE6226q",
        "outputId": "9b200771-8836-4767-de12-e758731430e9"
      },
      "execution_count": 91,
      "outputs": [
        {
          "output_type": "stream",
          "name": "stdout",
          "text": [
            "[[ 5 -1 -1 -1 -1  0  0 -1  0  0]\n",
            " [-1  4 -1 -1 -1  0  0  0  0  0]\n",
            " [-1 -1  4 -1 -1  0  0  0  0  0]\n",
            " [-1 -1 -1  6 -1 -1 -1  0  0  0]\n",
            " [-1 -1 -1 -1  7 -1 -1 -1  0  0]\n",
            " [ 0  0  0 -1 -1  6 -1 -1 -1 -1]\n",
            " [ 0  0  0 -1 -1 -1  6 -1 -1 -1]\n",
            " [-1  0  0  0 -1 -1 -1  6 -1 -1]\n",
            " [ 0  0  0  0  0 -1 -1 -1  4 -1]\n",
            " [ 0  0  0  0  0 -1 -1 -1 -1  4]]\n"
          ]
        }
      ]
    }
  ]
}