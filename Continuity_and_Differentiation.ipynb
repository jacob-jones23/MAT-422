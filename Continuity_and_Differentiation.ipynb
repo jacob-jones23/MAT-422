{
  "nbformat": 4,
  "nbformat_minor": 0,
  "metadata": {
    "colab": {
      "provenance": [],
      "authorship_tag": "ABX9TyNKFxTCZZBlc3y+Gk/H1Eto",
      "include_colab_link": true
    },
    "kernelspec": {
      "name": "python3",
      "display_name": "Python 3"
    },
    "language_info": {
      "name": "python"
    }
  },
  "cells": [
    {
      "cell_type": "markdown",
      "metadata": {
        "id": "view-in-github",
        "colab_type": "text"
      },
      "source": [
        "<a href=\"https://colab.research.google.com/github/jacob-jones23/MAT-422/blob/main/Continuity_and_Differentiation.ipynb\" target=\"_parent\"><img src=\"https://colab.research.google.com/assets/colab-badge.svg\" alt=\"Open In Colab\"/></a>"
      ]
    },
    {
      "cell_type": "code",
      "execution_count": null,
      "metadata": {
        "id": "NNb3cPa-gX_x"
      },
      "outputs": [],
      "source": []
    },
    {
      "cell_type": "markdown",
      "source": [
        "#**3.2 Continuity and Differentiation**\n",
        "\n",
        "##**3.2.1 Limits and Continuity**\n",
        "**Definition 3.2.1 (Limits of a function)** Let *f* : D → ℝ be a real-valued function on *D* ⊆ ℝ$^{d}$. Then f is said to have a limit *L* ∈\n",
        "ℝ as **x** approaches **a** if: for any ϵ > 0 such that |*f*(**x**) - *L*| < ϵ for all **x** ∈ *D* ∩ **B**$_{δ}$(**a**)\\ {**a**}.\n",
        "This is written as\n",
        "\\begin{align}\n",
        "\\lim_{x→a} f(\\mathbf{x}) = L\n",
        "\\end{align}"
      ],
      "metadata": {
        "id": "0NSI6Jshgg1K"
      }
    },
    {
      "cell_type": "markdown",
      "source": [
        "Example\n",
        "\\begin{align}\n",
        "\\lim_{x→0} \\frac{sin(x)} {x}\n",
        "\\end{align}"
      ],
      "metadata": {
        "id": "Xr9-wkGUi6qX"
      }
    },
    {
      "cell_type": "code",
      "source": [
        "import sympy as sp\n",
        "x = sp.Symbol('x')\n",
        "f = sp.sin(x)/x\n",
        "L = sp.limit(f, x, 0)\n",
        "print(\"The limit is: \", L)"
      ],
      "metadata": {
        "colab": {
          "base_uri": "https://localhost:8080/"
        },
        "id": "HjHD5wZDiqi6",
        "outputId": "14919665-ba6e-4d4d-e2b3-b26e8fc4dd28"
      },
      "execution_count": null,
      "outputs": [
        {
          "output_type": "stream",
          "name": "stdout",
          "text": [
            "The limit is:  1\n"
          ]
        }
      ]
    },
    {
      "cell_type": "markdown",
      "source": [
        "**Definition 3.2.2 (Continuous function)**\n",
        "Let *f* : *D* → ℝ be a real-valued function on *D* ⊆ ℝ$^{d}$. Then *f* is said to be continuous at **a** ∈ *D* if\n",
        "\\begin{align}\n",
        "\\lim_{\\mathbf{x}→\\mathbf{a}}f(\\mathbf{x}) = f(\\mathbf{a})\n",
        "\\end{align}\n",
        "\n",
        "**Lemma 3.2.3 (Composition of Continuous Functions)** Let **f** : *D$_{1}$* → ℝ$^{m}$, where *D$_{1}$* ⊆ ℝ$^{d}$ and let **g**: *D$_{2}$* → ℝ$^{p}$, where *D$_{2}$* ⊆ ℝ$^{m}$. Assume that **f** is continuous at **x$_{0}$** and that **g** is continuous **f(x$_{0}$)**. Then *g* ∘ *f* is continuous at **x$_{0}$**."
      ],
      "metadata": {
        "id": "7l6xTS9OjKlw"
      }
    },
    {
      "cell_type": "code",
      "source": [
        "# Function to combine two\n",
        "def composite_function(f, g):\n",
        "  return lambda x : f(g(x))\n",
        "\n",
        "# Function to add 2\n",
        "def add(x):\n",
        "  return x + 2\n",
        "\n",
        "# Function to multiply 2\n",
        "def multiply(x):\n",
        "  return x*2\n",
        "\n",
        "# Composite function returns a lambda function\n",
        "add_multiply = composite_function(multiply, add)\n",
        "\n",
        "print(\"Adding 2 to 5 and multiply the result with 2: \", add_multiply(5))"
      ],
      "metadata": {
        "colab": {
          "base_uri": "https://localhost:8080/"
        },
        "id": "TQ8YHQY7lz46",
        "outputId": "95abc8b7-acb5-4907-cb7e-5411acf25023"
      },
      "execution_count": null,
      "outputs": [
        {
          "output_type": "stream",
          "name": "stdout",
          "text": [
            "Adding 2 to 5 and multiply the result with 2:  14\n"
          ]
        }
      ]
    },
    {
      "cell_type": "markdown",
      "source": [
        "**Definition 3.2.4 (Extremum)** Suppose *f* : *D* → ℝ is defined on a set *D* ⊆ ℝ$^{d}$. We say that *f* attains a maximum value *M* at **z*** if *f*(**z***) = *M* and *M* ≥ *f(**x**)* for all **x** ∈ *D*. Similarly, we say *f* attains a minimum value *m* at **z$_{*}$** if *f*(**z$_{*}$**) = *m* and *m* ≤ *f*(**x**) for all **x** ∈ *D*.\n",
        "\n",
        "**Theorem 3.2.5 (Extreme Value)** Let *f* : *D* → ℝ be a real-valued, continuous function on a nonempty, closed, bounded set *D* ⊆ ℝ$^{d}$. Then *f* attains a maximum and a minimum on *D*.\n",
        "\n",
        "\n",
        "#**3.2.2 Derivatives**\n",
        "**3.2.2.1 Single-Variable Case**\n",
        "\n",
        "**Definition 3.2.6 (Derivative)** Let *f* : *D* → ℝ where *D* ⊆ ℝ and let x$_{0}$ ∈ *D* be an interior point of *D*. The derivative of *f* at x$_{0}$ is\n",
        "\\begin{align}\n",
        "f'(x_0) \\frac{df(x_0)} {dx} = \\frac{f(x_{0}+h) - f(x_0)} {h}\n",
        "\\end{align}\n",
        "provided the limit exists.\n",
        "\n",
        "**Example**\n",
        "*f(x)* = sin(x) + x$^{2}$ + e$^{4x}$"
      ],
      "metadata": {
        "id": "o9PqBcT-m9aR"
      }
    },
    {
      "cell_type": "code",
      "source": [
        "import sympy as sp\n",
        "x = sp.Symbol('x')\n",
        "f = sp.sin(x) + x**2 + sp.exp(4*x)\n",
        "print(f)\n",
        "df = sp.diff(f, x)\n",
        "print(df)\n",
        "ddf = sp.diff(f, x, 2)\n",
        "print(ddf)"
      ],
      "metadata": {
        "colab": {
          "base_uri": "https://localhost:8080/"
        },
        "id": "_RQpanTg2ygl",
        "outputId": "791e2708-e251-4396-b60c-8e03cc4b5626"
      },
      "execution_count": 1,
      "outputs": [
        {
          "output_type": "stream",
          "name": "stdout",
          "text": [
            "x**2 + exp(4*x) + sin(x)\n",
            "2*x + 4*exp(4*x) + cos(x)\n",
            "16*exp(4*x) - sin(x) + 2\n"
          ]
        }
      ]
    },
    {
      "cell_type": "markdown",
      "source": [
        "**Proposition 3.2.7** Let *f* and *g* have derivatives at *x* and let *α* and *β* be constants. The following results hold\n",
        "\\begin{align}\n",
        "[αf(x) + βg(x)]' = αf'(x) + βg'(x)\n",
        "\\end{align}\n",
        "\n",
        "**Lemma 3.2.8** Let *f* : *D* → ℝ with *D* ⊆ ℝ and let *x$_{0}$ ∈ *D* be an interior point of *D* where f'(x$_{0}$) exists. If *f'(x$_{0}$)* > 0, then there is an open ball *B$_{δ}$(x$_{0}$)* ⊆ *D* around *x$_{0}$* such that for each *x* in *B$_{δ}$(x$_{0}$)*\n",
        "  \n",
        "  (a) f(x) > f(x$_{0}$) if x > x$_{0}$\n",
        "  \n",
        "  (b) f(x) < f(x$_{0}$) if x < x$_{0}$\n",
        "  \n",
        "If instead *f*'(x$_{0}$) < 0, the opposite holds.\n",
        "\n",
        "**Theorem 3.2.9 (Rolle)** Let *f*:[a,b] → ℝ be a continuous function and assume that its derivative exists on (*a,b*). If *f(a)* = *f(b)*, then there is *a* < *c* < *b* such that *f'(c)* = 0.\n",
        "\n"
      ],
      "metadata": {
        "id": "7g5sE9IX3T8Y"
      }
    },
    {
      "cell_type": "code",
      "source": [
        "from sympy import *\n",
        "from random import randrange\n",
        "import cmath\n",
        "x,y,z = symbols('x y z')\n",
        "init_printing(use_unicode = True)\n",
        "flagcontinuity = False\n",
        "flagdifferentiability = False\n",
        "flagequality = False\n",
        "def h(x):\n",
        "  expr = x**3-4*x\n",
        "  return expr\n",
        "print(h(x))\n",
        "plot(h(x),(x,-2,2))"
      ],
      "metadata": {
        "colab": {
          "base_uri": "https://localhost:8080/",
          "height": 523
        },
        "id": "QhkpCzyRixDn",
        "outputId": "29b6fc35-24fc-4187-fa65-c12a12e8acbc"
      },
      "execution_count": 1,
      "outputs": [
        {
          "output_type": "stream",
          "name": "stdout",
          "text": [
            "x**3 - 4*x\n"
          ]
        },
        {
          "output_type": "display_data",
          "data": {
            "text/plain": [
              "<Figure size 640x480 with 1 Axes>"
            ],
            "image/png": "[encoded data removed]"
          },
          "metadata": {}
        },
        {
          "output_type": "execute_result",
          "data": {
            "text/plain": [
              "<sympy.plotting.plot.Plot at 0x7a4d97f3fbe0>"
            ]
          },
          "metadata": {},
          "execution_count": 1
        }
      ]
    },
    {
      "cell_type": "code",
      "source": [
        "lnhdlimit_pos = limit(h(x),x,-2,'+')\n",
        "lnhdlimit_neg = limit(h(x),x,-2,'-')\n",
        "print(lnhdlimit_pos)\n",
        "print(lnhdlimit_neg)\n",
        "rnhdlimit_pos = limit(h(x),x,-2,'+')\n",
        "rnhdlimit_neg = limit(h(x),x,-2,'-')\n",
        "print(rnhdlimit_pos)\n",
        "print(rnhdlimit_neg)\n",
        "if (lnhdlimit_pos==lnhdlimit_neg) and (lnhdlimit_neg==h(-2)) and (rnhdlimit_pos==rnhdlimit_neg) and (rnhdlimit_neg==h(2)):\n",
        "  print('function is continuous')\n",
        "else:\n",
        "  print('function is discontinuous')\n",
        "  flagcontinuity = True"
      ],
      "metadata": {
        "colab": {
          "base_uri": "https://localhost:8080/"
        },
        "id": "_AyPvtXzjtye",
        "outputId": "d6945e43-50b1-4cf5-b47c-9f4d188c3a3a"
      },
      "execution_count": 3,
      "outputs": [
        {
          "output_type": "stream",
          "name": "stdout",
          "text": [
            "0\n",
            "0\n",
            "0\n",
            "0\n",
            "function is continuous\n"
          ]
        }
      ]
    },
    {
      "cell_type": "code",
      "source": [
        "for i in range(0,1):\n",
        "  j = randrange(-2,2)\n",
        "  difflnhd = diff(limit(h(x),x,j,'+'))\n",
        "  diffrnhd = diff(limit(h(x),x,j,'-'))\n",
        "print(difflnhd)\n",
        "print(diffrnhd)\n",
        "if (difflnhd==diffrnhd):\n",
        "  print('function is differentiable')\n",
        "else:\n",
        "  print('function is not differentiable')\n",
        "  flagdifferentiability=True\n",
        ""
      ],
      "metadata": {
        "colab": {
          "base_uri": "https://localhost:8080/"
        },
        "id": "PRUg8JcOnA7c",
        "outputId": "b4e28306-5641-45a4-c8b8-85904bb58cbd"
      },
      "execution_count": 4,
      "outputs": [
        {
          "output_type": "stream",
          "name": "stdout",
          "text": [
            "0\n",
            "0\n",
            "function is differentiable\n"
          ]
        }
      ]
    },
    {
      "cell_type": "code",
      "source": [
        "r1 = h(-2)\n",
        "r2 = h(2)\n",
        "if (r1==r2):\n",
        "  print('f(a)=f(b)')\n",
        "else:\n",
        "  print('f(a) != f(b)')\n",
        "  flagequality=True\n",
        ""
      ],
      "metadata": {
        "colab": {
          "base_uri": "https://localhost:8080/"
        },
        "id": "VOaNE9eYoCnX",
        "outputId": "3b086a50-ae37-4d2c-f5a0-8676fb3c19bf"
      },
      "execution_count": 5,
      "outputs": [
        {
          "output_type": "stream",
          "name": "stdout",
          "text": [
            "f(a)=f(b)\n"
          ]
        }
      ]
    },
    {
      "cell_type": "code",
      "source": [
        "if (flagcontinuity==True) or (flagdifferentiability==True) or (flagequality==True):\n",
        "  print('all conditions of rolles theorem is not satisfied')\n",
        "else:\n",
        "  print('all conditions of rolles theorem is satisfied')\n",
        "d1=diff(h(x),x)\n",
        "print('derivative of h(x) is', d1)\n",
        "print('There exist some constant c')\n",
        "a = int(input())\n",
        "b = int(input())\n",
        "c = int(input())\n",
        "disc = b**2-4*a*c\n",
        "root1 = b+cmath.sqrt(disc)/(2*a)\n",
        "root2 = b-cmath.sqrt(disc)/(2*a)\n",
        "print('The derivative of equation are {0} and {1}'.format(root1,root2), 'where derivative is zero')\n",
        "plot(h(x), (x,-2,2),root1,root2)"
      ],
      "metadata": {
        "colab": {
          "base_uri": "https://localhost:8080/",
          "height": 650
        },
        "id": "4hAmbT1Wovwj",
        "outputId": "3d8d117f-0c1e-428a-8cfa-8186bb037a7d"
      },
      "execution_count": 6,
      "outputs": [
        {
          "output_type": "stream",
          "name": "stdout",
          "text": [
            "all conditions of rolles theorem is satisfied\n",
            "derivative of h(x) is 3*x**2 - 4\n",
            "There exist some constant c\n",
            "4\n",
            "5\n",
            "6\n",
            "The derivative of equation are (5+1.0532687216470449j) and (5-1.0532687216470449j) where derivative is zero\n"
          ]
        },
        {
          "output_type": "display_data",
          "data": {
            "text/plain": [
              "<Figure size 640x480 with 1 Axes>"
            ],
            "image/png": "[encoded data removed]"
          },
          "metadata": {}
        },
        {
          "output_type": "execute_result",
          "data": {
            "text/plain": [
              "<sympy.plotting.plot.Plot at 0x7a4d65999210>"
            ]
          },
          "metadata": {},
          "execution_count": 6
        }
      ]
    },
    {
      "cell_type": "markdown",
      "source": [
        "**Theorem 3.2.10 (Mean Value)** Let *f*:[a,b] → ℝ be a continuous function and assume that its derivative exists on *(a,b)*. Then there is *a < c < b* such that\n",
        "\\begin{align}\n",
        "f(b) = f(a) + (b-a)f'(c)\n",
        "\\end{align}\n",
        "or put differently\n",
        "\\begin{align}\n",
        "\\frac{f(b)-f(a)} {b-a} = f'(c)\n",
        "\\end{align}"
      ],
      "metadata": {
        "id": "NlKOtHarqCkY"
      }
    },
    {
      "cell_type": "code",
      "source": [
        "from mpmath import*\n",
        "from sympy import*\n",
        "import random\n",
        "import cmath\n",
        "x,y,z,a,b,c = symbols('x y z a b c')\n",
        "init_printing(use_unicode=True)\n",
        "flagcontinuity = False\n",
        "flagdifferentiability = False\n",
        "def h(x):\n",
        "  expr=x*(x-1)*(x-2)\n",
        "  return expr\n",
        "print(h(x))\n",
        "print('generating graph of equation')\n",
        "plot(h(x),(x,0,1/2))"
      ],
      "metadata": {
        "colab": {
          "base_uri": "https://localhost:8080/",
          "height": 538
        },
        "id": "aY_Js1DgxLpf",
        "outputId": "5270059c-c486-4d79-813f-caaee332da85"
      },
      "execution_count": 2,
      "outputs": [
        {
          "output_type": "stream",
          "name": "stdout",
          "text": [
            "x*(x - 2)*(x - 1)\n",
            "generating graph of equation\n"
          ]
        },
        {
          "output_type": "display_data",
          "data": {
            "text/plain": [
              "<Figure size 640x480 with 1 Axes>"
            ],
            "image/png": "[encoded data removed]"
          },
          "metadata": {}
        },
        {
          "output_type": "execute_result",
          "data": {
            "text/plain": [
              "<sympy.plotting.plot.Plot at 0x7f64ae370610>"
            ]
          },
          "metadata": {},
          "execution_count": 2
        }
      ]
    },
    {
      "cell_type": "code",
      "source": [
        "# Checking first condition of theorem\n",
        "lnhdlimit_pos = limit(h(x),x,0,'+')\n",
        "lnhdlimit_neg = limit(h(x),x,0,'-')\n",
        "print(lnhdlimit_pos)\n",
        "print(lnhdlimit_neg)\n",
        "rnhdlimit_pos = limit(h(x),x,1/2,'+')\n",
        "rnhdlimit_neg = limit(h(x),x,1/2,'-')\n",
        "print(rnhdlimit_pos)\n",
        "print(rnhdlimit_neg)\n",
        "if (lnhdlimit_pos==lnhdlimit_neg) and (lnhdlimit_neg==h(0)) and (rnhdlimit_pos==rnhdlimit_neg) and (rnhdlimit_neg==h(1/2)):\n",
        "  print('function is continuous')\n",
        "else:\n",
        "  print('function is discontinuous')\n",
        "  flagcontinuity=True\n",
        "\n",
        "\n"
      ],
      "metadata": {
        "colab": {
          "base_uri": "https://localhost:8080/"
        },
        "id": "BcOsmleyxr1g",
        "outputId": "73af8bfe-8c33-466c-ac47-14b88e1bfae5"
      },
      "execution_count": 3,
      "outputs": [
        {
          "output_type": "stream",
          "name": "stdout",
          "text": [
            "0\n",
            "0\n",
            "0.375000000000000\n",
            "0.375000000000000\n",
            "function is continuous\n"
          ]
        }
      ]
    },
    {
      "cell_type": "code",
      "source": [
        "for i in range(0,1):\n",
        "  j = random.uniform(0,1/2)\n",
        "  difflnhd = diff(limit(h(x),x,j,'+'))\n",
        "  diffrnhd = diff(limit(h(x),x,j,'-'))\n",
        "print(difflnhd)\n",
        "print(diffrnhd)\n",
        "if (difflnhd==diffrnhd):\n",
        "  print('function is differentiable')\n",
        "else:\n",
        "  print('function is not differentiable')\n",
        "  flagdifferentiability=True\n",
        "\n"
      ],
      "metadata": {
        "colab": {
          "base_uri": "https://localhost:8080/"
        },
        "id": "KL-vMQwUysy0",
        "outputId": "aec95e93-14d1-4d03-b28e-cfe2f52a46b2"
      },
      "execution_count": 4,
      "outputs": [
        {
          "output_type": "stream",
          "name": "stdout",
          "text": [
            "0\n",
            "0\n",
            "function is differentiable\n"
          ]
        }
      ]
    },
    {
      "cell_type": "code",
      "source": [
        "if (flagcontinuity==True) or (flagdifferentiability==True):\n",
        "  print('Lgrange Theorem is not applicable')\n",
        "else:\n",
        "  print('Larange Theorem is applicable')\n",
        "d2 = diff(h(x),x)\n",
        "print('derivative of h(x) is', d2)\n",
        "print('There exist some constant c')\n",
        "a = float(int(input()))\n",
        "b = float(int(input()))\n",
        "ratio = (h(b)-h(a))/(b-1)\n",
        "print(ratio)\n",
        "rd=round(ratio,2)\n",
        "print('Round value of ratio at two decimal points', rd)\n",
        "print(diff(h(c),c),'=',rd)\n",
        "z = diff(h(c),c)\n",
        "simplify(diff(h(c),c))\n",
        "print(solve((c*(c-2)+c*(c-1)+(c-2)*(c-1)-rd),c))\n",
        "ar=solve((c*(c-2)+c*(c-1)+(c-2)*(c-1)-rd),c)\n",
        "print('value of c is', ar)\n",
        "print('It lies between a and b', a,b)\n",
        "plot(h(x),(x,0,1/2),ar[0],ar[1])"
      ],
      "metadata": {
        "colab": {
          "base_uri": "https://localhost:8080/",
          "height": 701
        },
        "id": "FksJ-HbszHEm",
        "outputId": "7ad9f0bd-7683-469b-e628-fe06b82234d8"
      },
      "execution_count": 5,
      "outputs": [
        {
          "output_type": "stream",
          "name": "stdout",
          "text": [
            "Larange Theorem is applicable\n",
            "derivative of h(x) is x*(x - 2) + x*(x - 1) + (x - 2)*(x - 1)\n",
            "There exist some constant c\n",
            "5\n",
            "2\n",
            "-60.0\n",
            "Round value of ratio at two decimal points -60.0\n",
            "c*(c - 2) + c*(c - 1) + (c - 2)*(c - 1) = -60.0\n",
            "[1.0 - 4.43471156521669*I, 1.0 + 4.43471156521669*I]\n",
            "value of c is [1.0 - 4.43471156521669*I, 1.0 + 4.43471156521669*I]\n",
            "It lies between a and b 5.0 2.0\n"
          ]
        },
        {
          "output_type": "display_data",
          "data": {
            "text/plain": [
              "<Figure size 640x480 with 1 Axes>"
            ],
            "image/png": "[encoded data removed]"
          },
          "metadata": {}
        },
        {
          "output_type": "execute_result",
          "data": {
            "text/plain": [
              "<sympy.plotting.plot.Plot at 0x7f649caa4b20>"
            ]
          },
          "metadata": {},
          "execution_count": 5
        }
      ]
    },
    {
      "cell_type": "markdown",
      "source": [
        "**3.2.2.2 General Case**\n",
        "\n",
        "**Definition 3.2.11 (Partial derivative)** Let *f* : *D* → ℝ where *d* ⊆ ℝ$^{d}$ and let **x**$_{0}$ ∈ *D* be an interior point of *D*. The partial derivative of *f* at **x**$_{0}$ with repsect to *x*$_{i}$ is\n",
        "\\begin{align}\n",
        "\\frac{∂f(x_0)} {∂x_i} = \\lim_{h→0} \\frac{f(\\mathbf{x_0}+h\\mathbf{e_i})-f(x_0)} {h}\n",
        "\\end{align}\n",
        "provided the limit exists. If $\\frac{∂f(x_{0})}{∂x_i}$ exists and is continuous in an open ball around **x$_{0}$** for all *i*, then we say that *f* continuously differentiable at **x**$_{0}$."
      ],
      "metadata": {
        "id": "JmnT6E_b0XeO"
      }
    },
    {
      "cell_type": "code",
      "source": [
        "from sympy import Symbol, Derivative\n",
        "x = Symbol('x')\n",
        "y = Symbol('y')\n",
        "function = x**2 * y**3 + 12*y**4\n",
        "\n",
        "partialderiv = Derivative(function,y)\n",
        "partialderiv.doit()"
      ],
      "metadata": {
        "colab": {
          "base_uri": "https://localhost:8080/",
          "height": 39
        },
        "id": "aCNQx6Sia88J",
        "outputId": "b21a013b-2dcd-4afd-8f3f-279749e78b46"
      },
      "execution_count": 1,
      "outputs": [
        {
          "output_type": "execute_result",
          "data": {
            "text/plain": [
              "3*x**2*y**2 + 48*y**3"
            ],
            "text/latex": "$\\displaystyle 3 x^{2} y^{2} + 48 y^{3}$"
          },
          "metadata": {},
          "execution_count": 1
        }
      ]
    },
    {
      "cell_type": "markdown",
      "source": [
        "**Definition 3.2.12 (Jacobian)** Let **f** = (*f$_{1}$,...,f$_{m}$*) : *D* → ℝ$^{m}$ where *D* ⊆ ℝ$^{d}$ and let **x**$_{0}$ ∈ *D* be an interior point of *D* where $\\frac{∂f_i(x_{0})}{∂x_i}$ exists for all *i,j*. The Jacobian of **f** at **x**$_{0}$ is the *d* 𝖷 *m* matrix\n",
        "\\begin{align}\n",
        "\\mathbf{J_f(x_0)} =\n",
        "\\begin{pmatrix}\n",
        "\\frac{∂f_1(\\mathbf{x}_0)}{∂x_{1}} & ... & \\frac{∂f_1(\\mathbf{x}_0)}{∂x_{d}} \\\\\n",
        "⋯ & ⋯ & ⋯ \\\\\n",
        "\\frac{∂f_m(\\mathbf{x}_0)}{∂x_{1}} & ... &\n",
        "\\frac{∂f_m(\\mathbf{x}_0)}{∂x_{d}}\n",
        "\\end{pmatrix}\n",
        "\\end{align}\n",
        "For a real-valued function *f* : *D* → ℝ, the Jacobian reduces to the row vector **J**$_{f}$(**x**$_{0}$) = ▽*f*(**x**$_{0}$)$^{T}$ where the vector\n",
        "\\begin{align}\n",
        "▽f(\\mathbf{x}_0)=\n",
        "\\begin{pmatrix}\n",
        "\\frac{∂f(\\mathbf{x}_0)}{∂x_{i}}, & ... & \\frac{∂f(\\mathbf{x}_0)}{∂x_{d}}\n",
        "\\end{pmatrix}^{T}\n",
        "\\end{align}\n",
        "is the gradient of *f* at **x**$_{0}$."
      ],
      "metadata": {
        "id": "h6tAljWUbxzf"
      }
    },
    {
      "cell_type": "code",
      "source": [
        "import autograd.numpy as np\n",
        "from autograd import grad, jacobian\n",
        "\n",
        "x = np.array([5,3], dtype=float)\n",
        "\n",
        "def cost(x):\n",
        "  return x[0]**2 / x[1] - np.log(x[1])\n",
        "\n",
        "gradient_cost = grad(cost)\n",
        "jacobian_cost = jacobian(cost)\n",
        "\n",
        "gradient_cost(x)\n",
        "jacobian_cost(np.array([x,x,x]))"
      ],
      "metadata": {
        "colab": {
          "base_uri": "https://localhost:8080/"
        },
        "id": "nYXTg7FuiUOt",
        "outputId": "2158897b-fa1b-49d0-fa03-eeaee921e6f8"
      },
      "execution_count": 2,
      "outputs": [
        {
          "output_type": "execute_result",
          "data": {
            "text/plain": [
              "array([[[ 2.        ,  0.        ],\n",
              "        [-1.2       ,  0.        ],\n",
              "        [ 0.        ,  0.        ]],\n",
              "\n",
              "       [[ 0.        ,  2.        ],\n",
              "        [ 0.        , -1.33333333],\n",
              "        [ 0.        ,  0.        ]]])"
            ]
          },
          "metadata": {},
          "execution_count": 2
        }
      ]
    },
    {
      "cell_type": "code",
      "source": [
        "from sympy import sin, cos, Matrix\n",
        "from sympy.abc import rho, phi\n",
        "\n",
        "X = Matrix([rho*cos(phi), rho*sin(phi), rho**2])\n",
        "Y = Matrix([rho, phi])\n",
        "\n",
        "X.jacobian(Y)"
      ],
      "metadata": {
        "colab": {
          "base_uri": "https://localhost:8080/",
          "height": 78
        },
        "id": "6yOgP1cVivG3",
        "outputId": "f979c23a-7af1-4b11-87bc-57aaa4884054"
      },
      "execution_count": 3,
      "outputs": [
        {
          "output_type": "execute_result",
          "data": {
            "text/plain": [
              "Matrix([\n",
              "[cos(phi), -rho*sin(phi)],\n",
              "[sin(phi),  rho*cos(phi)],\n",
              "[   2*rho,             0]])"
            ],
            "text/latex": "$\\displaystyle \\left[\\begin{matrix}\\cos{\\left(\\phi \\right)} & - \\rho \\sin{\\left(\\phi \\right)}\\\\\\sin{\\left(\\phi \\right)} & \\rho \\cos{\\left(\\phi \\right)}\\\\2 \\rho & 0\\end{matrix}\\right]$"
          },
          "metadata": {},
          "execution_count": 3
        }
      ]
    },
    {
      "cell_type": "markdown",
      "source": [
        "**Theorem 3.2.15 (Chain Rule)** Let **f**: *D$_{1}$* → ℝ$^{m}$, where *D$_{1}$* ⊆ ℝ$^{d}$ and let **g**: *D$_{2}$* → ℝ$^{p}$, where *D$_{2}$* ⊆ ℝ$^{m}$. Assume that **f** is continuously differentiable at **x**$_{0}$, an interior point of *D*$_{1}$, and that **g** is continuously differentiable at **f(x$_{0}$)**, an interior point of *D$_{2}$*. Then\n",
        "\\begin{align}\n",
        "\\mathbf{J_{g∘f}(x_0)} = \\mathbf{J_{g}(f(x_{0}))J_{f}(x_0)}\n",
        "\\end{align}\n",
        "as a product of matrices.\n",
        "\n",
        "**3.2.2.3 Further Derivative**\n",
        "\n",
        "**Definition 3.2.16 (Directional Derivative)** Let *f* : *D* → ℝ$^{d}$, let **x**$_{0}$ ∈ *D* be an interior point of *D* and let **v** ∈ ℝ$^{d}$ be a unit vector. The directional derivative of *f* at **x**$_{0}$ in the direction **v** is\n",
        "\n",
        "\\begin{align}\n",
        "\\frac{∂f(x_0)} {∂e_i} = \\lim_{h→0} \\frac{f(\\mathbf{x_0}+h\\mathbf{e_i})-f(x_0)} {h} = \\frac{∂f(\\mathbf{x}_0)}{∂x_i}\n",
        "\\end{align}\n",
        "\n",
        "Conversely, a general directional derivative can be expressed in terms of the partial derivatives.\n",
        "\n",
        "**Theorem 3.2.17 (Directional Derivative from Gradient)** Let *f* : *D* → ℝ where *D* ⊆ ℝ$^{d}$, let **x**$_{0}$ ∈ *D* be an interior point of *D* and let **v** ∈ ℝ$^{d}$ be a unit vector. Assume that *f* is continuously differentiable at **x**$_{0}$. Then the directional derivative of *f* at **x**$_{0}$ in the direction **v** is given by\n",
        "\\begin{align}\n",
        "\\frac{∂f(\\mathbf{x_0})}{∂\\mathbf{v}} = \\mathbf{J}_f(\\mathbf{x}_0)\\mathbf{v} = ▽f(\\mathbf{x}_{0})^{T}\\mathbf{v}.\n",
        "\\end{align}\n",
        "\n",
        "**Definition 3.2.18 (Second Partial Derivatives and Hessian)** Let *f* : *D* → ℝ where *D* ⊆ ℝ$^{d}$ and let **x**$_{0}$ ∈ *D* be an interior point of *D*. Assume that *f* is continuously differentiable in an open ball around **x**$_{0}$. The ∂f(**x**)/∂x$_{i}$ is itself a function of **x** and its partial derivative with respect to *x*$_{j}$, if it exists, is denoted by\n",
        "\\begin{align}\n",
        "\\frac{∂^{2}f(\\mathbf{x_0})}{∂x_{j}∂x_{i}} = \\lim_{h→0} \\frac{∂f(\\mathbf{x_0}+h\\mathbf{e_j})/∂x_{i}-\\partial f(x_0)/∂x_i} {h}\n",
        "\\end{align}\n",
        "\n",
        "**Theorem 3.2.19 (Symmetry of the Hessian)** Let *f* : *D* → ℝ where *D* ⊆ ℝ$^{d}$ and let **x**$_{0}$ ∈ *D* be an interior point of *D*. Assume that *f* is twice continuously differentiable at **x**$_{0}$. Then for all i != j,\n",
        "\\begin{align}\n",
        "\\frac{∂^{2}f(\\mathbf{x_0})}{∂x_{j}∂x_{i}}  = \\frac{∂^{2}f(\\mathbf{x_0})}{∂x_{i}∂x_{j}}.\n",
        "\\end{align}\n"
      ],
      "metadata": {
        "id": "dA0ABU7mlIX-"
      }
    },
    {
      "cell_type": "code",
      "source": [
        "!pip install algopy"
      ],
      "metadata": {
        "colab": {
          "base_uri": "https://localhost:8080/"
        },
        "id": "jM7iTyxk6lDE",
        "outputId": "e61eb3c5-e02c-47ee-d223-bbef14d991c8"
      },
      "execution_count": 4,
      "outputs": [
        {
          "output_type": "stream",
          "name": "stdout",
          "text": [
            "Collecting algopy\n",
            "  Downloading algopy-0.5.7.zip (189 kB)\n",
            "\u001b[?25l     \u001b[90m━━━━━━━━━━━━━━━━━━━━━━━━━━━━━━━━━━━━━━━━\u001b[0m \u001b[32m0.0/189.5 kB\u001b[0m \u001b[31m?\u001b[0m eta \u001b[36m-:--:--\u001b[0m\r\u001b[2K     \u001b[91m━━━━━━━━━━━━━━━━━━━━━━━━━━━━━━━━━━━━━\u001b[0m\u001b[91m╸\u001b[0m\u001b[90m━\u001b[0m \u001b[32m184.3/189.5 kB\u001b[0m \u001b[31m5.6 MB/s\u001b[0m eta \u001b[36m0:00:01\u001b[0m\r\u001b[2K     \u001b[90m━━━━━━━━━━━━━━━━━━━━━━━━━━━━━━━━━━━━━━━\u001b[0m \u001b[32m189.5/189.5 kB\u001b[0m \u001b[31m3.5 MB/s\u001b[0m eta \u001b[36m0:00:00\u001b[0m\n",
            "\u001b[?25h  Preparing metadata (setup.py) ... \u001b[?25l\u001b[?25hdone\n",
            "Building wheels for collected packages: algopy\n",
            "  Building wheel for algopy (setup.py) ... \u001b[?25l\u001b[?25hdone\n",
            "  Created wheel for algopy: filename=algopy-0.5.7-py3-none-any.whl size=107608 sha256=52f01eeeccb23979d5509ac137924ada266aeb4d80d49ff6df5e00011fbbe0b1\n",
            "  Stored in directory: /root/.cache/pip/wheels/06/0d/9b/846484b1591373afd5d8a7756094675963a738328b5fac8543\n",
            "Successfully built algopy\n",
            "Installing collected packages: algopy\n",
            "Successfully installed algopy-0.5.7\n"
          ]
        }
      ]
    },
    {
      "cell_type": "code",
      "source": [
        "import numpy, algopy\n",
        "from algopy import UTPM, exp\n",
        "\n",
        "def eval_f(x):\n",
        "  return x[0]*x[1]*x[2] + exp(x[0])*x[1]\n",
        "\n",
        "x = UTPM.init_jacobian([3,5,7])\n",
        "y = eval_f(x)\n",
        "algopy_jacobian = UTPM.extract_jacobian(y)\n",
        "print('jacobian = ', algopy_jacobian)\n",
        "\n",
        "# Step 1: trace the function evaluation\n",
        "cg = algopy.CGraph()\n",
        "x = algopy.Function([1,2,3])\n",
        "y = eval_f(x)\n",
        "cg.trace_off()\n",
        "cg.independentFunctionList = [x]\n",
        "cg.dependentFunctionList = [y]\n",
        "\n",
        "# Step 2: Evaluate the derivatives\n",
        "print('gradient =', cg.gradient([3.,5,7]))\n",
        "print('Jacobian =', cg.jacobian([3.,5,7]))\n",
        "print('Hessian =', cg.hessian([3.,5.,7.]))\n",
        "print('Hessian vector product =', cg.hess_vec([3.,5.,7.],[4,5,6]))\n"
      ],
      "metadata": {
        "colab": {
          "base_uri": "https://localhost:8080/"
        },
        "id": "ybDb5Rpr6p0S",
        "outputId": "9524a6db-7389-4109-ab3c-518caded3332"
      },
      "execution_count": 9,
      "outputs": [
        {
          "output_type": "stream",
          "name": "stdout",
          "text": [
            "jacobian =  [135.42768462  41.08553692  15.        ]\n",
            "gradient = [array([135.42768462,  41.08553692,  15.        ])]\n",
            "Jacobian = [[135.42768462  41.08553692  15.        ]]\n",
            "Hessian = [[100.42768462  27.08553692   5.        ]\n",
            " [ 27.08553692   0.           3.        ]\n",
            " [  5.           3.           0.        ]]\n",
            "Hessian vector product = [567.13842308 126.34214769  35.        ]\n"
          ]
        }
      ]
    },
    {
      "cell_type": "markdown",
      "source": [
        "##**3.2.3 Taylor's Theorem**\n",
        "**Theorem 3.2.21 (Taylor)** Let *f* : *D* → ℝ where *D* ⊆ ℝ. Suppose *f* has a *m* times continuous derivative on [a,b]. Then\n",
        "\\begin{align}\n",
        "f(b) = f(a) + (b-a)f'(a) + \\frac{1}{2}(b-a)^{2}f''(a)+...+\\frac{(b-a)^{m-1}}{(m-1)!}f^{(m-1)}(a) + R_m,\n",
        "\\end{align}\n",
        "\n",
        "where *R$_{m}$* = $\\frac{(b-a)^{m}}{(m)!}$*f*$^{(m)}$(a+θ (b-a)) for some 0 < θ  < 1. In particular, for *m* = 2, we have\n",
        "\\begin{align}\n",
        "f(b)=f(a)+(b-a)f'(a)+\\frac{1}{2}(b-a)^2f''(ξ )\n",
        "\\end{align}\n",
        "for some *a* < ξ  < *b*\n",
        "\n",
        "**Theorem 3.2.22 (Multivariate Mean Value)** Let *f* : *D* → ℝ where *D* ⊆ ℝ$^{d}$. Let **x**$_{0}$ ∈ *D* and δ > 0 be such that *B*$_{δ}$(**x**$_{0}$) ⊆ *D*. If *f* is continuously differentiable on *B*$_{δ}$(**x**$_{0}$), then for any **x** ∈ *B*$_{δ}$(**x**$_{0}$)\n",
        "\\begin{align}\n",
        "f(\\mathbf{x}) = f(\\mathbf{x}_0)+ ∇f(\\mathbf{x}_0+ ξ\\mathbf{p})^{T}\\mathbf{p}\n",
        "\\end{align}\n",
        "for some ξ ∈ (0,1), where **p** = **x** - **x**$_{0}$\n",
        "\n",
        "**Theorem 3.2.23 (Multivariate Taylor)** Let *f* : *D* → ℝ where *D* ⊆ ℝ$^{d}$. Let **x**$_{0}$ ∈ *D* and δ > 0 be such that *B*$_{δ}$(**x**$_{0}$) ⊆ *D*. If *f* is three times continuously differentiable on *B*$_{δ}$(**x**$_{0}$), then for any **x** ∈ *B*$_{δ}$(**x**$_{0}$)\n",
        "\\begin{align}\n",
        "f(\\mathbf{x}) = f(\\mathbf{x}_0) + ∇f(\\mathbf{x}_0)^{T}\\mathbf{p} + \\frac{1}{2}\\mathbf{p}^{T}\\mathbf{H}_f(\\mathbf{x}_0)\\mathbf{p}+O(||\\mathbf{p}||^3),\n",
        "\\end{align}\n",
        "where **p** = **x** - **x**$_{0}$\n",
        "\n",
        "\n",
        "If *f* is twice continuously differentiable on *B*$_{δ}$(**x**$_{0}$), then for any **x** ∈ *B*$_{δ}$(**x**$_{0}$)\n",
        "\\begin{align}\n",
        "f(\\mathbf{x}) = f(\\mathbf{x}_0) + ∇f(\\mathbf{x}_0)^{T}\\mathbf{p} + \\frac{1}{2}\\mathbf{p}^{T}\\mathbf{H}_f(\\mathbf{x}_0+ξ\\mathbf{p})\\mathbf{p}\n",
        "\\end{align}\n",
        "for some ξ ∈ (0,1), where **p** = **x** - **x**$_{0}$"
      ],
      "metadata": {
        "id": "D9TLI76i74cz"
      }
    },
    {
      "cell_type": "code",
      "source": [
        "import sympy as sy\n",
        "from sympy.matrices import *\n",
        "x, t, a, h, k = sy.symbols('x t a h k')\n",
        "x0, t0 = sy.symbols('x_0, t_0')\n",
        "\n",
        "v = sy.Function('v')(x, t)\n",
        "X = Matrix([x,t])\n",
        "dX = Matrix([h,k])\n",
        "sy.init_printing()"
      ],
      "metadata": {
        "id": "hhp2XVHrAJXt"
      },
      "execution_count": 1,
      "outputs": []
    },
    {
      "cell_type": "code",
      "source": [
        "dX"
      ],
      "metadata": {
        "colab": {
          "base_uri": "https://localhost:8080/",
          "height": 58
        },
        "id": "nczFSmFBSxhU",
        "outputId": "c1f8da62-69a1-45eb-b5b7-e6fdac9e662d"
      },
      "execution_count": 2,
      "outputs": [
        {
          "output_type": "execute_result",
          "data": {
            "text/plain": [
              "⎡h⎤\n",
              "⎢ ⎥\n",
              "⎣k⎦"
            ],
            "text/latex": "$\\displaystyle \\left[\\begin{matrix}h\\\\k\\end{matrix}\\right]$"
          },
          "metadata": {},
          "execution_count": 2
        }
      ]
    },
    {
      "cell_type": "code",
      "source": [
        "X"
      ],
      "metadata": {
        "colab": {
          "base_uri": "https://localhost:8080/",
          "height": 58
        },
        "id": "WAjG-6axSzTk",
        "outputId": "5cc289bf-e3c6-4cea-cdbc-475cb996c79a"
      },
      "execution_count": 3,
      "outputs": [
        {
          "output_type": "execute_result",
          "data": {
            "text/plain": [
              "⎡x⎤\n",
              "⎢ ⎥\n",
              "⎣t⎦"
            ],
            "text/latex": "$\\displaystyle \\left[\\begin{matrix}x\\\\t\\end{matrix}\\right]$"
          },
          "metadata": {},
          "execution_count": 3
        }
      ]
    },
    {
      "cell_type": "code",
      "source": [
        "TE = 0\n",
        "v0 = v\n",
        "for idx, x in enumerate(X):\n",
        "  v0 = v0.subs(x, 0)\n",
        "TE += v0\n",
        "TE"
      ],
      "metadata": {
        "colab": {
          "base_uri": "https://localhost:8080/",
          "height": 39
        },
        "id": "s_0tfvVnS0zp",
        "outputId": "073d9c3f-b10c-47b4-ea6b-f204aa0df3bb"
      },
      "execution_count": 4,
      "outputs": [
        {
          "output_type": "execute_result",
          "data": {
            "text/plain": [
              "v(0, 0)"
            ],
            "text/latex": "$\\displaystyle v{\\left(0,0 \\right)}$"
          },
          "metadata": {},
          "execution_count": 4
        }
      ]
    },
    {
      "cell_type": "code",
      "source": [
        "# The first order term\n",
        "gradV = Matrix([v.diff(xi,1) for xi in X])\n",
        "gradV"
      ],
      "metadata": {
        "colab": {
          "base_uri": "https://localhost:8080/",
          "height": 59
        },
        "id": "9RxSXdnoTEw1",
        "outputId": "9319f419-e153-4d03-a02d-b59ff696d52d"
      },
      "execution_count": 5,
      "outputs": [
        {
          "output_type": "execute_result",
          "data": {
            "text/plain": [
              "⎡∂          ⎤\n",
              "⎢──(v(x, t))⎥\n",
              "⎢∂x         ⎥\n",
              "⎢           ⎥\n",
              "⎢∂          ⎥\n",
              "⎢──(v(x, t))⎥\n",
              "⎣∂t         ⎦"
            ],
            "text/latex": "$\\displaystyle \\left[\\begin{matrix}\\frac{\\partial}{\\partial x} v{\\left(x,t \\right)}\\\\\\frac{\\partial}{\\partial t} v{\\left(x,t \\right)}\\end{matrix}\\right]$"
          },
          "metadata": {},
          "execution_count": 5
        }
      ]
    },
    {
      "cell_type": "code",
      "source": [
        "firstTerm = gradV.T*dX\n",
        "TE += sum(firstTerm)\n",
        "firstTerm[0]"
      ],
      "metadata": {
        "colab": {
          "base_uri": "https://localhost:8080/",
          "height": 52
        },
        "id": "pjQ8JYZkTE2Y",
        "outputId": "07e016eb-57fe-4eb2-bc0a-b1d42e88dd08"
      },
      "execution_count": 6,
      "outputs": [
        {
          "output_type": "execute_result",
          "data": {
            "text/plain": [
              "  ∂               ∂          \n",
              "h⋅──(v(x, t)) + k⋅──(v(x, t))\n",
              "  ∂x              ∂t         "
            ],
            "text/latex": "$\\displaystyle h \\frac{\\partial}{\\partial x} v{\\left(x,t \\right)} + k \\frac{\\partial}{\\partial t} v{\\left(x,t \\right)}$"
          },
          "metadata": {},
          "execution_count": 6
        }
      ]
    },
    {
      "cell_type": "code",
      "source": [
        "def factorial(n):\n",
        "  if n<= 0:\n",
        "    return 1\n",
        "  else:\n",
        "    return n * factorial(n-1)\n",
        "tsOrderGroup = lambda f, X, n: dX.T * Matrix([f.diff(xi,1) for xi in X]) / factorial(n)\n",
        "grad = tsOrderGroup(v, X, 1).T\n",
        "fir = grad\n",
        "sum(fir)"
      ],
      "metadata": {
        "colab": {
          "base_uri": "https://localhost:8080/",
          "height": 52
        },
        "id": "eSYVZ863TUk2",
        "outputId": "e88d4358-74ec-4fd9-fe92-4f34ef0f1906"
      },
      "execution_count": 7,
      "outputs": [
        {
          "output_type": "execute_result",
          "data": {
            "text/plain": [
              "  ∂               ∂          \n",
              "h⋅──(v(x, t)) + k⋅──(v(x, t))\n",
              "  ∂x              ∂t         "
            ],
            "text/latex": "$\\displaystyle h \\frac{\\partial}{\\partial x} v{\\left(x,t \\right)} + k \\frac{\\partial}{\\partial t} v{\\left(x,t \\right)}$"
          },
          "metadata": {},
          "execution_count": 7
        }
      ]
    },
    {
      "cell_type": "code",
      "source": [
        "# The second order term\n",
        "sy.hessian(v, X)\n",
        "secondTerm = .5*dX.T*sy.hessian(v,X)*dX\n",
        "TE += sum(secondTerm)\n",
        "sy.simplify(sum(secondTerm))"
      ],
      "metadata": {
        "colab": {
          "base_uri": "https://localhost:8080/",
          "height": 54
        },
        "id": "IR2uh_9DTr7d",
        "outputId": "c4b592f4-502f-448c-8353-bc636f4440dd"
      },
      "execution_count": 8,
      "outputs": [
        {
          "output_type": "execute_result",
          "data": {
            "text/plain": [
              "         2                       2                      2         \n",
              "     2  ∂                       ∂                   2  ∂          \n",
              "0.5⋅h ⋅───(v(x, t)) + 1.0⋅h⋅k⋅─────(v(x, t)) + 0.5⋅k ⋅───(v(x, t))\n",
              "         2                    ∂x ∂t                     2         \n",
              "       ∂x                                             ∂t          "
            ],
            "text/latex": "$\\displaystyle 0.5 h^{2} \\frac{\\partial^{2}}{\\partial x^{2}} v{\\left(x,t \\right)} + 1.0 h k \\frac{\\partial^{2}}{\\partial x\\partial t} v{\\left(x,t \\right)} + 0.5 k^{2} \\frac{\\partial^{2}}{\\partial t^{2}} v{\\left(x,t \\right)}$"
          },
          "metadata": {},
          "execution_count": 8
        }
      ]
    },
    {
      "cell_type": "code",
      "source": [
        "gNext = Matrix([tsOrderGroup(dv, X, 2) for dv in grad * factorial(2-1)])\n",
        "sy.simplify(sum(gNext))"
      ],
      "metadata": {
        "colab": {
          "base_uri": "https://localhost:8080/",
          "height": 58
        },
        "id": "JrlRMZ4iT7Re",
        "outputId": "447f90ca-7445-4b87-b1e4-150c92284b7e"
      },
      "execution_count": 9,
      "outputs": [
        {
          "output_type": "execute_result",
          "data": {
            "text/plain": [
              "     2                                      2         \n",
              " 2  ∂                                   2  ∂          \n",
              "h ⋅───(v(x, t))                        k ⋅───(v(x, t))\n",
              "     2                   2                  2         \n",
              "   ∂x                   ∂                 ∂t          \n",
              "─────────────── + h⋅k⋅─────(v(x, t)) + ───────────────\n",
              "       2              ∂x ∂t                   2       "
            ],
            "text/latex": "$\\displaystyle \\frac{h^{2} \\frac{\\partial^{2}}{\\partial x^{2}} v{\\left(x,t \\right)}}{2} + h k \\frac{\\partial^{2}}{\\partial x\\partial t} v{\\left(x,t \\right)} + \\frac{k^{2} \\frac{\\partial^{2}}{\\partial t^{2}} v{\\left(x,t \\right)}}{2}$"
          },
          "metadata": {},
          "execution_count": 9
        }
      ]
    },
    {
      "cell_type": "code",
      "source": [
        "# The remaining term\n",
        "gNext = Matrix([tsOrderGroup(dv, X, 3) for dv in gNext * factorial(3-1)])\n",
        "TE += sum(gNext)\n",
        "sy.simplify(sum(gNext))"
      ],
      "metadata": {
        "colab": {
          "base_uri": "https://localhost:8080/",
          "height": 58
        },
        "id": "i9lZVD7SUGzQ",
        "outputId": "29fe7ba0-6b20-47eb-b5c1-fff6fe0aba62"
      },
      "execution_count": 10,
      "outputs": [
        {
          "output_type": "execute_result",
          "data": {
            "text/plain": [
              "     3                    3                      3                   3        \n",
              " 3  ∂              2     ∂                  2   ∂                3  ∂         \n",
              "h ⋅───(v(x, t))   h ⋅k⋅──────(v(x, t))   h⋅k ⋅──────(v(x, t))   k ⋅───(v(x, t)\n",
              "     3                   2                         2                 3        \n",
              "   ∂x                  ∂x  ∂t                 ∂x ∂t                ∂t         \n",
              "─────────────── + ──────────────────── + ──────────────────── + ──────────────\n",
              "       6                   2                      2                    6      \n",
              "\n",
              " \n",
              " \n",
              ")\n",
              " \n",
              " \n",
              "─\n",
              " "
            ],
            "text/latex": "$\\displaystyle \\frac{h^{3} \\frac{\\partial^{3}}{\\partial x^{3}} v{\\left(x,t \\right)}}{6} + \\frac{h^{2} k \\frac{\\partial^{3}}{\\partial x^{2}\\partial t} v{\\left(x,t \\right)}}{2} + \\frac{h k^{2} \\frac{\\partial^{3}}{\\partial x\\partial t^{2}} v{\\left(x,t \\right)}}{2} + \\frac{k^{3} \\frac{\\partial^{3}}{\\partial t^{3}} v{\\left(x,t \\right)}}{6}$"
          },
          "metadata": {},
          "execution_count": 10
        }
      ]
    },
    {
      "cell_type": "code",
      "source": [
        "TE += sy.O(h**4) + sy.O(k**4)\n",
        "sy.simplify(TE)"
      ],
      "metadata": {
        "colab": {
          "base_uri": "https://localhost:8080/",
          "height": 128
        },
        "id": "kznOlqRmUWYf",
        "outputId": "cc9d8ed0-8b5e-44a0-88d7-8da0ce22248a"
      },
      "execution_count": 11,
      "outputs": [
        {
          "output_type": "execute_result",
          "data": {
            "text/plain": [
              "                                           2                                  \n",
              "                    ∂                  2  ∂                                3  \n",
              "1.0⋅v(0, 0) + 1.0⋅k⋅──(v(x, t)) + 0.5⋅k ⋅───(v(x, t)) + 0.166666666666667⋅k ⋅─\n",
              "                    ∂t                     2                                  \n",
              "                                         ∂t                                  ∂\n",
              "\n",
              " 3                                           2                         3      \n",
              "∂                   ∂                       ∂                     2   ∂       \n",
              "──(v(x, t)) + 1.0⋅h⋅──(v(x, t)) + 1.0⋅h⋅k⋅─────(v(x, t)) + 0.5⋅h⋅k ⋅──────(v(x\n",
              " 3                  ∂x                    ∂x ∂t                          2    \n",
              "t                                                                   ∂x ∂t     \n",
              "\n",
              "                 2                        3                                   \n",
              "             2  ∂                  2     ∂                                  3 \n",
              ", t)) + 0.5⋅h ⋅───(v(x, t)) + 0.5⋅h ⋅k⋅──────(v(x, t)) + 0.166666666666667⋅h ⋅\n",
              "                 2                       2                                    \n",
              "               ∂x                      ∂x  ∂t                                 \n",
              "\n",
              "  3                         \n",
              " ∂              ⎛ 4⎞    ⎛ 4⎞\n",
              "───(v(x, t)) + O⎝k ⎠ + O⎝h ⎠\n",
              "  3                         \n",
              "∂x                          "
            ],
            "text/latex": "$\\displaystyle 1.0 v{\\left(0,0 \\right)} + 1.0 k \\frac{\\partial}{\\partial t} v{\\left(x,t \\right)} + 0.5 k^{2} \\frac{\\partial^{2}}{\\partial t^{2}} v{\\left(x,t \\right)} + 0.166666666666667 k^{3} \\frac{\\partial^{3}}{\\partial t^{3}} v{\\left(x,t \\right)} + 1.0 h \\frac{\\partial}{\\partial x} v{\\left(x,t \\right)} + 1.0 h k \\frac{\\partial^{2}}{\\partial x\\partial t} v{\\left(x,t \\right)} + 0.5 h k^{2} \\frac{\\partial^{3}}{\\partial x\\partial t^{2}} v{\\left(x,t \\right)} + 0.5 h^{2} \\frac{\\partial^{2}}{\\partial x^{2}} v{\\left(x,t \\right)} + 0.5 h^{2} k \\frac{\\partial^{3}}{\\partial x^{2}\\partial t} v{\\left(x,t \\right)} + 0.166666666666667 h^{3} \\frac{\\partial^{3}}{\\partial x^{3}} v{\\left(x,t \\right)} + O\\left(k^{4}\\right) + O\\left(h^{4}\\right)$"
          },
          "metadata": {},
          "execution_count": 11
        }
      ]
    },
    {
      "cell_type": "code",
      "source": [
        "TE.removeO()"
      ],
      "metadata": {
        "colab": {
          "base_uri": "https://localhost:8080/",
          "height": 197
        },
        "id": "7n53f7ewUex0",
        "outputId": "e005bab0-f807-403d-b020-32e001e936cb"
      },
      "execution_count": 13,
      "outputs": [
        {
          "output_type": "execute_result",
          "data": {
            "text/plain": [
              "  ⎛  ⎛    3                 3           ⎞     ⎛     3                   3     \n",
              "  ⎜  ⎜   ∂                 ∂            ⎟     ⎜    ∂                   ∂      \n",
              "h⋅⎜h⋅⎜h⋅───(v(x, t)) + k⋅──────(v(x, t))⎟ + k⋅⎜h⋅──────(v(x, t)) + k⋅──────(v(\n",
              "  ⎜  ⎜    3                2            ⎟     ⎜    2                      2   \n",
              "  ⎝  ⎝  ∂x               ∂x  ∂t         ⎠     ⎝  ∂x  ∂t              ∂x ∂t    \n",
              "──────────────────────────────────────────────────────────────────────────────\n",
              "                                          6                                   \n",
              "                                                                              \n",
              "\n",
              "      ⎞⎞                                                                     ⎛\n",
              "      ⎟⎟                                                                     ⎜\n",
              "x, t))⎟⎟                                                                   k⋅⎜\n",
              "      ⎟⎟     ⎛        2                     2          ⎞                     ⎜\n",
              "      ⎠⎠     ⎜       ∂                     ∂           ⎟     ∂               ⎝\n",
              "──────── + h⋅⎜0.5⋅h⋅───(v(x, t)) + 0.5⋅k⋅─────(v(x, t))⎟ + h⋅──(v(x, t)) + ───\n",
              "             ⎜        2                  ∂x ∂t         ⎟     ∂x               \n",
              "             ⎝      ∂x                                 ⎠                      \n",
              "\n",
              "  ⎛     3                   3           ⎞     ⎛     3                  3      \n",
              "  ⎜    ∂                   ∂            ⎟     ⎜    ∂                  ∂       \n",
              "h⋅⎜h⋅──────(v(x, t)) + k⋅──────(v(x, t))⎟ + k⋅⎜h⋅──────(v(x, t)) + k⋅───(v(x, \n",
              "  ⎜    2                      2         ⎟     ⎜       2                3      \n",
              "  ⎝  ∂x  ∂t              ∂x ∂t          ⎠     ⎝  ∂x ∂t               ∂t       \n",
              "──────────────────────────────────────────────────────────────────────────────\n",
              "                                       6                                      \n",
              "                                                                              \n",
              "\n",
              "   ⎞⎞                                                                         \n",
              "   ⎟⎟                                                                         \n",
              "t))⎟⎟                                                                         \n",
              "   ⎟⎟     ⎛         2                     2         ⎞                         \n",
              "   ⎠⎠     ⎜        ∂                     ∂          ⎟     ∂                   \n",
              "───── + k⋅⎜0.5⋅h⋅─────(v(x, t)) + 0.5⋅k⋅───(v(x, t))⎟ + k⋅──(v(x, t)) + v(0, 0\n",
              "          ⎜      ∂x ∂t                    2         ⎟     ∂t                  \n",
              "          ⎝                             ∂t          ⎠                         \n",
              "\n",
              " \n",
              " \n",
              " \n",
              " \n",
              " \n",
              ")\n",
              " \n",
              " "
            ],
            "text/latex": "$\\displaystyle \\frac{h \\left(h \\left(h \\frac{\\partial^{3}}{\\partial x^{3}} v{\\left(x,t \\right)} + k \\frac{\\partial^{3}}{\\partial x^{2}\\partial t} v{\\left(x,t \\right)}\\right) + k \\left(h \\frac{\\partial^{3}}{\\partial x^{2}\\partial t} v{\\left(x,t \\right)} + k \\frac{\\partial^{3}}{\\partial x\\partial t^{2}} v{\\left(x,t \\right)}\\right)\\right)}{6} + h \\left(0.5 h \\frac{\\partial^{2}}{\\partial x^{2}} v{\\left(x,t \\right)} + 0.5 k \\frac{\\partial^{2}}{\\partial x\\partial t} v{\\left(x,t \\right)}\\right) + h \\frac{\\partial}{\\partial x} v{\\left(x,t \\right)} + \\frac{k \\left(h \\left(h \\frac{\\partial^{3}}{\\partial x^{2}\\partial t} v{\\left(x,t \\right)} + k \\frac{\\partial^{3}}{\\partial x\\partial t^{2}} v{\\left(x,t \\right)}\\right) + k \\left(h \\frac{\\partial^{3}}{\\partial x\\partial t^{2}} v{\\left(x,t \\right)} + k \\frac{\\partial^{3}}{\\partial t^{3}} v{\\left(x,t \\right)}\\right)\\right)}{6} + k \\left(0.5 h \\frac{\\partial^{2}}{\\partial x\\partial t} v{\\left(x,t \\right)} + 0.5 k \\frac{\\partial^{2}}{\\partial t^{2}} v{\\left(x,t \\right)}\\right) + k \\frac{\\partial}{\\partial t} v{\\left(x,t \\right)} + v{\\left(0,0 \\right)}$"
          },
          "metadata": {},
          "execution_count": 13
        }
      ]
    },
    {
      "cell_type": "code",
      "source": [
        "def myTaylorSeries(v, nOrder, X, dX):\n",
        "  TE = 0\n",
        "  v0 = v\n",
        "  for idx, x in enumerate(X):\n",
        "    v0 = v0.subs(x, 0)\n",
        "    TE += sy.O(x**(nOrder+1))\n",
        "  TE += v0\n",
        "  tsOrderGroup = lambda f, X, n: dX.T * Matrix([f.diff(xi,1) for xi in X])\n",
        "  grad = tsOrderGroup(v, X, 1).T\n",
        "  TE += sum(grad)\n",
        "  gNext = grad\n",
        "  for nord in range(2, nOrder+1):\n",
        "    gNext = Matrix([tsOrderGroup(dv, X, nord) for dv in gNext])\n",
        "    TE += sum(gNext)/factorial(nord)\n",
        "  return TE"
      ],
      "metadata": {
        "id": "PafQGvdaUoQs"
      },
      "execution_count": 14,
      "outputs": []
    },
    {
      "cell_type": "code",
      "source": [
        "sy.simplify(myTaylorSeries(v, 4, X, dX))"
      ],
      "metadata": {
        "colab": {
          "base_uri": "https://localhost:8080/",
          "height": 141
        },
        "id": "PkXuwVldVXNm",
        "outputId": "afc0a94f-ebb6-4eea-a494-7a5bc6fd33d7"
      },
      "execution_count": 15,
      "outputs": [
        {
          "output_type": "execute_result",
          "data": {
            "text/plain": [
              "                               2                 3                 4          \n",
              "                           2  ∂              3  ∂              4  ∂           \n",
              "                          k ⋅───(v(x, t))   k ⋅───(v(x, t))   k ⋅───(v(x, t)) \n",
              "                               2                 3                 4          \n",
              "            ∂                ∂t                ∂t                ∂t           \n",
              "v(0, 0) + k⋅──(v(x, t)) + ─────────────── + ─────────────── + ─────────────── \n",
              "            ∂t                   2                 6                 24       \n",
              "\n",
              "                                               3                      4       \n",
              "                                          2   ∂                  3   ∂        \n",
              "                                       h⋅k ⋅──────(v(x, t))   h⋅k ⋅──────(v(x,\n",
              "                         2                       2                      3     \n",
              "    ∂                   ∂                   ∂x ∂t                  ∂x ∂t      \n",
              "+ h⋅──(v(x, t)) + h⋅k⋅─────(v(x, t)) + ──────────────────── + ────────────────\n",
              "    ∂x                ∂x ∂t                     2                      6      \n",
              "\n",
              "            2                    3                        4                   \n",
              "        2  ∂              2     ∂                2  2    ∂                3  ∂\n",
              " t))   h ⋅───(v(x, t))   h ⋅k⋅──────(v(x, t))   h ⋅k ⋅───────(v(x, t))   h ⋅──\n",
              "            2                   2                       2   2                 \n",
              "          ∂x                  ∂x  ∂t                  ∂x  ∂t                ∂x\n",
              "──── + ─────────────── + ──────────────────── + ────────────────────── + ─────\n",
              "              2                   2                       4                   \n",
              "\n",
              "3                    4                   4                         \n",
              "              3     ∂                4  ∂                          \n",
              "─(v(x, t))   h ⋅k⋅──────(v(x, t))   h ⋅───(v(x, t))                \n",
              "3                   3                    4                         \n",
              "                  ∂x  ∂t               ∂x              ⎛ 5⎞    ⎛ 5⎞\n",
              "────────── + ──────────────────── + ─────────────── + O⎝x ⎠ + O⎝t ⎠\n",
              "  6                   6                    24                      "
            ],
            "text/latex": "$\\displaystyle v{\\left(0,0 \\right)} + k \\frac{\\partial}{\\partial t} v{\\left(x,t \\right)} + \\frac{k^{2} \\frac{\\partial^{2}}{\\partial t^{2}} v{\\left(x,t \\right)}}{2} + \\frac{k^{3} \\frac{\\partial^{3}}{\\partial t^{3}} v{\\left(x,t \\right)}}{6} + \\frac{k^{4} \\frac{\\partial^{4}}{\\partial t^{4}} v{\\left(x,t \\right)}}{24} + h \\frac{\\partial}{\\partial x} v{\\left(x,t \\right)} + h k \\frac{\\partial^{2}}{\\partial x\\partial t} v{\\left(x,t \\right)} + \\frac{h k^{2} \\frac{\\partial^{3}}{\\partial x\\partial t^{2}} v{\\left(x,t \\right)}}{2} + \\frac{h k^{3} \\frac{\\partial^{4}}{\\partial x\\partial t^{3}} v{\\left(x,t \\right)}}{6} + \\frac{h^{2} \\frac{\\partial^{2}}{\\partial x^{2}} v{\\left(x,t \\right)}}{2} + \\frac{h^{2} k \\frac{\\partial^{3}}{\\partial x^{2}\\partial t} v{\\left(x,t \\right)}}{2} + \\frac{h^{2} k^{2} \\frac{\\partial^{4}}{\\partial x^{2}\\partial t^{2}} v{\\left(x,t \\right)}}{4} + \\frac{h^{3} \\frac{\\partial^{3}}{\\partial x^{3}} v{\\left(x,t \\right)}}{6} + \\frac{h^{3} k \\frac{\\partial^{4}}{\\partial x^{3}\\partial t} v{\\left(x,t \\right)}}{6} + \\frac{h^{4} \\frac{\\partial^{4}}{\\partial x^{4}} v{\\left(x,t \\right)}}{24} + O\\left(x^{5}\\right) + O\\left(t^{5}\\right)$"
          },
          "metadata": {},
          "execution_count": 15
        }
      ]
    },
    {
      "cell_type": "code",
      "source": [
        "x, y, z, t, h, l, m, k = sy.symbols('x, y, z, t, h, l, m, k')\n",
        "S = Matrix([x, y, z, t])\n",
        "dS = Matrix([h, l, m, k])\n",
        "f = sy.Function('f')(x, y, z, t)\n",
        "fTS = myTaylorSeries(f, 2, S, dS)"
      ],
      "metadata": {
        "id": "ldbroScJVecb"
      },
      "execution_count": 16,
      "outputs": []
    },
    {
      "cell_type": "code",
      "source": [
        "sy.simplify(fTS)"
      ],
      "metadata": {
        "id": "AjE1FxbcV2gO",
        "outputId": "f908a15c-0e9d-4ba8-876b-f87625203a30",
        "colab": {
          "base_uri": "https://localhost:8080/",
          "height": 194
        }
      },
      "execution_count": 17,
      "outputs": [
        {
          "output_type": "execute_result",
          "data": {
            "text/plain": [
              "                                           2                                  \n",
              "                                       2  ∂                                   \n",
              "                                      m ⋅───(f(x, y, z, t))                   \n",
              "                                           2                                  \n",
              "                  ∂                      ∂z                     ∂             \n",
              "f(0, 0, 0, 0) + m⋅──(f(x, y, z, t)) + ───────────────────── + l⋅──(f(x, y, z, \n",
              "                  ∂z                            2               ∂y            \n",
              "\n",
              "                                      2                                       \n",
              "                                  2  ∂                                        \n",
              "                                 l ⋅───(f(x, y, z, t))                        \n",
              "             2                        2                                       \n",
              "            ∂                       ∂y                     ∂                  \n",
              "t)) + l⋅m⋅─────(f(x, y, z, t)) + ───────────────────── + k⋅──(f(x, y, z, t)) +\n",
              "          ∂z ∂y                            2               ∂t                 \n",
              "\n",
              "                                                            2                 \n",
              "                                                        2  ∂                  \n",
              "                                                       k ⋅───(f(x, y, z, t))  \n",
              "        2                          2                        2                 \n",
              "       ∂                          ∂                       ∂t                  \n",
              " k⋅m⋅─────(f(x, y, z, t)) + k⋅l⋅─────(f(x, y, z, t)) + ───────────────────── +\n",
              "     ∂z ∂t                      ∂y ∂t                            2            \n",
              "\n",
              "                                                                              \n",
              "                                                                              \n",
              "                                                                              \n",
              "                              2                          2                    \n",
              "   ∂                         ∂                          ∂                     \n",
              " h⋅──(f(x, y, z, t)) + h⋅m⋅─────(f(x, y, z, t)) + h⋅l⋅─────(f(x, y, z, t)) + h\n",
              "   ∂x                      ∂z ∂x                      ∂y ∂x                   \n",
              "\n",
              "                               2                                              \n",
              "                           2  ∂                                               \n",
              "                          h ⋅───(f(x, y, z, t))                               \n",
              "      2                        2                                              \n",
              "     ∂                       ∂x                    ⎛ 3⎞    ⎛ 3⎞    ⎛ 3⎞    ⎛ 3\n",
              "⋅k⋅─────(f(x, y, z, t)) + ───────────────────── + O⎝z ⎠ + O⎝y ⎠ + O⎝x ⎠ + O⎝t \n",
              "   ∂x ∂t                            2                                         \n",
              "\n",
              " \n",
              " \n",
              " \n",
              " \n",
              "⎞\n",
              "⎠\n",
              " "
            ],
            "text/latex": "$\\displaystyle f{\\left(0,0,0,0 \\right)} + m \\frac{\\partial}{\\partial z} f{\\left(x,y,z,t \\right)} + \\frac{m^{2} \\frac{\\partial^{2}}{\\partial z^{2}} f{\\left(x,y,z,t \\right)}}{2} + l \\frac{\\partial}{\\partial y} f{\\left(x,y,z,t \\right)} + l m \\frac{\\partial^{2}}{\\partial z\\partial y} f{\\left(x,y,z,t \\right)} + \\frac{l^{2} \\frac{\\partial^{2}}{\\partial y^{2}} f{\\left(x,y,z,t \\right)}}{2} + k \\frac{\\partial}{\\partial t} f{\\left(x,y,z,t \\right)} + k m \\frac{\\partial^{2}}{\\partial z\\partial t} f{\\left(x,y,z,t \\right)} + k l \\frac{\\partial^{2}}{\\partial y\\partial t} f{\\left(x,y,z,t \\right)} + \\frac{k^{2} \\frac{\\partial^{2}}{\\partial t^{2}} f{\\left(x,y,z,t \\right)}}{2} + h \\frac{\\partial}{\\partial x} f{\\left(x,y,z,t \\right)} + h m \\frac{\\partial^{2}}{\\partial z\\partial x} f{\\left(x,y,z,t \\right)} + h l \\frac{\\partial^{2}}{\\partial y\\partial x} f{\\left(x,y,z,t \\right)} + h k \\frac{\\partial^{2}}{\\partial x\\partial t} f{\\left(x,y,z,t \\right)} + \\frac{h^{2} \\frac{\\partial^{2}}{\\partial x^{2}} f{\\left(x,y,z,t \\right)}}{2} + O\\left(z^{3}\\right) + O\\left(y^{3}\\right) + O\\left(x^{3}\\right) + O\\left(t^{3}\\right)$"
          },
          "metadata": {},
          "execution_count": 17
        }
      ]
    }
  ]
}