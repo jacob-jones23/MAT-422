{
  "nbformat": 4,
  "nbformat_minor": 0,
  "metadata": {
    "colab": {
      "provenance": [],
      "authorship_tag": "ABX9TyPltoI0IRi89mJiFChruG5O",
      "include_colab_link": true
    },
    "kernelspec": {
      "name": "python3",
      "display_name": "Python 3"
    },
    "language_info": {
      "name": "python"
    }
  },
  "cells": [
    {
      "cell_type": "markdown",
      "metadata": {
        "id": "view-in-github",
        "colab_type": "text"
      },
      "source": [
        "<a href=\"https://colab.research.google.com/github/jacob-jones23/MAT-422/blob/main/Elements_Of_Linear_Algebra.ipynb\" target=\"_parent\"><img src=\"https://colab.research.google.com/assets/colab-badge.svg\" alt=\"Open In Colab\"/></a>"
      ]
    },
    {
      "cell_type": "code",
      "source": [
        "import numpy as np\n",
        "import sympy\n",
        "import matplotlib.pyplot as plt\n",
        "from matplotlib import colors\n",
        "import math as mt\n",
        "from numpy import linalg as LA"
      ],
      "metadata": {
        "id": "BltiyTLOlnSv"
      },
      "execution_count": 2,
      "outputs": []
    },
    {
      "cell_type": "markdown",
      "source": [
        "#**Numpy Arrays codes**"
      ],
      "metadata": {
        "id": "dJvEzHMbmMX2"
      }
    },
    {
      "cell_type": "code",
      "source": [
        "# Create a 1D array\n",
        "a = np.array([1,2,3,4])\n",
        "print('a = ',a)\n",
        "\n",
        "# Create an array of more than one dimension\n",
        "b = np.array([[1,2],[4,5]])\n",
        "print('b = ',b)\n",
        "\n",
        "# The dimension of an array\n",
        "print(b.ndim)\n",
        "\n",
        "# Selecting the first column of a matrix (starts at 0)\n",
        "col = b[:,0]\n",
        "print(col)"
      ],
      "metadata": {
        "id": "mQ7BFuoCmTaK"
      },
      "execution_count": null,
      "outputs": []
    },
    {
      "cell_type": "markdown",
      "source": [
        "# **1.2 Elements of Linear Algebra**\n",
        "\n",
        "---\n",
        "##**1.2.1 Linear Spaces**\n",
        "\n",
        "**1.2.1.1 Linear Combinations:** A new vector constructed from a subset by multiplying each vector by a constant and adding the results.\n",
        "\n",
        "**Definition 1.2.1 Linear subspace:** A linear subspace of *V* is a subset *U*⊆*V* that is closed under vector addition and scalar multiplication.\n",
        "\n",
        "* For all **$u_{1}$,$u_{2}$** ∈ *U* and *α* ∈ ℝ, it means **$u_{1}$+$u_{2}$**∈U and α**$u_{1}$**∈U.\n",
        "\n",
        "\n",
        "* A vector of zeros, **0**, is always in a linear subspace.\n",
        "\n",
        "\n"
      ],
      "metadata": {
        "id": "m61O0wi4DRbL"
      }
    },
    {
      "cell_type": "code",
      "source": [
        "u1 = np.array([1,3])\n",
        "u2 = np.array([2,4])\n",
        "## example of vector addition\n",
        "VA = u1+u2\n",
        "print(VA, 'is in U')\n",
        "\n",
        "##example of scalar multiplication\n",
        "alpha = 3\n",
        "SM = alpha*u1\n",
        "print(SM, 'is in U')"
      ],
      "metadata": {
        "id": "UkaKEW2h3VJK",
        "colab": {
          "base_uri": "https://localhost:8080/"
        },
        "outputId": "b44edb29-0201-4c0e-a9fe-09bf62c49785"
      },
      "execution_count": 26,
      "outputs": [
        {
          "output_type": "stream",
          "name": "stdout",
          "text": [
            "[3 7] is in U\n",
            "[3 9] is in U\n"
          ]
        }
      ]
    },
    {
      "cell_type": "markdown",
      "source": [
        "**Definition 1.2.2 Span:** Let **$w_{1}$**,...,**$w_{m}$** ∈ *V*. Thus, span{**$w_{1}$**,...,**$w_{m}$**} is the set of all linear combinations of the **w**$_{j}$'s. That is,\n",
        "\\begin{align}\n",
        "span({\\mathbf{w}_{1},...,\\mathbf{w}_{m}}) = ∑_{j=1}^m α_{j}\\mathbf{w}_{j} : α_{1},...,α_{m} ∈ ℝ\n",
        "\\end{align}\n",
        "\n",
        "* Every Span is a linear Subspace: Let *W* = span(**$w_{1}$**,...,**$w_{m}$**). Then *W* is a linear subspace."
      ],
      "metadata": {
        "id": "jTYWx1w-3XB1"
      }
    },
    {
      "cell_type": "markdown",
      "source": [
        "**Definition 1.2.4 Column Space**: Let *A*∈ℝ$^{n*m}$ be an *n* 𝖷 *m* matrix with columns **$a_{1},...,a_{m}$**∈ℝ$^{n}$. The column space of A, denoted col(A), is the span of the columns of A, that is, col(A) = span(**$a_{1}$**,...,**$a_{m}$**)∈ℝ$^{n}$.\n",
        "\n",
        "####**1.2.1.2 Linear Independence and Dimension**\n",
        "**Definition 1.2.5 Linear Independence**: A list of vectors **$u_{1}$**,...,**$u_{m}$** is linearly independent if none of them can be written as a linear combination of the others.\n",
        "* A list of vectors is called linearly dependent if it is not linearly independent.\n",
        "\n",
        "**Lemma 1.2.6**: The vectors **u$_{1}$**,...,**u$_{m}$** are linearly independent if and only if\n",
        "\n",
        "${\\displaystyle \\sum_{j=1}^{m}}$ α$_{j}$**u$_{j}$** = 0 ⇒ α$_{j}$ = 0, ∀**j**.\n"
      ],
      "metadata": {
        "id": "CCGIn34XnsVa"
      }
    },
    {
      "cell_type": "code",
      "source": [
        "\n",
        "# Create matrix\n",
        "A = np.array([[3,4,3,0],[1,2,3,0],[4,2,1,0]])\n",
        "# Print the matrix\n",
        "print(\"Matrix A : {}\".format(A))\n",
        "# the format method converts the array into a string of text\n",
        "\n",
        "# Calculate the reduced row echelon form of matrix A\n",
        "A_rref = sympy.Matrix(A).rref() # use the sympy.rref() method\n",
        "print(\"Reduced Row Echelon Form: {}\".format(A_rref))\n",
        "print(\"The only solution we end up with is the trivial solution so this set of vectors are linearly independent\")\n",
        "\n",
        "\n"
      ],
      "metadata": {
        "colab": {
          "base_uri": "https://localhost:8080/"
        },
        "id": "6MOYtjeXtlE5",
        "outputId": "b4694cf6-a8b4-4f49-92d4-74f50bfe7de2"
      },
      "execution_count": 3,
      "outputs": [
        {
          "output_type": "stream",
          "name": "stdout",
          "text": [
            "Matrix A : [[3 4 3 0]\n",
            " [1 2 3 0]\n",
            " [4 2 1 0]]\n",
            "Reduced Row Echelon Form: (Matrix([\n",
            "[1, 0, 0, 0],\n",
            "[0, 1, 0, 0],\n",
            "[0, 0, 1, 0]]), (0, 1, 2))\n",
            "The only solution we end up with is the trivial solution so this set of vectors are linearly independent\n"
          ]
        }
      ]
    },
    {
      "cell_type": "markdown",
      "source": [
        "**Definition 1.2.7 Basis**: Let *U* be a linear subspace of *V*.\n",
        "  * A basis of *U* is a list of vectors **$u_{1},...u_{m}$** in *U* that:\n",
        "    (1) span *U*, that is *U* = span(**$u_{1},...u_{m}$**) and (2) are linearly independent.\n",
        "\n",
        "**Theorem 1.2.8 Dimenson Theorem**: Let *U* be a linear subspace of *V*. Any basis of *U* always has the same number of elements. All bases of *U* have the same number of elements.\n",
        "  * Elements refers to the dimension of *U* denoted by dim(*U*).\n",
        "\n",
        "**Lemma 1.2.9 Characterization of Linearly Dependent Sets**: Let **$u_{1},...u_{m}$** be a linearly dependent list of vectors with linearly independent subset, **$u_{i}$,*i*** ϵ {1,...,*k*},*k<m*. Then there is an *i* > *k* such that...\n",
        "\n",
        "(1) **$u_{i}$**∈ span(**$u_{1},...,u_{i-1}$**)\n",
        "\n",
        "(2) span({**$u_{j}$** : *j* ∈ {1,...,*m*}}) = span({**$u_{j}$** : *j* ∈ {1,...,*m*}, *j* *i*})\n"
      ],
      "metadata": {
        "id": "k8wCCLQF5IJq"
      }
    },
    {
      "cell_type": "code",
      "source": [
        "# Basis example\n",
        "\n",
        "# The Basis\n",
        "v_1 = np.array([[1],[0]])\n",
        "v_2 = np.array([[-1/mt.sqrt(2)],[1/mt.sqrt(2)]])\n",
        "\n",
        "# Change of coordinate matrix\n",
        "p = np.concatenate([v_1,v_2], axis=1) # np.concatenate joins a sequence of arrays along an existing axis\n",
        "print(p)\n",
        "p_inv = np.linalg.inv(p) # np.linalg.inv(p) finds the inverse matrix of p\n",
        "\n",
        "# Coordinate of x in R^2\n",
        "x = np.array([[2],[2]])\n",
        "\n",
        "# New coordinate relative to basis B\n",
        "x_B = p_inv @ x\n",
        "\n",
        "print(\"the coordinate of vector x in basis B is\", np.round(x_B,2))"
      ],
      "metadata": {
        "colab": {
          "base_uri": "https://localhost:8080/"
        },
        "id": "mH8ndCow1K0e",
        "outputId": "60f00127-1580-4e01-8177-686f2b26d2d1"
      },
      "execution_count": 6,
      "outputs": [
        {
          "output_type": "stream",
          "name": "stdout",
          "text": [
            "[[ 1.         -0.70710678]\n",
            " [ 0.          0.70710678]]\n",
            "the coordinate of vector x in basis B is [[4.  ]\n",
            " [2.83]]\n"
          ]
        }
      ]
    },
    {
      "cell_type": "markdown",
      "source": [
        "##**1.2.2 Orthogonality**\n",
        "\n",
        "The use of orthonormal bases can greatly simplify mathematical representations and reveal more insights of the underlying problems.\n",
        "\n",
        "####**1.2.2.1 Orthonormal Bases**\n",
        "**Definition 1.2.10 Norm and Inner Product**: ⟨**u, v**⟩ = **u** * **v** = ∑$^{n}_{i}$$u_{i}v_{i}$ and\n",
        "||u|| = $\\sqrt{∑^{n}_{i}u_{i}^{2}}$.\n",
        "\n",
        "\n"
      ],
      "metadata": {
        "id": "P4BUn_IB1LGi"
      }
    },
    {
      "cell_type": "code",
      "source": [
        "u = np.array([1,3])\n",
        "v = np.array([2,4])\n",
        "\n",
        "# Inner Product\n",
        "ip = u[0]*v[0] + u[1]*v[1]\n",
        "ip2 = np.dot(u,v) ##Alternate method to compute inner product is with np.dot\n",
        "print('The inner product <u,v> equals', ip)\n",
        "print('The same result is obtained by using the np.dot(u,v) method ', ip2)\n",
        "\n",
        "# Norm\n",
        "normU = mt.sqrt(u[0]**2 + u[1]**2) ## mt.sqrt() finds the square root of any number\n",
        "normU2 = np.linalg.norm(u) ## Alternate method to compute norm\n",
        "print('Norm of vector u equals', normU)\n",
        "print('which is the same result as the np.linalg.norm(u) method ', normU2)\n"
      ],
      "metadata": {
        "colab": {
          "base_uri": "https://localhost:8080/"
        },
        "id": "2wliKPzCmN0l",
        "outputId": "d2071d3d-5100-4d61-84a7-cd34791f00cc"
      },
      "execution_count": 15,
      "outputs": [
        {
          "output_type": "stream",
          "name": "stdout",
          "text": [
            "The inner product <u,v> equals 14\n",
            "The same result is obtained by using the np.dot(u,v) method  14\n",
            "Norm of vector u equals 3.1622776601683795\n",
            "which is the same result as the np.linalg.norm(u) method  3.1622776601683795\n"
          ]
        }
      ]
    },
    {
      "cell_type": "markdown",
      "source": [
        "**Definition 1.2.11 Orthonormal**: A list of vectors {**$u_{1},...u_{m}$**} is orthonormal if\n",
        "  \n",
        "  [1] The **$u_{i}$**'s are pairwise orthogonal\n",
        "  \n",
        "  [2] Each has norm 1, that is for all *i* and all j != i, ⟨**$u_{i}, u_{j}$**⟩ = 0, and ||**$u_{i}$**|| = 1.\n"
      ],
      "metadata": {
        "id": "3YcIP3fbljN9"
      }
    },
    {
      "cell_type": "code",
      "source": [
        "#Example of a list of orthonormal vectors\n",
        "u1 = np.array([1,0])\n",
        "u2 = np.array([0,1])\n",
        "print('The inner product equals', u1[0]*u2[0]+u1[1]*u2[1])\n",
        "print('Norm for u1 equals',mt.sqrt(u1[0]**2 + u1[1]**2))\n",
        "print('Norm for u2 equals',mt.sqrt(u2[0]**2 + u2[1]**2))\n",
        "print('The norm for each ui equals 1')"
      ],
      "metadata": {
        "colab": {
          "base_uri": "https://localhost:8080/"
        },
        "id": "whxfwLd-qeix",
        "outputId": "328be72c-149c-4521-9638-24bc360667ef"
      },
      "execution_count": 17,
      "outputs": [
        {
          "output_type": "stream",
          "name": "stdout",
          "text": [
            "The inner product equals 0\n",
            "Norm for u1 equals 1.0\n",
            "Norm for u2 equals 1.0\n",
            "The norm for each ui equals 1\n"
          ]
        }
      ]
    },
    {
      "cell_type": "markdown",
      "source": [
        "**Lemma 1.2.12** Let {**$u_{1}$**,...**$u_{m}$**} be an orthonormal list of vectors.\n",
        "\n",
        "  [1] ||∑$^{m}_{j=1}$ $α_{j}$**$u_{j}$**||$^2$ = ∑$^{m}_{j=1}$ $α_{j}^{2}$ for any $α_{j}$ ∈ ℝ, *j* ∈ {1,...*m*}\n",
        "\n",
        "  [2] {**$u_{1},...u_{m}$**} are linearly independent.\n",
        "\n",
        "**Theorem 1.2.13 Orthonormal Basis Expansion**: Let **$q_{1},...,q_{m}$** be an orthonormal basis of 𝒰 and let **u** ∈ 𝒰. Then\n",
        "\n",
        "**u** = ${\\displaystyle \\sum_{j=1}^{m}}$ ⟨**u,$q_{j}$**⟩**$q_{j}$**\n",
        "\n",
        "\n"
      ],
      "metadata": {
        "id": "kS8uWLOrsvI6"
      }
    },
    {
      "cell_type": "markdown",
      "source": [
        "####**1.2.2.2 Best Approximation Theorem**\n",
        "We have a linear subspace 𝒰 ⊆ *V* and a vector **v** ∉ 𝒰. We want to find the vector **v** in 𝒰 that is closest to **v*** in the norm as in Figure 1.1, that is, we want to solve\n",
        "\n",
        "${\\displaystyle \\min_{𝐕^{*} ∈ 𝒰}}$ ||**v*** - **v**||.\n",
        "\n",
        "\n",
        "**Example 1.2.14:** Consider the two-dimensional case with a one-dimensional subspace, say 𝒰=span(**$u_{1}$**) with ||**$u_{1}$**|| = 1. The geometrical intuition of the best approximation theorem is demonstrated in Figure 1.1. The solution **v*** has the property that the difference **v** - **v*** makes a right angel with **$u_{1}$**, that is, it is orthogonal to it."
      ],
      "metadata": {
        "id": "9NBZ2Laf2Qbt"
      }
    },
    {
      "cell_type": "code",
      "source": [
        "#Figure 1.1\n",
        "v = np.array([mt.sqrt(2),1])\n",
        "vstar = np.array([mt.sqrt(2),0])\n",
        "v_vstar = np.array([0,1])\n",
        "u1 = np.array([1,0])\n",
        "M = np.array([v,v_vstar,vstar,u1])\n",
        "\n",
        "origin = np.array([[0, 0, 0,0],[0, 0, 0,0]]) # origin point\n",
        "\n",
        "plt.quiver(*origin, M[:,0], M[:,1], color=['k','k','k','k'], angles='xy', scale_units='xy', scale=1)\n",
        "plt.vlines(mt.sqrt(2), 0 ,1, linestyle=\"dashed\")\n",
        "plt.hlines(1, 0, mt.sqrt(2), linestyle=\"dashed\")\n",
        "plt.xlim(-0.4, 2)\n",
        "plt.ylim(-1, 2)\n",
        "plt.text(1.45,1, \"$\\mathbf{v}$\", fontsize=10)\n",
        "plt.text(-0.2,0.9, \"$\\mathbf{v-v*}$\", fontsize=8)\n",
        "plt.text(0.9,-0.15,\"$\\mathbf{u_1}$\", fontsize=8)\n",
        "plt.text(1.35,-0.15, \"$\\mathbf{v*}$\", fontsize=10)\n",
        "plt.title(\"Fig 1.1\")\n",
        "plt.show()"
      ],
      "metadata": {
        "colab": {
          "base_uri": "https://localhost:8080/",
          "height": 452
        },
        "id": "5PhKG3uD6NC3",
        "outputId": "ec381e06-18f4-4657-eef8-de66a98d75fb"
      },
      "execution_count": null,
      "outputs": [
        {
          "output_type": "display_data",
          "data": {
            "text/plain": [
              "<Figure size 640x480 with 1 Axes>"
            ],
            "image/png": "[encoded data removed]"
          },
          "metadata": {}
        }
      ]
    },
    {
      "cell_type": "code",
      "source": [
        "u1 = np.array([1,0])\n",
        "print(u1@v_vstar) #checking if <u1,v-v*> = 0\n",
        "print(vstar, 'equals', (u1@v)*u1)  # proves that v* = <u1,v>u1\n",
        "\n",
        "alpha = mt.sqrt(2)\n",
        "print('||v-alpha*u1||^2 = ', np.linalg.norm(v-2*u1)**2 )\n",
        "print('||v-v*||^2 + ||(alpha*-alpha)u1||^2',np.linalg.norm(v_vstar)**2 + np.linalg.norm((2-alpha)*u1)**2)"
      ],
      "metadata": {
        "colab": {
          "base_uri": "https://localhost:8080/"
        },
        "id": "DxjrTD0i9ca3",
        "outputId": "c8f1dbe8-73a4-4e7a-eeb0-892336d7a1e9"
      },
      "execution_count": null,
      "outputs": [
        {
          "output_type": "stream",
          "name": "stdout",
          "text": [
            "0\n",
            "[1.41421356 0.        ] equals [1.41421356 0.        ]\n",
            "||v-alpha*u1||^2 =  1.3431457505076199\n",
            "||v-v*||^2 + ||(alpha*-alpha)u1||^2 1.3431457505076196\n"
          ]
        }
      ]
    },
    {
      "cell_type": "markdown",
      "source": [
        "Letting **v*** = α&**$u_{1}$**, the geometrical condition above translates into\n",
        "\n",
        "0 = ⟨**$u_{1}$, v-v***⟩ = ⟨**$u_{1}$, v-α*$u_{1}$**⟩ = ⟨**$u_{1}$, v**⟩ - α* ⟨**$u_{1}$,$u_{1}$**⟩ = ⟨**$u_{1}$,v**⟩-α*.\n",
        "\n",
        "which implies **v*** = ⟨**$u_{1}$,v**⟩**$u_{1}$**.\n",
        "\n",
        "By the Pythagorean theorem, for any α∈ℝ,\n",
        "\n",
        "||**v-α$u_{1}$**||$^2$ = ||**v**- **v***+ **v***-**α$u_{1}$**||$^2$ =\n",
        "\n",
        "||**v** - **v***+**(α*-α)$u_{1}$**||$^2$=||**v-v***||$^2$ + ||(**α*-α**)$u_{1}$||$^2$. Thus ||**v** -α**$u_{1}$**||$^2$ ≥ ||**v** - **v***||$^2$\n",
        "\n",
        "This confirms the optimality of **v***.\n",
        "\n",
        "**Definition 1.2.15 Orthogonal Projection:** Let 𝒰 ⊆ *V* be a linear subspace with orthonormal basis **$q_{1}$**,...,**$q_{m}$**. The orthogonal projection of **v** ∈ *V* on 𝒰 is defined as\n",
        "\n",
        "  $𝒫_{𝒰}$**v** = ${\\displaystyle \\sum_{j=1}^{m}}$ ⟨**v,$q_{j}$**⟩**$q_{j}$**.\n",
        "\n",
        "\n",
        "**Theorem 1.2.16 Best Approximation Theorem:** Let 𝒰 ⊆ *V* be a linear subspace with orthonormal basis **$q_{1}$,...$q_{m}$** and let **v** ∈ *V*. For any **u** ∈ 𝒰\n",
        "\n",
        "||**v** - 𝒫$_{𝒰}$**v**|| ≤ ||**v-u**||.\n",
        "\n",
        "Moreover, if **u** ∈ 𝒰 and the inequality above is an equality then **u** = 𝒫$_{𝒰}$**v**."
      ],
      "metadata": {
        "id": "B2PvMPwaM4jK"
      }
    },
    {
      "cell_type": "markdown",
      "source": [
        "**Lemma 1.2.17 Pythagorean Theorem:** Let **u,v** ∈ *V* be orthogonal. Then ||**u** + **v**||$^2$ = ||**u**||$^2$ + ||**v**||$^2$.\n",
        "\n"
      ],
      "metadata": {
        "id": "MnTw7Bh_UTpA"
      }
    },
    {
      "cell_type": "code",
      "source": [
        "## Lemma 1.2.17 example\n",
        "u = np.array([1,2])\n",
        "v = np.array([-2,1])\n",
        "uv = np.linalg.norm(u+v)**2 ## ||u+v||^2\n",
        "u2 = np.linalg.norm(u)**2 ## ||u||^2\n",
        "v2 = np.linalg.norm(v)**2 ## ||v||^2\n",
        "result = u2+v2 ## ||u|^2 + ||v||^2\n",
        "print('||u+v||^2 = ', uv)\n",
        "print('||u||^2 = ', u2)\n",
        "print('||v||^2 = ', v2)\n",
        "print('||u|^2 + ||v||^2 = ', result)\n",
        "print('This is proof of the Pythagorean Theorem that, ||u+v||^2 = ||u||^2 + ||v||^2')\n"
      ],
      "metadata": {
        "colab": {
          "base_uri": "https://localhost:8080/"
        },
        "id": "dvxTAXB8XI-G",
        "outputId": "810d862d-e44a-40b0-9b90-9424a74a7f90"
      },
      "execution_count": 22,
      "outputs": [
        {
          "output_type": "stream",
          "name": "stdout",
          "text": [
            "||u+v||^2 =  10.000000000000002\n",
            "||u||^2 =  5.000000000000001\n",
            "||v||^2 =  5.000000000000001\n",
            "||u|^2 + ||v||^2 =  10.000000000000002\n",
            "This is proof of the Pythagorean Theorem that, ||u+v||^2 = ||u||^2 + ||v||^2\n"
          ]
        }
      ]
    },
    {
      "cell_type": "markdown",
      "source": [
        "**Lemma 1.2.18 Cauchy-Schwarz:** For any **u, v** ∈ *V*, |⟨**u**,**v**⟩| ≤ ||**u**||||**v**||."
      ],
      "metadata": {
        "id": "j6F3Mv1R8Jy3"
      }
    },
    {
      "cell_type": "code",
      "source": [
        "## Caucy-Schwarz example\n",
        "u = np.array([1,2])\n",
        "v = np.array([-2,1])\n",
        "uv = np.dot(u,v) ## calculates |<u,v>|\n",
        "unorm = np.linalg.norm(u) ## calculates ||u||\n",
        "vnorm = np.linalg.norm(v) ## calculates ||v||\n",
        "uvR = unorm*vnorm ## calculates ||u||*||v||\n",
        "print(uv)\n",
        "print(uvR)\n",
        "print(\"Proof that, |<u,v>| is less than or equal to ||u||||v||\")"
      ],
      "metadata": {
        "colab": {
          "base_uri": "https://localhost:8080/"
        },
        "id": "1xrEEDS_7Y14",
        "outputId": "70404340-0255-4d92-8068-241abe6848d5"
      },
      "execution_count": 25,
      "outputs": [
        {
          "output_type": "stream",
          "name": "stdout",
          "text": [
            "0\n",
            "5.000000000000001\n",
            "Proof that, |<u,v>| is less than or equal to ||u||||v||\n"
          ]
        }
      ]
    },
    {
      "cell_type": "markdown",
      "source": [
        "**Lemma 1.2.19 Orthogonal Decomposition:** Let 𝒰 ⊆ *V* be a linear subspace with orthonormal basis **$q_{1}$,...$q_{m}$** and let **v** ∈ *V*. For any **u**∈𝒰, ⟨**v** -$𝒫_{𝒰}$**v**, **u**⟩ = 0. In particular, **v** can be decomposed as (**v** - $𝒫_{𝒰}$**v**) + $𝒫_{𝒰}$**v** where the two terms are orthogonal."
      ],
      "metadata": {
        "id": "pVJRZhid81H_"
      }
    },
    {
      "cell_type": "markdown",
      "source": [
        "##**1.2.3 Gram-Schmidt Process**\n",
        "The Gram-Schmidt algorithm is used to obtain an orthonormal basis.\n",
        "\n",
        "**Theorem 1.2.20 Gram-Schmidt**: Let **$a_{1},...,a_{m}$** in ***R***$^n$ be linearly independent. Then there exist an orthonormal basis **$q_{1}$,...,$q_{m}$** of span(**$a_{1},...a_{m}$**).\n",
        "\n"
      ],
      "metadata": {
        "id": "aPER_T5QXKuF"
      }
    },
    {
      "cell_type": "markdown",
      "source": [
        "##**1.2.4 Eigenvalues and Eigenvectors**\n",
        "Eigenvalues and eigenvectors are key concepts in many applications.\n",
        "\n",
        "**Definition 1.2.21 Eigenvalues and eigenvectors:** Let *A* ∈ ℝ$^{d𝚡d}$ be a square matrix. Then λ∈ℝ is an eigenvalue of *A* if there exists a nonzero vector **x** $\\neq$ **0** such that\n",
        "\n",
        "\\begin{align}\n",
        "A\\mathbf{x} = λ\\mathbf{x}\n",
        "\\end{align}\n",
        "\n",
        "* The vector **x** is referred to as an eigenvector.\n",
        "\n",
        "**Example 1.2.22 No Real Eigenvalues**: Set *d* = 2 and let\n",
        "\n",
        "\\begin{align}\n",
        "A = \\begin{pmatrix}\n",
        "0 & -1 \\\\\n",
        "1 & 0\n",
        "\\end{pmatrix}.\n",
        "\\end{align}\n",
        "\n",
        "For λ to be an eigenvalue, there must be a nonzero eigenvector **x** = (*$x_{1}$*,*$x_{2}$*)$^{T}$ such that\n",
        "\n",
        "\\begin{align}\n",
        "A\\mathbf{x} = λ\\mathbf{x}\n",
        "\\end{align}\n",
        "\n",
        "which can also be interpreted as\n",
        "\n",
        "\\begin{align}\n",
        "-x_{2}=λx_{1} \\text{ and } x_{1} = λx_{2}.\n",
        "\\end{align}\n",
        "\n",
        "Replacing these equations into each other, it must be that\n",
        "\\begin{align}\n",
        "-x_{2}=λ^2x_{2} \\text{ and } x_{1} = -λ^2x_{1}.\n",
        "\\end{align}\n",
        "\n",
        "Since $x_{1}$,$x_{2}$ cannot both be 0, λ must satisfy the equation\n",
        "\\begin{align}\n",
        "λ^2 = -1\n",
        "\\end{align}\n",
        "\n",
        "for which there is no real solution.\n",
        "\n",
        "In general, *A* ∈ℝ$^{dxd}$ has the most *d* distinct eigenvalues."
      ],
      "metadata": {
        "id": "5I4szAP_lP6H"
      }
    },
    {
      "cell_type": "code",
      "source": [
        "# Finding eigenvalues and eigenvectors\n",
        "A = np.array([[-1,1],\n",
        "              [0,-2]])\n",
        "lam, u = LA.eig(A) # the LA.eig() function in NumPy calculates the eigenvalues and eigenvectors\n",
        "print(\"eigenvalues =\", np.round(lam,4))\n",
        "print(\"eigenvectors =\", np.round(u,4))"
      ],
      "metadata": {
        "colab": {
          "base_uri": "https://localhost:8080/"
        },
        "id": "vWaZSZQdlYFV",
        "outputId": "a76b3a0e-b87e-46c3-eb11-12635789fa80"
      },
      "execution_count": 4,
      "outputs": [
        {
          "output_type": "stream",
          "name": "stdout",
          "text": [
            "eigenvalues = [-1. -2.]\n",
            "eigenvectors = [[ 1.     -0.7071]\n",
            " [ 0.      0.7071]]\n"
          ]
        }
      ]
    },
    {
      "cell_type": "markdown",
      "source": [
        "In the code above,\n",
        "LA.eig() is a function in NumPy that calcualtes the eigenvalues and eigenvevtors of a matrix. In this case we are using a 2x2 matrix called 'A'. LA.eig() returns tuple (set of elements). The first element of the tuple is an array that stores the eigenvalues which we assigned to 'lam'. The second element of the tuple is a 2-d array that stores the corresponding eigenvectors which is assigned to 'u'.  The np.round() method rounds an array to the given number of decimals. So when we write np.round(lam,4) it will round the array 'lam' to 4 decimals.\n",
        "\n",
        "λ$_{1}$ = -1, **u$_{1}$** = [1, 0]$^{T}$\n",
        "\n",
        "λ$_{2}$ = -2, **u$_{2}$** = [-0.7071, 0.7071]$^{T}$\n",
        "\n",
        "**Lemma 1.2.23 Number of Eigenvalues**: Let *A* ∈ℝ$^{dxd}$ and let $λ_{1},...λ_{m}$ be distinct eigenvalues of *A* with corresponding nonzero eigenvectors x**$x_{1},...x_{m}$**. Then **$x_{1},...x_{m}$** are linearly independent. As a result, *m* ≤ *d*.\n",
        "\n",
        "####**1.2.4.1 Diagonalization of Symmetric Matrices**\n",
        "\n",
        "We will use the notation diag($λ_{1},...,λ_{d}$) for the diagonal matrix with diagonal entries $λ_{1},...λ_{d}$.\n",
        "\n",
        "**Example 1.2.24 Diagonal (and Similar) Matrices):** Let *A* be similar to a matrix *D* = diag($λ_{1},...,λ_{d}$) with distinct diagonal entries, that is, there exists a nonsingular matrix *P* such that\n",
        "\n",
        "\\begin{align}\n",
        "A=PDP^{-1}.\n",
        "\\end{align}\n",
        "\n",
        "Let **$p_{1}$**,...,**$p_{d}$** be the columns of *P*. Then\n",
        "\\begin{align}\n",
        "AP = PD\n",
        "\\end{align}\n",
        "which impies\n",
        "\\begin{align}\n",
        "Ap_{i}=λ_{i}p_{i}.\n",
        "\\end{align}"
      ],
      "metadata": {
        "id": "9wSBBlvjlao8"
      }
    },
    {
      "cell_type": "code",
      "source": [
        "## Example of Diagonal (and Similar) Matrices\n",
        "A = np.array([[-1,1],\n",
        "              [0,-2]])\n",
        "P = np.array([[1, -0.7071],\n",
        "              [0, 0.7071]])\n",
        "D = np.array([[-1, 0],\n",
        "              [0, -2]])\n",
        "AP = A@P\n",
        "PD = P@D\n",
        "print('AP = ',AP)\n",
        "print('PD = ',PD)\n",
        "print(\"Proof that AP = PD\")"
      ],
      "metadata": {
        "colab": {
          "base_uri": "https://localhost:8080/"
        },
        "id": "r2I2FzGZlfDb",
        "outputId": "b623fb38-97af-4518-fc68-534d1fab26ec"
      },
      "execution_count": 3,
      "outputs": [
        {
          "output_type": "stream",
          "name": "stdout",
          "text": [
            "AP =  [[-1.      1.4142]\n",
            " [ 0.     -1.4142]]\n",
            "PD =  [[-1.      1.4142]\n",
            " [ 0.     -1.4142]]\n",
            "Proof that AP = PD\n"
          ]
        }
      ]
    },
    {
      "cell_type": "markdown",
      "source": [
        "From the code above, we show how AP = PD. Matrix 'A' is our original matrix. Matrix 'D' is constructed with all of the eigenvalues from Matrix 'A'. Matrix D = diag($λ_{1},...,λ_{d}$).  Matrix 'P' is created with the eigenvectors formed from the eigenvalues. So in this case, λ$_{1}$= -1 is in the first column of row one in the diagonal matrix, so the corresponding eigenvector [1,0]$^{T}$ is the first column of matrix 'P'.\n",
        "\n",
        "**Theorem 1.2.25** If *A* is symmetric, then any two eigenvectors from different eigenspaces are orthogonal.\n",
        "\n",
        "**Theorem 1.2.26 The Spectral Theorem for Symmetric Matrices:** An *n* 𝖷 *n* symmetric matrix *A* has the following properties:\n",
        "* *A* has *n* real eigenvalues, counting multiplicities.\n",
        "* If λ is an eigenvalues of *A* with multiplicity *k*, then the eigenspace for λ is *k*-dimensional.\n",
        "* The eigenspaces are mutually orthogonal, in the sense that eigenvectors corresponding to different eigenvalues are orthogonal.\n",
        "* *A* is orthogonally diagonalizable\n",
        "\n",
        "####**1.2.4.2 Constrained Optimization**\n",
        "The following result is useful for many optimization problem.\n",
        "**Theorem 1.2.27** Let *A* be *n* 𝖷 *n* symmetric matrix *A* with an orthogonal diagonalization *A* = *PDP$^{-1}$*. The columns of *P* are orthonormal eigenvectors **$v_{1},...,v_{n}$** of *A*. Assume that the diagonal of *D* are arranged so that $λ_{1}≤λ_{2},...≤λ_{n}$. Then\n",
        "\\begin{align}\n",
        "min_{x\\neq0} \\frac{\\mathbf{x}^{T}Ax}{\\mathbf{x}^{T}x} = λ_{1}.\n",
        "\\end{align}\n",
        "\n",
        "is achieved when **x** = **v$_{1}$** and\n",
        "\n",
        "\\begin{align}\n",
        "max_{x\\neq0} \\frac{\\mathbf{x}^{T}Ax}{\\mathbf{x}^{T}x} = λ_{n}.\n",
        "\\end{align}\n",
        "\n",
        "is achieved when **x** = **v$_{n}$**"
      ],
      "metadata": {
        "id": "-sVadue2llcH"
      }
    }
  ]
}