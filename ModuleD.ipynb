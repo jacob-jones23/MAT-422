{
  "nbformat": 4,
  "nbformat_minor": 0,
  "metadata": {
    "colab": {
      "provenance": [],
      "authorship_tag": "ABX9TyMft/tw9c9xP24ndDtJ9Rzo",
      "include_colab_link": true
    },
    "kernelspec": {
      "name": "python3",
      "display_name": "Python 3"
    },
    "language_info": {
      "name": "python"
    }
  },
  "cells": [
    {
      "cell_type": "markdown",
      "metadata": {
        "id": "view-in-github",
        "colab_type": "text"
      },
      "source": [
        "<a href=\"https://colab.research.google.com/github/jacob-jones23/MAT-422/blob/main/ModuleD.ipynb\" target=\"_parent\"><img src=\"https://colab.research.google.com/assets/colab-badge.svg\" alt=\"Open In Colab\"/></a>"
      ]
    },
    {
      "cell_type": "code",
      "source": [
        "import numpy as np\n",
        "import sympy\n",
        "import matplotlib.pyplot as plt\n",
        "from matplotlib import colors\n",
        "import math as mt\n",
        "from numpy import linalg as LA"
      ],
      "metadata": {
        "id": "CIZvOhCbOUL8"
      },
      "execution_count": 2,
      "outputs": []
    },
    {
      "cell_type": "markdown",
      "source": [
        "#**Module D**\n",
        "\n",
        "##**1.1 Introduction**\n",
        "Linear algebra is a field of matematics that is widely used in various disiplines. Linear algebra plays an important role in data science and machine learning. A solid understanding of linear algebra concepts can enhance the understanding of many data science and machine learning algorithms.\n",
        "\n",
        "##**1.2 Elements of Linear Algebra**\n",
        "We begin with a brief review of basic concepts for linear algebra.\n",
        "###**1.2.1 Linear Spaces**\n",
        "\n",
        "####**1.2.1.1 Linear Combinations**\n",
        "A linear combination in linear algebra is a new vector constructed from a subset by multiplying each vector by a constant and adding the results. A linear subspace is a result of linear combination.\n",
        "\n",
        "**Definition 1.2.1 (Linear Subspace)**: A linear subspace of V is a subset U ⊆ V that is closed under vector addition and scalar multiplication. That is, for all **u$_{1}$, u$_{2}$** ∈ U and α ∈ ℝ, it holds that\n",
        "\\begin{align}\n",
        "\\bf{u_1+u_2}∈ U, \\text{ and } \\alpha\\bf{u_1} \\in U\n",
        "\\end{align}\n",
        "\n",
        "**Definition 1.2.2 Span:** Let **$w_{1}$**,...,**$w_{m}$** ∈ *V*. Thus, span{**$w_{1}$**,...,**$w_{m}$**} is the set of all linear combinations of the **w**$_{j}$'s. That is,\n",
        "\\begin{align}\n",
        "span({\\mathbf{w}_{1},...,\\mathbf{w}_{m}}) = ∑_{j=1}^m α_{j}\\mathbf{w}_{j} : α_{1},...,α_{m} ∈ ℝ\n",
        "\\end{align}\n",
        "\n",
        "**Definition 1.2.4 (Column space)**: Let *A*∈ℝ$^{n*m}$ be an *n* 𝖷 *m* matrix with columns **$a_{1},...,a_{m}$**∈ℝ$^{n}$. The column space of A, denoted col(A), is the span of the columns of A, that is, col(A) = span(**$a_{1}$**,...,**$a_{m}$**)∈ℝ$^{n}$.\n"
      ],
      "metadata": {
        "id": "x4-0j3ZRG0Za"
      }
    },
    {
      "cell_type": "markdown",
      "source": [
        "####**1.2.1.2 Linear Independence and Dimension**\n",
        "**Definition 1.2.5 Linear Independence**: A list of vectors **$u_{1}$**,...,**$u_{m}$** is linearly independent if none of them can be written as a linear combination of the others.\n",
        "\n",
        "**Definition 1.2.7 Basis of a Space**: Let *U* be a linear subspace of *V*. A basis of *U* is a list of vectors **$u_{1},...u_{m}$** in *U* that: (1) span *U*, that is *U* = span(**$u_{1},...u_{m}$**) and (2) are linearly independent.\n",
        "\n",
        "**Theorem 1.2.8 Dimenson Theorem**: Let *U* be a linear subspace of *V*. Any basis of *U* always has the same number of elements. All bases of *U* have the same number of elements.\n",
        "  * Elements refers to the dimension of *U* denoted by dim(*U*).\n",
        "\n",
        "**Lemma 1.2.9 Characterization of Linearly Dependent Sets**: Let **$u_{1},...u_{m}$** be a linearly dependent list of vectors with linearly independent subset, **$u_{i}$,*i*** ϵ {1,...,*k*},*k<m*. Then there is an *i* > *k* such that...\n",
        "\n",
        "(1) **$u_{i}$**∈ span(**$u_{1},...,u_{i-1}$**)\n",
        "\n",
        "(2) span({**$u_{j}$** : *j* ∈ {1,...,*m*}}) = span({**$u_{j}$** : *j* ∈ {1,...,*m*}, *j* *i*})"
      ],
      "metadata": {
        "id": "nxBm4tP8K7HO"
      }
    },
    {
      "cell_type": "markdown",
      "source": [
        "###**1.2.2 Orthogonality**\n",
        "\n",
        "The use of orthonormal bases can greatly simplify mathematical representations and reveal more insights of the underlying problems.\n",
        "\n",
        "####**1.2.2.1 Orthonormal Bases**\n",
        "**Definition 1.2.10 Norm and Inner Product**: ⟨**u, v**⟩ = **u** * **v** = ∑$^{n}_{i}$$u_{i}v_{i}$ and ||u|| = $\\sqrt{∑^{n}_{i}u_{i}^{2}}$."
      ],
      "metadata": {
        "id": "bpubKyCFNJy0"
      }
    },
    {
      "cell_type": "code",
      "source": [
        "import numpy as np\n",
        "import math as mt\n",
        "u = np.array([1,3])\n",
        "v = np.array([2,4])\n",
        "\n",
        "# Inner Product\n",
        "ip = u[0]*v[0] + u[1]*v[1]\n",
        "ip2 = np.dot(u,v) ##Alternate method to compute inner product is with np.dot\n",
        "print('The inner product <u,v> equals', ip)\n",
        "print('The same result is obtained by using the np.dot(u,v) method ', ip2)\n",
        "\n",
        "# Norm\n",
        "normU = mt.sqrt(u[0]**2 + u[1]**2) ## mt.sqrt() finds the square root of any number\n",
        "normU2 = np.linalg.norm(u) ## Alternate method to compute norm\n",
        "print('Norm of vector u equals', normU)\n",
        "print('which is the same result as the np.linalg.norm(u) method ', normU2)"
      ],
      "metadata": {
        "colab": {
          "base_uri": "https://localhost:8080/"
        },
        "id": "Nk6PXp74Ne8X",
        "outputId": "6a927df3-b674-4db6-b035-df2010a9437b"
      },
      "execution_count": 10,
      "outputs": [
        {
          "output_type": "stream",
          "name": "stdout",
          "text": [
            "The inner product <u,v> equals 14\n",
            "The same result is obtained by using the np.dot(u,v) method  14\n",
            "Norm of vector u equals 3.1622776601683795\n",
            "which is the same result as the np.linalg.norm(u) method  3.1622776601683795\n"
          ]
        }
      ]
    },
    {
      "cell_type": "markdown",
      "source": [
        "**Definition 1.2.11 Orthonormal**: A list of vectors {**$u_{1},...u_{m}$**} is orthonormal if\n",
        "  \n",
        "  [1] The **$u_{i}$**'s are pairwise orthogonal\n",
        "  \n",
        "  [2] Each has norm 1, that is for all *i* and all j != i, ⟨**$u_{i}, u_{j}$**⟩ = 0, and ||**$u_{i}$**|| = 1."
      ],
      "metadata": {
        "id": "jBnDC5xVNspe"
      }
    },
    {
      "cell_type": "code",
      "source": [
        "#Example of a list of orthonormal vectors\n",
        "u1 = np.array([1,0])\n",
        "u2 = np.array([0,1])\n",
        "print('The inner product equals', u1[0]*u2[0]+u1[1]*u2[1])\n",
        "print('Norm for u1 equals',mt.sqrt(u1[0]**2 + u1[1]**2))\n",
        "print('Norm for u2 equals',mt.sqrt(u2[0]**2 + u2[1]**2))\n",
        "print('The norm for each ui equals 1')"
      ],
      "metadata": {
        "colab": {
          "base_uri": "https://localhost:8080/"
        },
        "id": "JYHSoN3GN16V",
        "outputId": "5806efa5-9561-44b8-b0ae-cc1df887da30"
      },
      "execution_count": 11,
      "outputs": [
        {
          "output_type": "stream",
          "name": "stdout",
          "text": [
            "The inner product equals 0\n",
            "Norm for u1 equals 1.0\n",
            "Norm for u2 equals 1.0\n",
            "The norm for each ui equals 1\n"
          ]
        }
      ]
    },
    {
      "cell_type": "markdown",
      "source": [
        "**Lemma 1.2.12** Let {**$u_{1}$**,...**$u_{m}$**} be an orthonormal list of vectors.\n",
        "\n",
        "  [1] ||∑$^{m}_{j=1}$ $α_{j}$**$u_{j}$**||$^2$ = ∑$^{m}_{j=1}$ $α_{j}^{2}$ for any $α_{j}$ ∈ ℝ, *j* ∈ {1,...*m*}\n",
        "\n",
        "  [2] {**$u_{1},...u_{m}$**} are linearly independent.\n",
        "\n",
        "**Theorem 1.2.13 Orthonormal Basis Expansion**: Let **$q_{1},...,q_{m}$** be an orthonormal basis of 𝒰 and let **u** ∈ 𝒰. Then\n",
        "\n",
        "**u** = ${\\displaystyle \\sum_{j=1}^{m}}$ ⟨**u,$q_{j}$**⟩**$q_{j}$**"
      ],
      "metadata": {
        "id": "MqDpF_-9OBHQ"
      }
    },
    {
      "cell_type": "markdown",
      "source": [
        "####**1.2.2.2 Best Approximation Theorem**\n",
        "We have a linear subspace 𝒰 ⊆ *V* and a vector **v** ∉ 𝒰. We want to find the vector **v** in 𝒰 that is closest to **v*** in the norm as in Figure 1.1, that is, we want to solve\n",
        "\n",
        "${\\displaystyle \\min_{𝐕^{*} ∈ 𝒰}}$ ||**v*** - **v**||.\n",
        "\n",
        "\n",
        "**Example 1.2.14:** Consider the two-dimensional case with a one-dimensional subspace, say 𝒰=span(**$u_{1}$**) with ||**$u_{1}$**|| = 1. The geometrical intuition of the best approximation theorem is demonstrated in Figure 1.1. The solution **v*** has the property that the difference **v** - **v*** makes a right angel with **$u_{1}$**, that is, it is orthogonal to it."
      ],
      "metadata": {
        "id": "fJ-5jQimOKaN"
      }
    },
    {
      "cell_type": "code",
      "source": [
        "#Figure 1.1\n",
        "v = np.array([mt.sqrt(2),1])\n",
        "vstar = np.array([mt.sqrt(2),0])\n",
        "v_vstar = np.array([0,1])\n",
        "u1 = np.array([1,0])\n",
        "M = np.array([v,v_vstar,vstar,u1])\n",
        "\n",
        "origin = np.array([[0, 0, 0,0],[0, 0, 0,0]]) # origin point\n",
        "\n",
        "plt.quiver(*origin, M[:,0], M[:,1], color=['k','k','k','k'], angles='xy', scale_units='xy', scale=1)\n",
        "plt.vlines(mt.sqrt(2), 0 ,1, linestyle=\"dashed\")\n",
        "plt.hlines(1, 0, mt.sqrt(2), linestyle=\"dashed\")\n",
        "plt.xlim(-0.4, 2)\n",
        "plt.ylim(-1, 2)\n",
        "plt.text(1.45,1, \"$\\mathbf{v}$\", fontsize=10)\n",
        "plt.text(-0.2,0.9, \"$\\mathbf{v-v*}$\", fontsize=8)\n",
        "plt.text(0.9,-0.15,\"$\\mathbf{u_1}$\", fontsize=8)\n",
        "plt.text(1.35,-0.15, \"$\\mathbf{v*}$\", fontsize=10)\n",
        "plt.title(\"Fig 1.1\")\n",
        "plt.show()"
      ],
      "metadata": {
        "colab": {
          "base_uri": "https://localhost:8080/",
          "height": 452
        },
        "id": "czXUsBTaORN9",
        "outputId": "9c857381-547e-4175-c2de-bab056f8d3f3"
      },
      "execution_count": 12,
      "outputs": [
        {
          "output_type": "display_data",
          "data": {
            "text/plain": [
              "<Figure size 640x480 with 1 Axes>"
            ],
            "image/png": "[encoded data removed]"
          },
          "metadata": {}
        }
      ]
    },
    {
      "cell_type": "code",
      "source": [
        "u1 = np.array([1,0])\n",
        "print(u1@v_vstar) #checking if <u1,v-v*> = 0\n",
        "print(vstar, 'equals', (u1@v)*u1)  # proves that v* = <u1,v>u1\n",
        "\n",
        "alpha = mt.sqrt(2)\n",
        "print('||v-alpha*u1||^2 = ', np.linalg.norm(v-2*u1)**2 )\n",
        "print('||v-v*||^2 + ||(alpha*-alpha)u1||^2',np.linalg.norm(v_vstar)**2 + np.linalg.norm((2-alpha)*u1)**2)"
      ],
      "metadata": {
        "colab": {
          "base_uri": "https://localhost:8080/"
        },
        "id": "GB59ftwGOfmA",
        "outputId": "bc19579c-603e-4e79-84a8-f2d01114babe"
      },
      "execution_count": 13,
      "outputs": [
        {
          "output_type": "stream",
          "name": "stdout",
          "text": [
            "0\n",
            "[1.41421356 0.        ] equals [1.41421356 0.        ]\n",
            "||v-alpha*u1||^2 =  1.3431457505076199\n",
            "||v-v*||^2 + ||(alpha*-alpha)u1||^2 1.3431457505076196\n"
          ]
        }
      ]
    },
    {
      "cell_type": "markdown",
      "source": [
        "Letting **v*** = α&**$u_{1}$**, the geometrical condition above translates into\n",
        "\n",
        "0 = ⟨**$u_{1}$, v-v***⟩ = ⟨**$u_{1}$, v-α*$u_{1}$**⟩ = ⟨**$u_{1}$, v**⟩ - α* ⟨**$u_{1}$,$u_{1}$**⟩ = ⟨**$u_{1}$,v**⟩-α*.\n",
        "\n",
        "which implies **v*** = ⟨**$u_{1}$,v**⟩**$u_{1}$**.\n",
        "\n",
        "By the Pythagorean theorem, for any α∈ℝ,\n",
        "\n",
        "||**v-α$u_{1}$**||$^2$ = ||**v**- **v***+ **v***-**α$u_{1}$**||$^2$ =\n",
        "\n",
        "||**v** - **v***+**(α*-α)$u_{1}$**||$^2$=||**v-v***||$^2$ + ||(**α*-α**)$u_{1}$||$^2$. Thus ||**v** -α**$u_{1}$**||$^2$ ≥ ||**v** - **v***||$^2$\n",
        "\n",
        "That confirms the optimality of **v***.\n",
        "\n",
        "**Definition 1.2.15 Orthogonal Projection:** Let 𝒰 ⊆ *V* be a linear subspace with orthonormal basis **$q_{1}$**,...,**$q_{m}$**. The orthogonal projection of **v** ∈ *V* on 𝒰 is defined as\n",
        "\n",
        "  $𝒫_{𝒰}$**v** = ${\\displaystyle \\sum_{j=1}^{m}}$ ⟨**v,$q_{j}$**⟩**$q_{j}$**.\n",
        "\n",
        "\n",
        "**Theorem 1.2.16 Best Approximation Theorem:** Let 𝒰 ⊆ *V* be a linear subspace with orthonormal basis **$q_{1}$,...$q_{m}$** and let **v** ∈ *V*. For any **u** ∈ 𝒰\n",
        "\n",
        "||**v** - 𝒫$_{𝒰}$**v**|| ≤ ||**v-u**||.\n",
        "\n",
        "Moreover, if **u** ∈ 𝒰 and the inequality above is an equality then **u** = 𝒫$_{𝒰}$**v**.\n",
        "\n",
        "**Lemma 1.2.17 Pythagorean Theorem:** Let **u,v** ∈ *V* be orthogonal. Then ||**u** + **v**||$^2$ = ||**u**||$^2$ + ||**v**||$^2$.\n",
        "\n",
        "**Lemma 1.2.18 Cauchy-Schwarz:** For any **u, v** ∈ *V*, |⟨**u**,**v**⟩| ≤ ||**u**||||**v**||.\n",
        "\n",
        "**Lemma 1.2.19 Orthogonal Decomposition:** Let 𝒰 ⊆ *V* be a linear subspace with orthonormal basis **$q_{1}$,...$q_{m}$** and let **v** ∈ *V*. For any **u**∈𝒰, ⟨**v** -$𝒫_{𝒰}$**v**, **u**⟩ = 0. In particular, **v** can be decomposed as (**v** - $𝒫_{𝒰}$**v**) + $𝒫_{𝒰}$**v** where the two terms are orthogonal."
      ],
      "metadata": {
        "id": "f53rPSZcOsDy"
      }
    },
    {
      "cell_type": "markdown",
      "source": [
        "###**1.2.3 Gram-Schmidt Process**\n",
        "The Gram-Schmidt algorithm is used to obtain an orthonormal basis.\n",
        "\n",
        "**Theorem 1.2.20 Gram-Schmidt**: Let **$a_{1},...,a_{m}$** in ***R***$^n$ be linearly independent. Then there exist an orthonormal basis **$q_{1}$,...,$q_{m}$** of span(**$a_{1},...a_{m}$**).\n",
        "\n",
        "###**1.2.4 Eigenvalues and Eigenvectors**\n",
        "Eigenvalues and eigenvectors are key concepts in many applications.\n",
        "\n",
        "**Definition 1.2.21 Eigenvalues and eigenvectors:** Let *A* ∈ ℝ$^{d𝚡d}$ be a square matrix. Then λ∈ℝ is an eigenvalue of *A* if there exists a nonzero vector **x** $\\neq$ **0** such that\n",
        "\n",
        "\\begin{align}\n",
        "A\\mathbf{x} = λ\\mathbf{x}\n",
        "\\end{align}\n",
        "\n",
        "* The vector **x** is referred to as an eigenvector.\n",
        "\n",
        "**Example 1.2.22 No Real Eigenvalues**: Set *d* = 2 and let\n",
        "\n",
        "\\begin{align}\n",
        "A = \\begin{pmatrix}\n",
        "0 & -1 \\\\\n",
        "1 & 0\n",
        "\\end{pmatrix}.\n",
        "\\end{align}\n",
        "\n",
        "For λ to be an eigenvalue, there must be a nonzero eigenvector **x** = (*$x_{1}$*,*$x_{2}$*)$^{T}$ such that\n",
        "\n",
        "\\begin{align}\n",
        "A\\mathbf{x} = λ\\mathbf{x}\n",
        "\\end{align}\n",
        "\n",
        "which can also be interpreted as\n",
        "\n",
        "\\begin{align}\n",
        "-x_{2}=λx_{1} \\text{ and } x_{1} = λx_{2}.\n",
        "\\end{align}\n",
        "\n",
        "Replacing these equations into each other, it must be that\n",
        "\\begin{align}\n",
        "-x_{2}=λ^2x_{2} \\text{ and } x_{1} = -λ^2x_{1}.\n",
        "\\end{align}\n",
        "\n",
        "Since $x_{1}$,$x_{2}$ cannot both be 0, λ must satisfy the equation\n",
        "\\begin{align}\n",
        "λ^2 = -1\n",
        "\\end{align}\n",
        "\n",
        "for which there is no real solution.\n",
        "\n",
        "In general, *A* ∈ℝ$^{dxd}$ has the most *d* distinct eigenvalues."
      ],
      "metadata": {
        "id": "AWupdCBcPZN0"
      }
    },
    {
      "cell_type": "markdown",
      "source": [
        "**Lemma 1.2.23 Number of Eigenvalues**: Let *A* ∈ℝ$^{dxd}$ and let $λ_{1},...λ_{m}$ be distinct eigenvalues of *A* with corresponding nonzero eigenvectors x**$x_{1},...x_{m}$**. Then **$x_{1},...x_{m}$** are linearly independent. As a result, *m* ≤ *d*."
      ],
      "metadata": {
        "id": "_Foi_rYFQVIy"
      }
    },
    {
      "cell_type": "markdown",
      "source": [
        "####**1.2.4.1 Diagonalization of Symmetric Matrices**\n",
        "\n",
        "We will use the notation diag($λ_{1},...,λ_{d}$) for the diagonal matrix with diagonal entries $λ_{1},...λ_{d}$.\n",
        "\n",
        "**Example 1.2.24 Diagonal (and Similar) Matrices):** Let *A* be similar to a matrix *D* = diag($λ_{1},...,λ_{d}$) with distinct diagonal entries, that is, there exists a nonsingular matrix *P* such that\n",
        "\n",
        "\\begin{align}\n",
        "A=PDP^{-1}.\n",
        "\\end{align}\n",
        "\n",
        "Let **$p_{1}$**,...,**$p_{d}$** be the columns of *P*. Then\n",
        "\\begin{align}\n",
        "AP = PD\n",
        "\\end{align}\n",
        "which impies\n",
        "\\begin{align}\n",
        "Ap_{i}=λ_{i}p_{i}.\n",
        "\\end{align}"
      ],
      "metadata": {
        "id": "wXcLBRnNQbCK"
      }
    },
    {
      "cell_type": "code",
      "source": [
        "## Example of Diagonal (and Similar) Matrices\n",
        "A = np.array([[-1,1],\n",
        "              [0,-2]])\n",
        "P = np.array([[1, -0.7071],\n",
        "              [0, 0.7071]])\n",
        "D = np.array([[-1, 0],\n",
        "              [0, -2]])\n",
        "AP = A@P\n",
        "PD = P@D\n",
        "print('AP = ',AP)\n",
        "print('PD = ',PD)\n",
        "print(\"Proof that AP = PD\")"
      ],
      "metadata": {
        "colab": {
          "base_uri": "https://localhost:8080/"
        },
        "id": "Xoz7NNylQlZG",
        "outputId": "38b7460a-7ca7-479c-d285-70e22b6045e1"
      },
      "execution_count": 14,
      "outputs": [
        {
          "output_type": "stream",
          "name": "stdout",
          "text": [
            "AP =  [[-1.      1.4142]\n",
            " [ 0.     -1.4142]]\n",
            "PD =  [[-1.      1.4142]\n",
            " [ 0.     -1.4142]]\n",
            "Proof that AP = PD\n"
          ]
        }
      ]
    },
    {
      "cell_type": "markdown",
      "source": [
        "**Theorem 1.2.25** If *A* is symmetric, then any two eigenvectors from different eigenspaces are orthogonal.\n",
        "\n",
        "**Theorem 1.2.26 The Spectral Theorem for Symmetric Matrices:** An *n* 𝖷 *n* symmetric matrix *A* has the following properties:\n",
        "* *A* has *n* real eigenvalues, counting multiplicities.\n",
        "* If λ is an eigenvalues of *A* with multiplicity *k*, then the eigenspace for λ is *k*-dimensional.\n",
        "* The eigenspaces are mutually orthogonal, in the sense that eigenvectors corresponding to different eigenvalues are orthogonal.\n",
        "* *A* is orthogonally diagonalizable\n",
        "\n",
        "####**1.2.4.2 Constrained Optimization**\n",
        "The following result is useful for many optimization problem.\n",
        "**Theorem 1.2.27** Let *A* be *n* 𝖷 *n* symmetric matrix *A* with an orthogonal diagonalization *A* = *PDP$^{-1}$*. The columns of *P* are orthonormal eigenvectors **$v_{1},...,v_{n}$** of *A*. Assume that the diagonal of *D* are arranged so that $λ_{1}≤λ_{2},...≤λ_{n}$. Then\n",
        "\\begin{align}\n",
        "min_{x\\neq0} \\frac{\\mathbf{x}^{T}Ax}{\\mathbf{x}^{T}x} = λ_{1}.\n",
        "\\end{align}\n",
        "\n",
        "is achieved when **x** = **v$_{1}$** and\n",
        "\n",
        "\\begin{align}\n",
        "max_{x\\neq0} \\frac{\\mathbf{x}^{T}Ax}{\\mathbf{x}^{T}x} = λ_{n}.\n",
        "\\end{align}\n",
        "\n",
        "is achieved when **x** = **v$_{n}$**"
      ],
      "metadata": {
        "id": "WMt9BKnIQvnQ"
      }
    },
    {
      "cell_type": "markdown",
      "source": [
        "##**1.3 Linear Regression**\n",
        "Linear regression is used frequently in practical applications because of its simplicity. The models depend linearly on their unknown parameters and therefore are easier to fit that models which are non-linearly related to their parameters. As a result, the statistical properties of the resulting estimators are easier to determine.\n",
        "\n",
        "###**1.3.1 QR Decomposition**\n",
        "QR decomposition is a useful procedure to solve the linear least squares problem. First we use the Gram-Schmidt algorithm (from 1.2.3) to obtain an orthonormal basis span(**a$_{1}$**,...,**a$_{m}$**) from a linearly independent set of span(**a$_{1}$**,...,**a$_{m}$**) . In order to derive QR decomposition, let\n",
        "\\begin{align}\n",
        " A = \\begin{pmatrix}\n",
        "        ⃒ & \\ & ⃒   \\\\\n",
        "        \\mathbf{a_{1}} &... & \\mathbf{a_{m}} \\\\\n",
        "         ⃒ & \\ & ⃒  \n",
        "        \\end{pmatrix}\n",
        "\\end{align}\n",
        "\\begin{align}\n",
        "\\text{and}\n",
        "\\end{align}\n",
        "\\begin{align}\n",
        "         Q = \\begin{pmatrix}\n",
        "        ⃒ & \\ & ⃒   \\\\\n",
        "        \\mathbf{q_{1}} &... & \\mathbf{q_{m}} \\\\\n",
        "         ⃒ & \\ & ⃒  \n",
        "        \\end{pmatrix}.\n",
        "\\end{align}\n",
        "where *A*, *Q* are *n*  𝖷 *m* matrices. The output of the Gram-Schimdt algorithm above can then be written in the following compact form, known as QR decomposition in Figure 1.3.\n",
        "\\begin{align}\n",
        "A = QR\n",
        "\\end{align}\n",
        "where column *i* of the *m* 𝖷 *m* matrix *R* contains the coefficients of the linear combination of **q$_{j}$**'s that produces **a$_{i}$**. *Q* is a ℝ$^{n 𝚡 m}$ matrix with *Q$^{T}$Q* = *I$_{m𝚡 m}$*. It may be easier to verify *A* =*QR* by\n",
        "\\begin{align}\n",
        "A^{T} = R^{T}Q^{T}\n",
        "\\end{align}\n",
        "\n",
        "By the proof of Gram-Schmidt, **a$_{i}$** ∈ span(**q$_{1}$,...,q$_{i}$**). So columni *i* of *R* has only zeros below the diagonal. Hence *R* has a special structure: it is upper triangular.\n",
        "\n",
        "\\begin{align}\n",
        "      \\begin{bmatrix}\n",
        "       | & | & & & | \\\\\n",
        "       | & | & & & | \\\\\n",
        "       a_{1} & a_{2} & □ & □ & a_{n} \\\\\n",
        "       | & | & & & | \\\\\n",
        "       | & | & & & | \\\\\n",
        "        \\end{bmatrix}\n",
        "        =\n",
        "        \\begin{bmatrix}\n",
        "       | & | & & & | \\\\\n",
        "       | & | & & & | \\\\\n",
        "       q_{1} & q_{2} & □ & □ & q_{n} \\\\\n",
        "       | & | & & & | \\\\\n",
        "       | & | & & & | \\\\\n",
        "        \\end{bmatrix}\n",
        "        \\begin{bmatrix}\n",
        "       r & 𝖷 & 𝖷  & 𝖷 & 𝖷  \\\\\n",
        "         & r & 𝖷 & 𝖷  & 𝖷  \\\\\n",
        "         &   & □ & 𝖷  & 𝖷  \\\\\n",
        "         &   &     &  □ &  𝖷 \\\\\n",
        "        &    &     &       & r \\\\\n",
        "        \\end{bmatrix}\n",
        "\\end{align}\n",
        "\\begin{align}\n",
        "        \\text{Fig. 1.3: QR decomposition}\n",
        "\\end{align}"
      ],
      "metadata": {
        "id": "ZV0HSEFQRGmT"
      }
    },
    {
      "cell_type": "code",
      "source": [
        "#Gram Schmidt Algorithm\n",
        "def gram_schmidt(V):\n",
        "    U = np.zeros(V.shape)\n",
        "    for i in range(V.shape[1]):\n",
        "        # orthogonalization\n",
        "        vector = V[:, i] ## holds the sepcified i vector\n",
        "        space = U[:, :i] ## holds all the vectors up to the specified i variable\n",
        "        projection = vector @ space\n",
        "        vector = vector - np.sum(projection * space, axis=1)\n",
        "        # normalization\n",
        "        norm = np.sqrt(vector @ vector)\n",
        "        vector /=round(abs(norm),ndigits=0)  < 1e-8 and 1 or norm\n",
        "        U[:, i] = vector\n",
        "    return U"
      ],
      "metadata": {
        "id": "aHS9wogTRRfm"
      },
      "execution_count": 15,
      "outputs": []
    },
    {
      "cell_type": "code",
      "source": [
        "A = np.array([[1,1,0],[1,0,1],[0,1,1]], dtype=float)\n",
        "print(\"matrix A\")\n",
        "print(A)\n",
        "Q = gram_schmidt(A) ## Find matrix Q using the gram-schmidt algorithm\n",
        "print('Q is', Q)\n",
        "R = Q.T @ A ## Find matrix R using Q^T*A\n",
        "print('R is', R)\n",
        "QR = Q@R\n",
        "print('QR is ', QR)\n"
      ],
      "metadata": {
        "colab": {
          "base_uri": "https://localhost:8080/"
        },
        "id": "E5Rnl4W3RSrj",
        "outputId": "be5ca3cb-5bae-4567-db0d-98f02f1dcb87"
      },
      "execution_count": 16,
      "outputs": [
        {
          "output_type": "stream",
          "name": "stdout",
          "text": [
            "matrix A\n",
            "[[1. 1. 0.]\n",
            " [1. 0. 1.]\n",
            " [0. 1. 1.]]\n",
            "Q is [[ 0.70710678  0.40824829 -0.57735027]\n",
            " [ 0.70710678 -0.40824829  0.57735027]\n",
            " [ 0.          0.81649658  0.57735027]]\n",
            "R is [[ 1.41421356e+00  7.07106781e-01  7.07106781e-01]\n",
            " [ 1.66533454e-16  1.22474487e+00  4.08248290e-01]\n",
            " [ 2.22044605e-16 -1.11022302e-16  1.15470054e+00]]\n",
            "QR is  [[ 1.00000000e+00  1.00000000e+00  4.02426802e-17]\n",
            " [ 1.00000000e+00 -2.45223988e-16  1.00000000e+00]\n",
            " [ 2.64171508e-16  1.00000000e+00  1.00000000e+00]]\n"
          ]
        }
      ]
    },
    {
      "cell_type": "markdown",
      "source": [
        "###**1.3.2 Least-squares Problems**\n",
        "Let *A* ∈ ℝ$^{n𝖷m}$ be an *n 𝖷 m* matrix and **b** ∈ ℝ$^{n}$ be a vector. We try to solve the system *A* **x** = **b**, which is often inconsistent. We are looking to use the A**x** to approximate **b**. It is reasonable to assume that matrix *A* has linearly independent columns. If *n* = *m*, that is, if *A* is a square matrix, we can use the matrix inverse to solve the system. But we are particularly interested in the over-determined case where *n* > *m*. We cannot use the matrix inverse then. One possibility to make sense of the problem in that case is to cast it as the least-square problem.\n",
        "\n",
        "\\begin{align}\n",
        "\\min_{x∈ℝ^{m}} ||A\\mathbf{x}-\\mathbf{b}||\n",
        "\\end{align}\n",
        "\n",
        "In order to use the orthogonal decomposition result, we write\n",
        "\\begin{align}\n",
        " A = \\begin{pmatrix}\n",
        "        ⃒ & \\ & ⃒   \\\\\n",
        "        \\mathbf{a_{1}} &... & \\mathbf{a_{m}} \\\\\n",
        "         ⃒ & \\ & ⃒  \n",
        "        \\end{pmatrix} =\n",
        "        \\begin{pmatrix}\n",
        "        a_{1,1} & ... & a_{1,m}   \\\\\n",
        "        a_{2,1} &... & a_{2,m} \\\\\n",
        "        ... & ... & ... \\\\\n",
        "        a_{n,1} & ... & a_{n,m}  \n",
        "        \\end{pmatrix}\n",
        "\\text{and }\n",
        "\\mathbf{b} = \\begin{pmatrix}\n",
        "b_{1} \\\\ : \\\\ b_{n}\n",
        "\\end{pmatrix}\n",
        "\\end{align}\n",
        "\n",
        "Now we seek a linear combination of the columns of *A* that minimizes the objectives\n",
        "\\begin{align}\n",
        "||\\sum_{j=1}^{n}x_j\\mathbf{a_j}-\\mathbf{b}||^2 = \\sum_{j=1}^{n} \\left(\\sum_{j=1}^{m}x_{j}a_{i,j}-b_i\\right)^2 = \\sum_{j=1}^{n}(\\hat{y_{i}}-b_i)^2.\n",
        "\\end{align}\n",
        "\n",
        "where\n",
        "\\begin{align}\n",
        "\\hat{y_{i}} = \\sum_{j=1}^{m}x_{j}a_{i,j}.\n",
        "\\end{align}\n",
        "\n",
        "Now apply our characterization of the orthogonal projection on the column space of *A*. Let\n",
        "\\begin{align}\n",
        "\\hat{\\mathbf{b}}= 𝒫_{col(A)}\\mathbf{b}.\n",
        "\\end{align}\n",
        "\n",
        "Because $\\hat{\\mathbf{b}}$ is in the column space of *A*, the equation *A* **x** = $\\hat{\\mathbf{b}}$ is consistent and there is an$\\hat{x}$ such that\n",
        "\\begin{align}\n",
        "A\\hat{\\mathbf{x}} = \\hat{\\mathbf{b}}.(1.3.1)\n",
        "\\end{align}\n",
        "\n",
        "Since $\\hat{\\mathbf{b}}$ is the closed point in col(A) to **b**, a vector $\\hat{\\mathbf{x}}$ is a least-square solution of *A* **x** = **b** if and only if (1.3.1) holds. The following theorem provides an alternative description of the solution.\n",
        "\n",
        "**Theorem 1.3.1 (Normal Equations)** Let *A* ∈ ℝ$^{n𝖷m}$ be an *n* 𝖷 *m* matrix with linearly independent columns and let **b** ∈ℝ$^{n}$ be a vector. The solution to the least square problem\n",
        "\\begin{align}\n",
        "\\min_{x∈ℝ^{m}} ||A\\mathbf{x}-\\mathbf{b}||\n",
        "\\end{align}\n",
        "satisfies\n",
        "\\begin{align}\n",
        "A^{T}A\\mathbf{x}=A^{T}\\mathbf{b}\n",
        "\\end{align}\n",
        "which are known as the normal equations."
      ],
      "metadata": {
        "id": "5Wi95cMsRZct"
      }
    },
    {
      "cell_type": "code",
      "source": [
        "from numpy.linalg import inv\n",
        "## generate random data\n",
        "def generate_data():\n",
        "    A = np.random.rand(100,1) # gives us 100 random values but formated as a 1D array\n",
        "    b = 4 + 3*A + np.random.randn(100,1)\n",
        "    return A, b\n",
        "\n",
        "# Define the Normal Equation (A^T*A)^-1*A^Tb\n",
        "def normalEquation(A,b):\n",
        "    AT = A.T # A transpose\n",
        "    NE = inv(AT.dot(A)).dot(AT).dot(b)\n",
        "    return NE # returns normal equation\n",
        "\n",
        "# Plot the generated data\n",
        "A,b = generate_data()\n",
        "import matplotlib.pyplot as plt\n",
        "plt.plot(A,b, \"r.\")"
      ],
      "metadata": {
        "colab": {
          "base_uri": "https://localhost:8080/",
          "height": 447
        },
        "id": "fl7Aud0URhTn",
        "outputId": "b7ea049f-12cb-494b-cda8-ca3577bc87ee"
      },
      "execution_count": 17,
      "outputs": [
        {
          "output_type": "execute_result",
          "data": {
            "text/plain": [
              "[<matplotlib.lines.Line2D at 0x7a7c8e865810>]"
            ]
          },
          "metadata": {},
          "execution_count": 17
        },
        {
          "output_type": "display_data",
          "data": {
            "text/plain": [
              "<Figure size 640x480 with 1 Axes>"
            ],
            "image/png": "[encoded data removed]"
          },
          "metadata": {}
        }
      ]
    },
    {
      "cell_type": "code",
      "source": [
        "A_b = np.c_[np.ones((100, 1)), A]\n",
        "params = normalEquation(A_b,b)\n",
        "print(params)"
      ],
      "metadata": {
        "colab": {
          "base_uri": "https://localhost:8080/"
        },
        "id": "iea92CioRk-L",
        "outputId": "143be1a2-0f40-435a-b3e4-cdcde7d66f0e"
      },
      "execution_count": 18,
      "outputs": [
        {
          "output_type": "stream",
          "name": "stdout",
          "text": [
            "[[4.08607928]\n",
            " [2.85459999]]\n"
          ]
        }
      ]
    },
    {
      "cell_type": "markdown",
      "source": [
        "**Theorem 1.3.2 (Least Squares via QR)** Let *A* ∈ ℝ$^{n𝖷m}$ be an *n* 𝖷 *m* matrix with linearly independent columns, let **b** ∈ ℝ$^{n}$ be a vector, and let *A* = *QR* be a QR decomposition of *A*, where *Q* is a ℝ$^{n𝖷m}$ matrix with *Q$^{T}$Q* = *I$_{m𝖷m}$* and *R* is upper triangular. The solution to the least-squares problem\n",
        "\\begin{align}\n",
        "\\min_{x∈ℝ^{m}} ||A\\mathbf{x}-\\mathbf{b}||\n",
        "\\end{align}\n",
        "satisfies\n",
        "\\begin{align}\n",
        "R \\mathbf{x}^* = Q^{T} \\mathbf{b}\n",
        "\\end{align}"
      ],
      "metadata": {
        "id": "HSXBui3eR6r6"
      }
    },
    {
      "cell_type": "code",
      "source": [
        "test_A = np.array([[0],[2]])\n",
        "test_A_b = np.c_[np.ones((2,1)), test_A]\n",
        "prediction = test_A_b.dot(params)\n",
        "print(prediction)"
      ],
      "metadata": {
        "colab": {
          "base_uri": "https://localhost:8080/"
        },
        "id": "cdskMrOOR-k0",
        "outputId": "39a76820-7fb5-4260-84ef-beab48adb2a9"
      },
      "execution_count": 19,
      "outputs": [
        {
          "output_type": "stream",
          "name": "stdout",
          "text": [
            "[[4.08607928]\n",
            " [9.79527927]]\n"
          ]
        }
      ]
    },
    {
      "cell_type": "code",
      "source": [
        "plt.plot(test_A, prediction, \"r--\")\n",
        "plt.plot(A, b, \"b.\")\n",
        "plt.axis([0, 2, 0, 15])\n",
        "plt.show()"
      ],
      "metadata": {
        "colab": {
          "base_uri": "https://localhost:8080/",
          "height": 430
        },
        "id": "IaZ-oyUPR_YH",
        "outputId": "52157680-9217-47ad-efa4-776945d9549e"
      },
      "execution_count": 20,
      "outputs": [
        {
          "output_type": "display_data",
          "data": {
            "text/plain": [
              "<Figure size 640x480 with 1 Axes>"
            ],
            "image/png": "[encoded data removed]"
          },
          "metadata": {}
        }
      ]
    },
    {
      "cell_type": "markdown",
      "source": [
        "###**1.3.3 Linear Regression**\n",
        "Given input data points {(**x$_{i}$**,*y$_{i}$*)}$_{i=1}^n$ with each **x$_{i}$** = (*x$_{i1}$,...,*x$_{id}$)$^{T}$, we seek an affine function to fit the data. The common approach involves finding coefficients, β$_{j}$'s that minimize the criterion\n",
        "\\begin{align}\n",
        "\\sum_{i=1}^{n}(y_{i}-\\hat{y}_{i})^2\n",
        "\\end{align}\n",
        "where\n",
        "\\begin{align}\n",
        "\\hat{y}_{i} = β_{0} + \\sum_{j=1}^{d}β_{j}x_{ij}\n",
        "\\end{align}\n",
        "can be viewed as the predicted values of the linear model with coefficients β$_{j}$. The minimization problem can be formulated in matrix form. Let\n",
        "\\begin{align}\n",
        "y = \\begin{pmatrix}\n",
        "       y_1 \\\\\n",
        "       y_2 \\\\\n",
        "       \\text{:} \\\\\n",
        "       y_n\n",
        "        \\end{pmatrix},\n",
        "A = \\begin{pmatrix}\n",
        "      1 & \\mathbf{x}_1^T \\\\\n",
        "      1 & \\mathbf{x}_2^T \\\\\n",
        "      \\text{:} & \\text{:} \\\\\n",
        "      1 & 1 \\mathbf{x}_n^T\n",
        "    \\end{pmatrix},\n",
        "β = \\begin{pmatrix}\n",
        "      β_{0} \\\\\n",
        "      β_{1} \\\\\n",
        "      \\text{:} \\\\\n",
        "      β_{d}\n",
        "    \\end{pmatrix}.\n",
        "\\end{align}\n",
        "\n",
        "Then the problem is transformed to\n",
        "\\begin{align}\n",
        "\\min_{β} ||\\mathbf{y} - Aβ||^2.\n",
        "\\end{align}\n"
      ],
      "metadata": {
        "id": "CgjP18UJEthv"
      }
    },
    {
      "cell_type": "code",
      "source": [
        "import pandas as pd\n",
        "# Generate random data\n",
        "np.random.seed(0)\n",
        "A = 2 * np.random.rand(100) # gives us 100 random values\n",
        "extra = np.random.rand(100)\n",
        "b = 4 + 3*A + extra\n",
        "\n",
        "# Create a data frame to store the Correlating A nd b values\n",
        "df = pd.DataFrame(\n",
        "        {'A' : A,\n",
        "         'b' : b}\n",
        "  )\n",
        "\n",
        "# Show the first 5 row\n",
        "df.head()"
      ],
      "metadata": {
        "colab": {
          "base_uri": "https://localhost:8080/",
          "height": 206
        },
        "id": "ijB1OkdOFBfd",
        "outputId": "d357ac5b-587c-453d-9da5-f52354ec7f45"
      },
      "execution_count": 21,
      "outputs": [
        {
          "output_type": "execute_result",
          "data": {
            "text/plain": [
              "          A         b\n",
              "0  1.097627  7.970698\n",
              "1  1.430379  8.561144\n",
              "2  1.205527  8.351774\n",
              "3  1.089766  8.231488\n",
              "4  0.847310  6.790682"
            ],
            "text/html": [
              "\n",
              "  <div id=\"df-b5bdda2e-44c0-4baa-99c3-4029da066beb\" class=\"colab-df-container\">\n",
              "    <div>\n",
              "<style scoped>\n",
              "    .dataframe tbody tr th:only-of-type {\n",
              "        vertical-align: middle;\n",
              "    }\n",
              "\n",
              "    .dataframe tbody tr th {\n",
              "        vertical-align: top;\n",
              "    }\n",
              "\n",
              "    .dataframe thead th {\n",
              "        text-align: right;\n",
              "    }\n",
              "</style>\n",
              "<table border=\"1\" class=\"dataframe\">\n",
              "  <thead>\n",
              "    <tr style=\"text-align: right;\">\n",
              "      <th></th>\n",
              "      <th>A</th>\n",
              "      <th>b</th>\n",
              "    </tr>\n",
              "  </thead>\n",
              "  <tbody>\n",
              "    <tr>\n",
              "      <th>0</th>\n",
              "      <td>1.097627</td>\n",
              "      <td>7.970698</td>\n",
              "    </tr>\n",
              "    <tr>\n",
              "      <th>1</th>\n",
              "      <td>1.430379</td>\n",
              "      <td>8.561144</td>\n",
              "    </tr>\n",
              "    <tr>\n",
              "      <th>2</th>\n",
              "      <td>1.205527</td>\n",
              "      <td>8.351774</td>\n",
              "    </tr>\n",
              "    <tr>\n",
              "      <th>3</th>\n",
              "      <td>1.089766</td>\n",
              "      <td>8.231488</td>\n",
              "    </tr>\n",
              "    <tr>\n",
              "      <th>4</th>\n",
              "      <td>0.847310</td>\n",
              "      <td>6.790682</td>\n",
              "    </tr>\n",
              "  </tbody>\n",
              "</table>\n",
              "</div>\n",
              "    <div class=\"colab-df-buttons\">\n",
              "\n",
              "  <div class=\"colab-df-container\">\n",
              "    <button class=\"colab-df-convert\" onclick=\"convertToInteractive('df-b5bdda2e-44c0-4baa-99c3-4029da066beb')\"\n",
              "            title=\"Convert this dataframe to an interactive table.\"\n",
              "            style=\"display:none;\">\n",
              "\n",
              "  <svg xmlns=\"http://www.w3.org/2000/svg\" height=\"24px\" viewBox=\"0 -960 960 960\">\n",
              "    <path d=\"M120-120v-720h720v720H120Zm60-500h600v-160H180v160Zm220 220h160v-160H400v160Zm0 220h160v-160H400v160ZM180-400h160v-160H180v160Zm440 0h160v-160H620v160ZM180-180h160v-160H180v160Zm440 0h160v-160H620v160Z\"/>\n",
              "  </svg>\n",
              "    </button>\n",
              "\n",
              "  <style>\n",
              "    .colab-df-container {\n",
              "      display:flex;\n",
              "      gap: 12px;\n",
              "    }\n",
              "\n",
              "    .colab-df-convert {\n",
              "      background-color: #E8F0FE;\n",
              "      border: none;\n",
              "      border-radius: 50%;\n",
              "      cursor: pointer;\n",
              "      display: none;\n",
              "      fill: #1967D2;\n",
              "      height: 32px;\n",
              "      padding: 0 0 0 0;\n",
              "      width: 32px;\n",
              "    }\n",
              "\n",
              "    .colab-df-convert:hover {\n",
              "      background-color: #E2EBFA;\n",
              "      box-shadow: 0px 1px 2px rgba(60, 64, 67, 0.3), 0px 1px 3px 1px rgba(60, 64, 67, 0.15);\n",
              "      fill: #174EA6;\n",
              "    }\n",
              "\n",
              "    .colab-df-buttons div {\n",
              "      margin-bottom: 4px;\n",
              "    }\n",
              "\n",
              "    [theme=dark] .colab-df-convert {\n",
              "      background-color: #3B4455;\n",
              "      fill: #D2E3FC;\n",
              "    }\n",
              "\n",
              "    [theme=dark] .colab-df-convert:hover {\n",
              "      background-color: #434B5C;\n",
              "      box-shadow: 0px 1px 3px 1px rgba(0, 0, 0, 0.15);\n",
              "      filter: drop-shadow(0px 1px 2px rgba(0, 0, 0, 0.3));\n",
              "      fill: #FFFFFF;\n",
              "    }\n",
              "  </style>\n",
              "\n",
              "    <script>\n",
              "      const buttonEl =\n",
              "        document.querySelector('#df-b5bdda2e-44c0-4baa-99c3-4029da066beb button.colab-df-convert');\n",
              "      buttonEl.style.display =\n",
              "        google.colab.kernel.accessAllowed ? 'block' : 'none';\n",
              "\n",
              "      async function convertToInteractive(key) {\n",
              "        const element = document.querySelector('#df-b5bdda2e-44c0-4baa-99c3-4029da066beb');\n",
              "        const dataTable =\n",
              "          await google.colab.kernel.invokeFunction('convertToInteractive',\n",
              "                                                    [key], {});\n",
              "        if (!dataTable) return;\n",
              "\n",
              "        const docLinkHtml = 'Like what you see? Visit the ' +\n",
              "          '<a target=\"_blank\" href=https://colab.research.google.com/notebooks/data_table.ipynb>data table notebook</a>'\n",
              "          + ' to learn more about interactive tables.';\n",
              "        element.innerHTML = '';\n",
              "        dataTable['output_type'] = 'display_data';\n",
              "        await google.colab.output.renderOutput(dataTable, element);\n",
              "        const docLink = document.createElement('div');\n",
              "        docLink.innerHTML = docLinkHtml;\n",
              "        element.appendChild(docLink);\n",
              "      }\n",
              "    </script>\n",
              "  </div>\n",
              "\n",
              "\n",
              "<div id=\"df-b4314255-44ce-4f51-aef2-e9448a5a7bd5\">\n",
              "  <button class=\"colab-df-quickchart\" onclick=\"quickchart('df-b4314255-44ce-4f51-aef2-e9448a5a7bd5')\"\n",
              "            title=\"Suggest charts\"\n",
              "            style=\"display:none;\">\n",
              "\n",
              "<svg xmlns=\"http://www.w3.org/2000/svg\" height=\"24px\"viewBox=\"0 0 24 24\"\n",
              "     width=\"24px\">\n",
              "    <g>\n",
              "        <path d=\"M19 3H5c-1.1 0-2 .9-2 2v14c0 1.1.9 2 2 2h14c1.1 0 2-.9 2-2V5c0-1.1-.9-2-2-2zM9 17H7v-7h2v7zm4 0h-2V7h2v10zm4 0h-2v-4h2v4z\"/>\n",
              "    </g>\n",
              "</svg>\n",
              "  </button>\n",
              "\n",
              "<style>\n",
              "  .colab-df-quickchart {\n",
              "      --bg-color: #E8F0FE;\n",
              "      --fill-color: #1967D2;\n",
              "      --hover-bg-color: #E2EBFA;\n",
              "      --hover-fill-color: #174EA6;\n",
              "      --disabled-fill-color: #AAA;\n",
              "      --disabled-bg-color: #DDD;\n",
              "  }\n",
              "\n",
              "  [theme=dark] .colab-df-quickchart {\n",
              "      --bg-color: #3B4455;\n",
              "      --fill-color: #D2E3FC;\n",
              "      --hover-bg-color: #434B5C;\n",
              "      --hover-fill-color: #FFFFFF;\n",
              "      --disabled-bg-color: #3B4455;\n",
              "      --disabled-fill-color: #666;\n",
              "  }\n",
              "\n",
              "  .colab-df-quickchart {\n",
              "    background-color: var(--bg-color);\n",
              "    border: none;\n",
              "    border-radius: 50%;\n",
              "    cursor: pointer;\n",
              "    display: none;\n",
              "    fill: var(--fill-color);\n",
              "    height: 32px;\n",
              "    padding: 0;\n",
              "    width: 32px;\n",
              "  }\n",
              "\n",
              "  .colab-df-quickchart:hover {\n",
              "    background-color: var(--hover-bg-color);\n",
              "    box-shadow: 0 1px 2px rgba(60, 64, 67, 0.3), 0 1px 3px 1px rgba(60, 64, 67, 0.15);\n",
              "    fill: var(--button-hover-fill-color);\n",
              "  }\n",
              "\n",
              "  .colab-df-quickchart-complete:disabled,\n",
              "  .colab-df-quickchart-complete:disabled:hover {\n",
              "    background-color: var(--disabled-bg-color);\n",
              "    fill: var(--disabled-fill-color);\n",
              "    box-shadow: none;\n",
              "  }\n",
              "\n",
              "  .colab-df-spinner {\n",
              "    border: 2px solid var(--fill-color);\n",
              "    border-color: transparent;\n",
              "    border-bottom-color: var(--fill-color);\n",
              "    animation:\n",
              "      spin 1s steps(1) infinite;\n",
              "  }\n",
              "\n",
              "  @keyframes spin {\n",
              "    0% {\n",
              "      border-color: transparent;\n",
              "      border-bottom-color: var(--fill-color);\n",
              "      border-left-color: var(--fill-color);\n",
              "    }\n",
              "    20% {\n",
              "      border-color: transparent;\n",
              "      border-left-color: var(--fill-color);\n",
              "      border-top-color: var(--fill-color);\n",
              "    }\n",
              "    30% {\n",
              "      border-color: transparent;\n",
              "      border-left-color: var(--fill-color);\n",
              "      border-top-color: var(--fill-color);\n",
              "      border-right-color: var(--fill-color);\n",
              "    }\n",
              "    40% {\n",
              "      border-color: transparent;\n",
              "      border-right-color: var(--fill-color);\n",
              "      border-top-color: var(--fill-color);\n",
              "    }\n",
              "    60% {\n",
              "      border-color: transparent;\n",
              "      border-right-color: var(--fill-color);\n",
              "    }\n",
              "    80% {\n",
              "      border-color: transparent;\n",
              "      border-right-color: var(--fill-color);\n",
              "      border-bottom-color: var(--fill-color);\n",
              "    }\n",
              "    90% {\n",
              "      border-color: transparent;\n",
              "      border-bottom-color: var(--fill-color);\n",
              "    }\n",
              "  }\n",
              "</style>\n",
              "\n",
              "  <script>\n",
              "    async function quickchart(key) {\n",
              "      const quickchartButtonEl =\n",
              "        document.querySelector('#' + key + ' button');\n",
              "      quickchartButtonEl.disabled = true;  // To prevent multiple clicks.\n",
              "      quickchartButtonEl.classList.add('colab-df-spinner');\n",
              "      try {\n",
              "        const charts = await google.colab.kernel.invokeFunction(\n",
              "            'suggestCharts', [key], {});\n",
              "      } catch (error) {\n",
              "        console.error('Error during call to suggestCharts:', error);\n",
              "      }\n",
              "      quickchartButtonEl.classList.remove('colab-df-spinner');\n",
              "      quickchartButtonEl.classList.add('colab-df-quickchart-complete');\n",
              "    }\n",
              "    (() => {\n",
              "      let quickchartButtonEl =\n",
              "        document.querySelector('#df-b4314255-44ce-4f51-aef2-e9448a5a7bd5 button');\n",
              "      quickchartButtonEl.style.display =\n",
              "        google.colab.kernel.accessAllowed ? 'block' : 'none';\n",
              "    })();\n",
              "  </script>\n",
              "</div>\n",
              "\n",
              "    </div>\n",
              "  </div>\n"
            ]
          },
          "metadata": {},
          "execution_count": 21
        }
      ]
    },
    {
      "cell_type": "code",
      "source": [
        "# Calculate the mean\n",
        "mean_A = np.mean(A)\n",
        "mean_b = np.mean(b)\n",
        "\n",
        "# Calculate the numerator and denominator of beta\n",
        "df['Abcov'] = (df['A']-mean_A) * (df['b'] - mean_A) ## S_xy\n",
        "df['Avar'] = (df['A']-mean_A)**2 ## S_xx\n",
        "# Calculate beta0 and beta1\n",
        "beta = df['Abcov'].sum() / df['Avar'].sum() ## S_xy/S_xx\n",
        "alpha = mean_b - (beta* mean_A)\n",
        "print('alpha = ',alpha)\n",
        "print('beta  = ', beta)"
      ],
      "metadata": {
        "colab": {
          "base_uri": "https://localhost:8080/"
        },
        "id": "vi0YezFGFIl4",
        "outputId": "8255fbf4-6666-4666-fda0-93477e9523f4"
      },
      "execution_count": 22,
      "outputs": [
        {
          "output_type": "stream",
          "name": "stdout",
          "text": [
            "alpha =  4.558080024157021\n",
            "beta  =  2.968275530101883\n"
          ]
        }
      ]
    },
    {
      "cell_type": "code",
      "source": [
        "# Get a prediction formula\n",
        "yhat = alpha + beta*A\n",
        "\n",
        "# Plot the data with the fitted line\n",
        "plt.plot(A, yhat, \"r-\")\n",
        "plt.plot(A, b, \"b.\")\n",
        "plt.axis([0, 2, 0 , 15])\n",
        "plt.show()"
      ],
      "metadata": {
        "colab": {
          "base_uri": "https://localhost:8080/",
          "height": 430
        },
        "id": "1YPqmm5uFJoi",
        "outputId": "e177c027-bc7a-4739-8154-b337ed081db7"
      },
      "execution_count": 23,
      "outputs": [
        {
          "output_type": "display_data",
          "data": {
            "text/plain": [
              "<Figure size 640x480 with 1 Axes>"
            ],
            "image/png": "[encoded data removed]"
          },
          "metadata": {}
        }
      ]
    }
  ]
}