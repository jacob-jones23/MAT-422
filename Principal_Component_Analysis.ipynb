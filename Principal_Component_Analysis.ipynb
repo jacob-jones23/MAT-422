{
  "nbformat": 4,
  "nbformat_minor": 0,
  "metadata": {
    "colab": {
      "provenance": [],
      "authorship_tag": "ABX9TyM/bKRvfikAo9mUIHiI4t5u",
      "include_colab_link": true
    },
    "kernelspec": {
      "name": "python3",
      "display_name": "Python 3"
    },
    "language_info": {
      "name": "python"
    }
  },
  "cells": [
    {
      "cell_type": "markdown",
      "metadata": {
        "id": "view-in-github",
        "colab_type": "text"
      },
      "source": [
        "<a href=\"https://colab.research.google.com/github/jacob-jones23/MAT-422/blob/main/Principal_Component_Analysis.ipynb\" target=\"_parent\"><img src=\"https://colab.research.google.com/assets/colab-badge.svg\" alt=\"Open In Colab\"/></a>"
      ]
    },
    {
      "cell_type": "markdown",
      "source": [
        "#**1.4 Principal Component Analysis**\n",
        "Principal compnent analysis is commonly used for dimensionality reduction by projecting each data point onto only the first few principal components to obtain lower-dimensional data while preserving as much of the data's variation as possible. Its underlying mathematics can be explained with singular value decomposition.\n",
        "\n",
        "##**1.4.1 Singular Value Decomposition**\n",
        "Let *A* be an *m x n* matrix. Then *A$^{T}$A* is symmetric and can be orthogonally diagonalized. Let **v$_{1}$,...,v$_{n}$** be an orthonormal basis for ℝ$^{n}$ consisting of eigenvectors of *A$^{T}$A*, and let λ$_{1}$,...,λ$_{n}$ be the associated eigenvalues of *A$^{T}$A*. Then for 1 ≤ *i* ≤ n,\n",
        "\\begin{align}\n",
        "||A\\mathbf{v_i}||^2 = (A\\mathbf{v_i})^{T}A\\mathbf{v_{i}} = \\mathbf{v_i}^{T}A^{T}A\\mathbf{v_i}\n",
        "\\end{align}\n",
        "\\begin{align}\n",
        "= \\mathbf{v_i}^{T}(λ_{i}\\mathbf{v_i})\n",
        " \\text{ since } \\mathbf{v_i} \\text{ is an eigenvectors of } A^{T}A\n",
        " \\end{align}\n",
        "  \\begin{align}\n",
        "  = λ_{i}\n",
        "  \\text{ since  } \\mathbf{v_i} \\text{ is a unit vector}\n",
        "  \\end{align}\n",
        "\n",
        "  So the eigenvalues of *A* are all nonnegative. By renumbering, if neccesary, we may assume that the eigenvalues are arranged so that\n",
        "  \\begin{align}\n",
        "  λ_1 ≥ λ_2 ≥ ...λ_n ≥0.\n",
        "  \\end{align}\n",
        "  The singular values of *A* are the square roots of the eigenvalues of *A$^{T}$A*, denoted by σ$_{1}$,...,σ$_{n}$ and they are arranged in decreasing order. That is, σ$_{i}$ = λ$_{i}^{1/2}$ for 1 ≤ i ≤ n. The singular values of *A* are lengths of the vectors *A*𝐯$_{1}$,..., *A*𝐯$_{n}$.\n",
        "\n",
        "  **Theorem 1.4.1** If an *m x n* matrix *A* has *r* nonzero singular values σ$_{1}$,...,σ$_{r}$ ≥ 0 with σ$_{r+1}$ = ... = σ$_{n}$ = 0, then the dimension of col(A) = *r*\n",
        "\n",
        "  **Theorem 1.4.2 (The singular Value Decomposition)**: Let *A* be an *m x n* matrix with the dimension of col(A) = *r*. Then there exists an *m x n* matrix Σ, where the diagonal entries in *D* are the first *r* singular values of *A* σ$_{1}$ ≥ σ$_{2}$ ≥ ... ≥ σ$_{r}$ ≥ 0, and there exist an *m x m* orthogonal matrix *U* and an *n* x *n* orthogonal matrix *V* such that\n",
        "  \\begin{align}\n",
        "  A = UΣV^T\n",
        "  \\end{align}"
      ],
      "metadata": {
        "id": "4YFkrWxjihEG"
      }
    },
    {
      "cell_type": "code",
      "source": [
        "# Example of Singular Value Decomposition to see whether\n",
        "# we are able to reconstruct the image using only 2 features for each row.\n",
        "import numpy as np\n",
        "from sklearn.datasets import load_digits\n",
        "from matplotlib import pyplot as plt\n",
        "from sklearn.decomposition import TruncatedSVD\n",
        "float_formatter = lambda x: \"%.2f\" % x\n",
        "np.set_printoptions(formatter={'float_kind':float_formatter})\n",
        "from sklearn.ensemble import RandomForestClassifier"
      ],
      "metadata": {
        "id": "cngyE0eKIpk2"
      },
      "execution_count": null,
      "outputs": []
    },
    {
      "cell_type": "code",
      "source": [
        "X, y = load_digits(return_X_y=True) #will return the pixles as a one dimensional array\n",
        "print(X.shape)\n",
        "print(y)"
      ],
      "metadata": {
        "colab": {
          "base_uri": "https://localhost:8080/"
        },
        "id": "2xsX0eJcKb_C",
        "outputId": "3f00131a-1b0a-436f-9217-39e306f202be"
      },
      "execution_count": null,
      "outputs": [
        {
          "output_type": "stream",
          "name": "stdout",
          "text": [
            "(1797, 64)\n",
            "[0 1 2 ... 8 9 8]\n"
          ]
        }
      ]
    },
    {
      "cell_type": "code",
      "source": [
        "image = X[0]\n",
        "image = image.reshape((8,8))\n",
        "plt.matshow(image, cmap = 'gray')\n"
      ],
      "metadata": {
        "colab": {
          "base_uri": "https://localhost:8080/",
          "height": 455
        },
        "id": "B0F6x8BZKgye",
        "outputId": "31b144f4-ccd4-44d2-ffff-8e73c8f90d84"
      },
      "execution_count": null,
      "outputs": [
        {
          "output_type": "execute_result",
          "data": {
            "text/plain": [
              "<matplotlib.image.AxesImage at 0x7ce1270b6e60>"
            ]
          },
          "metadata": {},
          "execution_count": 8
        },
        {
          "output_type": "display_data",
          "data": {
            "text/plain": [
              "<Figure size 480x480 with 1 Axes>"
            ],
            "image/png": "[encoded data removed]"
          },
          "metadata": {}
        }
      ]
    },
    {
      "cell_type": "code",
      "source": [
        "# Using Singular Value Decomposition\n",
        "U, s, V = np.linalg.svd(image)\n",
        "S = np.zeros((image.shape[0], image.shape[1]))\n",
        "S[:image.shape[0], :image.shape[0]] = np.diag(s)\n",
        "n_component = 2\n",
        "S = S[:, :n_component]\n",
        "V = V[:n_component, :]\n",
        "A = U.dot(S.dot(V))\n",
        "print(A)\n"
      ],
      "metadata": {
        "colab": {
          "base_uri": "https://localhost:8080/"
        },
        "id": "HeErIgs8Kyxu",
        "outputId": "1989bb14-da3a-4932-c80d-46424c46aaf5"
      },
      "execution_count": null,
      "outputs": [
        {
          "output_type": "stream",
          "name": "stdout",
          "text": [
            "[[0.00 -1.10 4.74 12.16 9.52 2.44 -1.33 0.00]\n",
            " [0.00 1.81 15.31 13.79 11.23 12.27 4.48 0.00]\n",
            " [0.00 3.86 13.36 1.19 1.49 12.59 7.65 0.00]\n",
            " [0.00 3.39 10.76 -0.35 0.20 10.36 6.61 0.00]\n",
            " [0.00 3.11 9.52 -0.85 -0.24 9.26 6.04 0.00]\n",
            " [0.00 3.61 11.79 0.12 0.60 11.27 7.07 0.00]\n",
            " [0.00 2.08 12.63 8.58 7.13 10.60 4.66 0.00]\n",
            " [0.00 -1.18 4.88 12.71 9.96 2.47 -1.44 0.00]]\n"
          ]
        }
      ]
    },
    {
      "cell_type": "code",
      "source": [
        "plt.matshow(A, cmap = 'gray')"
      ],
      "metadata": {
        "colab": {
          "base_uri": "https://localhost:8080/",
          "height": 455
        },
        "id": "YsRtzozeL1e0",
        "outputId": "536b6454-a51c-485e-b093-51abd28d5164"
      },
      "execution_count": null,
      "outputs": [
        {
          "output_type": "execute_result",
          "data": {
            "text/plain": [
              "<matplotlib.image.AxesImage at 0x7ce126f17310>"
            ]
          },
          "metadata": {},
          "execution_count": 15
        },
        {
          "output_type": "display_data",
          "data": {
            "text/plain": [
              "<Figure size 480x480 with 1 Axes>"
            ],
            "image/png": "[encoded data removed]"
          },
          "metadata": {}
        }
      ]
    },
    {
      "cell_type": "code",
      "source": [
        "# How to get the reduced feature space\n",
        "U.dot(S) # Taking the dot produc of the U and S matrices"
      ],
      "metadata": {
        "colab": {
          "base_uri": "https://localhost:8080/"
        },
        "id": "X3LFTi-hMQih",
        "outputId": "dffb25a1-2ff6-4547-8d88-27ad181d27e9"
      },
      "execution_count": null,
      "outputs": [
        {
          "output_type": "execute_result",
          "data": {
            "text/plain": [
              "array([[10.97, -12.23],\n",
              "       [26.04, -6.82],\n",
              "       [18.73, 7.95],\n",
              "       [14.60, 8.08],\n",
              "       [12.72, 7.84],\n",
              "       [16.19, 8.21],\n",
              "       [20.45, -2.05],\n",
              "       [11.36, -12.85]])"
            ]
          },
          "metadata": {},
          "execution_count": 16
        }
      ]
    },
    {
      "cell_type": "markdown",
      "source": [
        "##**Low-Rank Matrix Approximations**\n",
        "In this section, we discuss low-rank approximations of matrices. We first introduce matrix norms which allow us in particular to talk about the distance between two matrices.\n",
        "\n",
        "**Definition 1.4.3 (Induced Norm):** The 2-norm of a matrix *A* ∈ ℝ$^{n x m}$ is\n",
        "\\begin{align}\n",
        "||A||^2 = \\max_{0 \\neq \\mathbf{x}∈ℝ^m} \\frac{||A\\mathbf{x}||}{||\\mathbf{x}||} = \\max_{\\mathbf{x} \\neq 0, ||\\mathbf{x}|| = 1} ||A\\mathbf{x}|| = \\max_{\\mathbf{x} \\neq 0, ||\\mathbf{x}|| = 1} || \\mathbf{x}^TA^{T}A\\mathbf{x}\n",
        "\\end{align}\n",
        "Let *A* ∈ ℝ$^{nxm}$ be a matrix with SVD\n",
        "\\begin{align}\n",
        "A = \\sum^r_{j=1} σ_{j}\\mathbf{u}_j\\mathbf{v}_j^T\n",
        "\\end{align}\n",
        "For *k < r*, truncate the sum at the *k*-th term\n",
        "\\begin{align}\n",
        "A = \\sum^k_{j=1} σ_{j}\\mathbf{u}_j\\mathbf{v}_j^T\n",
        "\\end{align}\n",
        "The rank of *A$_{k}$* is exactly *k*. Indeed, by construction,\n",
        "1. the vectors {**u$_{j}$** : *j* = 1,...,*k*} are orthonormal, and\n",
        "2. since σ$_{j}$ > 0 for *j* = 1,...,k and the vectors {**v$_{j}$** : *j* = 1,...,*k*} are orthonormal, {**u$_{j}$** : *j* = 1,...,*k*} spans the column space *A*$_{k}$.\n",
        "\n",
        "**Lemma 1.4.4 (Matrix Norms and Singular Values):** Let *A* ∈ℝ$^{nxm}$ be a matrix with SVD\n",
        "\\begin{align}\n",
        "A = \\sum^r_{j=1} σ_{j}\\mathbf{u}_j\\mathbf{v}_j^T\n",
        "\\end{align}\n",
        "where recall that σ$_{1}$ ≥ σ$_{2}$ ≥ ... σ$_{r}$ > 0 and let *A*$_{K}$ be the truncation defined above. Then\n",
        "\\begin{align}\n",
        "||A-A_k||^2_2 = σ_{k+1}^2\n",
        "\\end{align}\n",
        "\n",
        "**Theorem 1.4.5 (Eckart-Young-Mirsky theorem) (Low-Rank Approximation in the Induceed Norm):** Let *A* ∈ℝ$^{n x m}$ be a matrix with SVD\n",
        "\\begin{align}\n",
        "A = \\sum^r_{j=1} σ_{j}\\mathbf{u}_j\\mathbf{v}_j^T\n",
        "\\end{align}\n",
        "and let *A*$_{k}$ be the truncation defined above with *k < r*. For any matrix *B* ∈ ℝ$^{n x m}$ of rank at most *k*,\n",
        "\\begin{align}\n",
        "||A-A_{k}||_2 ≤ ||A-B||_2.\n",
        "\\end{align}\n",
        "\n",
        "##**1.4.3 Principal Component Analysis**\n",
        "**1.4.3.1 Covariance Matrix**\n",
        "\n",
        "To prepare for principal component analysis, let [**X**$_{1}$...**X**$_{1}$] be a *p* x *N* matrix of observation, auch as described above. The sample mean *M* of the observation vectors **X**$_{1}$,...,**X**$_{n}$ is given by\n",
        "\\begin{align}\n",
        "\\mathbf{M} = \\frac{1}{N}(\\mathbf{X}_1+...+\\mathbf{X}_{n})\n",
        "\\end{align}\n",
        "For *k* = 1,...,*N*, let\n",
        "\\begin{align}\n",
        "\\hat{\\mathbf{X}}_{k} = \\mathbf{X}_k - \\mathbf{M}\n",
        "\\end{align}\n",
        "The columns of the *p* x *N* matrix\n",
        "\\begin{align}\n",
        "B = [\\hat{\\mathbf{X}}_1,\\hat{\\mathbf{X}}_2,...\\hat{\\mathbf{X}}_N]\n",
        "\\end{align}\n",
        "have a zero sample mean, and B is said to be in mean-deviation form. The (sample) covariance matrix is the *p* x *p* matrix *S* defined by\n",
        "\\begin{align}\n",
        "S = \\frac{1}{N-1}BB^T\n",
        "\\end{align}\n",
        "Since any matrix of the form *BB$^{T}$* is positive semidefinite, so is S.\n",
        "\n",
        "**1.4.3.2 Principal Component Analysis**\n",
        "Now assume that the columns of the *p* x *N* data matrix\n",
        "\\begin{align}\n",
        "X = [\\mathbf{X}_1,\\mathbf{X}_2,...,\\mathbf{X}_N]\n",
        "\\end{align}\n",
        "is already in mean-deviation from. The goal of principal component analysis (PCA) is to find k,(*k* ≤ *p*) orthonormal vectors **v$_{1}$**,...,**v$_{k}$**, (top *k* principal components) that maximize the objective function\n",
        "\\begin{align}\n",
        "\\frac{1}{N}\\sum_{i=1}^N\\sum{j=1}^{k}⟨\\mathbf{X_{i}}·\\mathbf{v_{j}}⟩^2\n",
        "\\end{align}\n",
        "⟨**X$_{i}$·v$_{j}$**⟩ is the length of projection of **X$_{i}$** on **v$_{i}$**.\n",
        "\n",
        "On the other hanf, for each *j*, it is easy to see that\n",
        "\\begin{align}\n",
        "\\mathbf{v_j}^{T}XX^{T}\\mathbf{v_{j}} = (X^{T}\\mathbf{v_j})^{T}(X^{T}\\mathbf{v_{j}})\\sum_{i=1}^N⟨\\mathbf{X_i}·\\mathbf{v_j}⟩^2\n",
        "\\end{align}\n",
        "where XX$^{T}$ IS A *p* X *p* matrix. As a result, for each *j* ≤ *k*, the variance-maximization problem can be rephrased as\n",
        "\\begin{align}\n",
        "\\text{argmax}_{\\mathbf{v:||v||=1}}\\mathbf{v_j}^{T}XX^{T}\\mathbf{v_j}\n",
        "\\end{align}\n",
        "Assume that\n",
        "\\begin{align}\n",
        "XX^{T} = Vdiag(λ_1,...,λ_p)V^{T}\n",
        "\\end{align}\n",
        "\\begin{align}\n",
        "\\text{or}\n",
        "\\end{align}\n",
        "\\begin{align}\n",
        "V^{T}XX^{T}V = (λ_1,...λ_p).\n",
        "\\end{align}\n",
        "In view of Theorem 1.4.5, we conclude that the optimal choice of the first *k* eigenvectors of *XX$^{T}$ corresponding to the first *k* largest eigenvalues, which are also the first *k* columns of *v* = [**v$_{1}$**,...,**v$_{p}$**] of the covariance matrix XX$^{T}$, which are called the principal components of the data (in the matrix' of observations). The first principal components of the data (in the matrix' of observations). The first principal component is the eigenvector corresponding to the largest eigenvalue of *XX$^{T}$*, the second principal component is the eigenvector corresponding to the second largest eigenvalue, and so on.\n",
        "  The orthogonal *p* x *p* matrix *V* = [**v$_{1}$,...,**v$_{p}$**] that determines a change of variable, **x** = *V*𝐲, or\n",
        "\\begin{align}\n",
        "\\begin{pmatrix}\n",
        "x_1 \\\\\n",
        "x_2 \\\\\n",
        ": \\\\\n",
        "x_p\n",
        "\\end{pmatrix}\n",
        "=\n",
        "\\begin{pmatrix}\n",
        "\\mathbf{v_1} & \\mathbf{v_2} & ... & \\mathbf{v_p}\n",
        "\\end{pmatrix}\n",
        "\\begin{pmatrix}\n",
        "y_1 \\\\\n",
        "y_2 \\\\\n",
        ": \\\\\n",
        "y_p\n",
        "\\end{pmatrix}\n",
        "\\end{align}\n",
        "with the property that the new variables *y$_{1}$*,..., *y$_{p}$* are uuncorrelated and are arranged in order of decreasing variance. Indeed, we have\n",
        "\\begin{align}\n",
        "\\mathbf{x}^{T}XX^{T}\\mathbf{x} = \\mathbf{y}^{T}V^{T}XX^{T}V\\mathbf{y} = \\mathbf{y}^{T}\\text{diag}(λ_1,...,λ_p)\\mathbf{y} = \\sum_1^pλ_{i}y_{i}^2\n",
        "\\end{align}\n",
        "The orthogonal change of variable **x** = *V*𝐲 that each observation vector **x** recieves a \"new name\" **y**, such that **x** = *V*𝐲. Notice that **y** = *V*$^{ -1}$𝐱 = *V*$^{T}$**x**. Let *v*$_{1i}$,...,*v*$_{pi}$ be the entries in **v**$_{i}$. Since **v$_{i}$**^{T} the *i*th row of *V*$^{T}$, the equation **y** = *V*$^{T}$**x** shows that\n",
        "\\begin{align}\n",
        "y_{i} = \\mathbf{v_i}^{T}\\mathbf{x} = v_{1i}x_{1} + v_{2i}x_{2} +...+ v_{pi}x_{p}\n",
        "\\end{align}\n",
        "Thus *y$_{i}$* is a linear combination of the original variables *x*$_{1}$,...,*x*$_{p}$, using the entries the eigenvector **v**$_{i}$ as weights, which are called loadings."
      ],
      "metadata": {
        "id": "5i3jKWyHMeBd"
      }
    },
    {
      "cell_type": "code",
      "source": [
        "## Principal Component analysis from Scratch in Python\n",
        "\n",
        "## Importing required libraries\n",
        "import numpy as np\n",
        "\n",
        "def PCA(X, num_components):\n",
        "## 1. Subtract the mean of each variable\n",
        "  X_meaned = X - np.mean(X, axis = 0)\n",
        "\n",
        "## 2. Calculate the Covariance Matrix\n",
        "  cov_mat = np.cov(X_meaned, rowvar = False)\n",
        "\n",
        "## 3. Compute the Eigenvalues and Eigenvectors\n",
        "  eigen_values, eigen_vectors = np.linalg.eigh(cov_mat)\n",
        "\n",
        "## 4. Sort Eigenvalues in descending order\n",
        "  sorted_index = np.argsort(eigen_values)[::-1]\n",
        "  sorted_eigenvalue = eigen_values[sorted_index]\n",
        "  sorted_eigenvectors = eigen_vectors[:,sorted_index]\n",
        "\n",
        "## 5. Select a subset from the rearranged Eigenvalue matrix\n",
        "  n_components = 2\n",
        "  eigenvector_subset = sorted_eigenvectors[:,0:n_components]\n",
        "\n",
        "## 6. Transform the data\n",
        "  X_reduced = np.dot(eigenvector_subset.transpose(),X_meaned.transpose()).transpose()\n",
        "\n",
        "  return X_reduced"
      ],
      "metadata": {
        "id": "FjGJ-mzuB3v9"
      },
      "execution_count": null,
      "outputs": []
    },
    {
      "cell_type": "code",
      "source": [
        "## We will use IRIS dataset and apply our PCA function to it\n",
        "import pandas as pd\n",
        "\n",
        "url = \"https://archive.ics.uci.edu/ml/machine-learning-databases/iris/iris.data\"\n",
        "data = pd.read_csv(url, names=['sepal length','sepal width','petal length','petal width','target'])\n",
        "\n",
        "#prepare the data\n",
        "x = data.iloc[:,0:4]\n",
        "\n",
        "#prepare the target\n",
        "target = data.iloc[:,4]\n",
        "\n",
        "#Applying it to PCA function\n",
        "mat_reduced = PCA(x , 2)\n",
        "\n",
        "#Creating a Pandas DataFrame of reduced Dataset\n",
        "principal_df = pd.DataFrame(mat_reduced , columns = ['PC1','PC2'])\n",
        "\n",
        "#Concat it with target variable to create a complete Dataset\n",
        "principal_df = pd.concat([principal_df , pd.DataFrame(target)] , axis = 1)\n"
      ],
      "metadata": {
        "id": "1EB1LT-89iJH"
      },
      "execution_count": null,
      "outputs": []
    },
    {
      "cell_type": "code",
      "source": [
        "import seaborn as sb\n",
        "import matplotlib.pyplot as plt\n",
        "plt.figure(figsize = (6,6))\n",
        "sb.scatterplot(data = principal_df, x = 'PC1', y = 'PC2', hue = 'target', s = 60, palette = 'icefire')"
      ],
      "metadata": {
        "colab": {
          "base_uri": "https://localhost:8080/",
          "height": 565
        },
        "id": "Apos7aFi-JVn",
        "outputId": "1ab4c3a8-3390-46ea-80af-cc8e25f010fc"
      },
      "execution_count": null,
      "outputs": [
        {
          "output_type": "execute_result",
          "data": {
            "text/plain": [
              "<Axes: xlabel='PC1', ylabel='PC2'>"
            ]
          },
          "metadata": {},
          "execution_count": 28
        },
        {
          "output_type": "display_data",
          "data": {
            "text/plain": [
              "<Figure size 600x600 with 1 Axes>"
            ],
            "image/png": "[encoded data removed]"
          },
          "metadata": {}
        }
      ]
    },
    {
      "cell_type": "markdown",
      "source": [
        "**1.4.3.3 Total Variance**\n",
        "Given the columns of the *p* x *N* data matrix and assume it is already in mean-deviation from\n",
        "\\begin{align}\n",
        "X = [\\mathbf{X_1}, \\mathbf{X_2},...\\mathbf{X_N}]\n",
        "\\end{align}\n",
        "and let covariance matrix *S*\n",
        "\\begin{align}\n",
        "S = \\frac{1}{N-1}XX^T\n",
        "\\end{align}\n",
        "The entries in *S* = [*S*$_{ij}$], for *j* = 1,...,*p*, the diagonal entry *s*$_{jj}$ in S is called the variance of *x*$_{j}$, which is the first *j*-th row of X. The variance of *x*$_{j}$ measures the spread of the values of *x*$_{j}$. The total variance of the data is the sum of the variances on the diagonal of S. In general, the sum of the diagonal entries of aaquare matrix S is called the trace of the matrix, written *tr*(S). Thus\n",
        "\\begin{align}\n",
        "\\text{Total Variance} = tr(S)\n",
        "\\end{align}\n",
        "\n",
        "Note that if\n",
        "\\begin{align}\n",
        "XX^{T} = Vdiag(λ_1,...,λ_p)V^{T}\n",
        "\\end{align}\n",
        "\\begin{align}\n",
        "\\text{or}\n",
        "\\end{align}\n",
        "\\begin{align}\n",
        "V^{T}XX^{T}V = (λ_1,...λ_p).\n",
        "\\end{align}\n",
        "\n",
        "then\n",
        "\\begin{align}\n",
        "\\text{tr(S)} = \\frac{1}/{N-1} \\sum_1^{p}λ_j.\n",
        "\\end{align}\n",
        "because tr(*VSV$^{T}$*) = tr(S). Thus the fraction of the variances of the first *k* term truncation is\n",
        "\\begin{align}\n",
        "\\frac{∑_1^{k}λ_{j}}{∑_1^{p}λ_j}.\n",
        "\\end{align}"
      ],
      "metadata": {
        "id": "HnQbUl8LCXBc"
      }
    }
  ]
}