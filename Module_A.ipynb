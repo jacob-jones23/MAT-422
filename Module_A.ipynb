{
  "nbformat": 4,
  "nbformat_minor": 0,
  "metadata": {
    "colab": {
      "provenance": [],
      "authorship_tag": "ABX9TyNy/AH5qBZZcKHU2qW98zXa",
      "include_colab_link": true
    },
    "kernelspec": {
      "name": "python3",
      "display_name": "Python 3"
    },
    "language_info": {
      "name": "python"
    }
  },
  "cells": [
    {
      "cell_type": "markdown",
      "metadata": {
        "id": "view-in-github",
        "colab_type": "text"
      },
      "source": [
        "<a href=\"https://colab.research.google.com/github/jacob-jones23/MAT-422/blob/main/Module_A.ipynb\" target=\"_parent\"><img src=\"https://colab.research.google.com/assets/colab-badge.svg\" alt=\"Open In Colab\"/></a>"
      ]
    },
    {
      "cell_type": "code",
      "execution_count": null,
      "metadata": {
        "id": "K3iwkdlDxbUk"
      },
      "outputs": [],
      "source": []
    },
    {
      "cell_type": "markdown",
      "source": [
        "#**Module A**\n",
        "In this chapter, we will learn about different representation of numbers and how they are useful for computers. By the end of this chapterwe should know and understand some representations of numbers that are used in computing, how to convert them and decimal numbers, their primary advantages and disadvantages and the roundoff errors.\n",
        "\n",
        "##**9.1: Base-N and Binary**\n",
        "The **decimal system** is a way of representing numbers that you are familiar with from elementary school. In the decimal system, a number is represented by a list of digits from 0 to 9, where each digit represents the coefficient for a power of 10.\n",
        "\n",
        "EXAMPLE: Show the decimal expansion for 147.3.\n",
        "\n",
        "147.3 = 1⋅10$^{2}$ + 4⋅10$^{1}$ + 7⋅10$^{0}$ + 3⋅10$^{-1}$.\n",
        "  * Since each digit is associated with a power of 10, the decimal system is also known as **base10** because it is based on 10 digits (0 to 9).\n",
        "\n",
        "However, there is nothing special about base10 numbers except that we are more accustomed to using them. For example, in base3 we have the digits 0, 1, and 2 and the number\n",
        "\n",
        "121 (*base 3*) = 1⋅3$^{2}$+2⋅3$^{1}$ + 1⋅3$^{0}$ = 9 + 6 + 1 = 16(*base 10*)\n",
        "  * It is useful to denote which representation a number is in. In this chapter every number will be followed by its representation in parentheses (e.g., 11(base10) means 11 in base10) unless the context is clear.\n",
        "\n",
        "A very important representation of numbers for computers is base2 or **binary** numbers. In binary, the only available digits are 0 and 1, and each digit is the coefficient of a power of 2. Digits in a binary number are also known as a **bit**.\n",
        "\n",
        "\n"
      ],
      "metadata": {
        "id": "Z5NwjTlhxsBT"
      }
    },
    {
      "cell_type": "markdown",
      "source": [
        "Convert to binary:"
      ],
      "metadata": {
        "id": "_Lq3Vv2h2vuX"
      }
    },
    {
      "cell_type": "code",
      "source": [
        "# 37(base 10) = 100101 (base 2)\n",
        "37 == 32 + 4 + 1 == 1*(2**5) + 0*(2**4) + 0*(2**3) + 1*(2**2) + 0*(2**1) + 1*(2**0)\n"
      ],
      "metadata": {
        "colab": {
          "base_uri": "https://localhost:8080/"
        },
        "id": "bpMf7JJr1MuB",
        "outputId": "34078c20-054e-488f-da7a-b4c7684ba953"
      },
      "execution_count": null,
      "outputs": [
        {
          "output_type": "execute_result",
          "data": {
            "text/plain": [
              "True"
            ]
          },
          "metadata": {},
          "execution_count": 4
        }
      ]
    },
    {
      "cell_type": "code",
      "source": [
        "# 17(base 10) = 10001 (base 2)\n",
        "17 == 16 + 1 == 1*(2**4) + 0*(2**3) + 0*(2**2) + 0*(2**1) + 1*(2**0)"
      ],
      "metadata": {
        "colab": {
          "base_uri": "https://localhost:8080/"
        },
        "id": "Hggay2fL2F7l",
        "outputId": "41bb7d80-3a4b-4cab-93de-ef7e148d245d"
      },
      "execution_count": null,
      "outputs": [
        {
          "output_type": "execute_result",
          "data": {
            "text/plain": [
              "True"
            ]
          },
          "metadata": {},
          "execution_count": 6
        }
      ]
    },
    {
      "cell_type": "markdown",
      "source": [
        "  Get results of addition and multiplication in decimal:"
      ],
      "metadata": {
        "id": "ObERv_HL2zNa"
      }
    },
    {
      "cell_type": "code",
      "source": [
        "# 37 + 17 = 54\n",
        "# 100101 + 10001 = 110110\n",
        "54 == 32 + 16 + 4 + 2 + 0 == 1*(2**5) + 1*(2**4) + 0*(2**3) + 1*(2**2) + 1*(2**1) + 0*(2**0)\n"
      ],
      "metadata": {
        "colab": {
          "base_uri": "https://localhost:8080/"
        },
        "id": "_54BmD0l2ucv",
        "outputId": "a112889a-e78c-4ede-ba51-53f303c18659"
      },
      "execution_count": null,
      "outputs": [
        {
          "output_type": "execute_result",
          "data": {
            "text/plain": [
              "True"
            ]
          },
          "metadata": {},
          "execution_count": 7
        }
      ]
    },
    {
      "cell_type": "code",
      "source": [
        "# 37 * 17 = 629\n",
        "# 100101 * 10001 = 1001110101\n",
        "629 == 512 + 64 + 32 + 16 + 4 + 1 == 1*(2**9) + 0*(2**8) + 0*(2**7) + 1*(2**6) + 1*(2**5) + 1*(2**4) + 0*(2**3) + 1*(2**2) + 0*(2**1) + 1*(2**0)"
      ],
      "metadata": {
        "colab": {
          "base_uri": "https://localhost:8080/"
        },
        "id": "7oaxn3PV4I5f",
        "outputId": "9649f5ed-6756-4894-c203-330fa2a92ddc"
      },
      "execution_count": null,
      "outputs": [
        {
          "output_type": "execute_result",
          "data": {
            "text/plain": [
              "True"
            ]
          },
          "metadata": {},
          "execution_count": 8
        }
      ]
    },
    {
      "cell_type": "markdown",
      "source": [
        "##**9.2: Floating Point Numbers**\n",
        "The number of bits is usually fixed for any given computer. Using binary representation gives us an insuffficient range and precision of numbers to do relevant engineering calculations. To achieve the range of values needed with the same number of bits, we use **floating point** numbers or **float** for short. Instead of utilizing each bit as the coefficient of a power of 2, floats allocate bits to three different parts: the **sign indicator**, *s*, which says whether a number is positive or negative; **characteristic** or **exponent**, *e*, which is the power of 2; and the **fraction**, *f*, which is the coefficient of the exponent. Almost all platforms map Python floats to the **IEEE754** double precision - 64 total bits. 1 bit is allocated to the sign indicator, 11 bits are allocated to the exponent, and 52 bits are allocated to the fraction.\n",
        "\n",
        "With 11 bits allocated to the exponent, this makes 2048 values that this number can take. Since we want to be able to make very precise numbers, we want some of these values to represent negative exponents. To accomplish this, 1023 is subtracted from the exponent to normalize it. The value is subtracted from the exponent is commonly referred to as the **bias**. The fraction is a number between 1 and 2. In binary, this means that the leading term will always be 1, and, therefore, it is a waste of bits to store it. In Python, we could get the float information using the *sys* package as shown below:"
      ],
      "metadata": {
        "id": "mg1p3TCiyoZA"
      }
    },
    {
      "cell_type": "code",
      "source": [
        "#float information\n",
        "import sys\n",
        "sys.float_info"
      ],
      "metadata": {
        "colab": {
          "base_uri": "https://localhost:8080/"
        },
        "id": "JMxECZt47lIR",
        "outputId": "5112f1ac-25e5-4eb1-d3bb-4b8f02000aa3"
      },
      "execution_count": null,
      "outputs": [
        {
          "output_type": "execute_result",
          "data": {
            "text/plain": [
              "sys.float_info(max=1.7976931348623157e+308, max_exp=1024, max_10_exp=308, min=2.2250738585072014e-308, min_exp=-1021, min_10_exp=-307, dig=15, mant_dig=53, epsilon=2.220446049250313e-16, radix=2, rounds=1)"
            ]
          },
          "metadata": {},
          "execution_count": 6
        }
      ]
    },
    {
      "cell_type": "markdown",
      "source": [
        "A float can then be represented as:\n",
        "*n = (-1)$^{s}$2$^{e-1023}$(1 + f).*\n",
        "\n",
        "\n",
        "We call the distance from one number to the next the **gap**. Because the fraction is multiplied by 2$^{e-1023}$, the gap grows as the number represented grows. The gap at a given number can be computed using the function *spacing* in *numpy*.\n"
      ],
      "metadata": {
        "id": "cEtA-AW48JGM"
      }
    },
    {
      "cell_type": "code",
      "source": [
        "import numpy as np\n",
        "# Use the spacing function to determine the gap at 1e9.\n",
        "np.spacing(1e9)"
      ],
      "metadata": {
        "colab": {
          "base_uri": "https://localhost:8080/"
        },
        "id": "iql4Qqfm9lgF",
        "outputId": "b117e4a7-975c-404a-bc21-c02c3c959327"
      },
      "execution_count": null,
      "outputs": [
        {
          "output_type": "execute_result",
          "data": {
            "text/plain": [
              "1.1920928955078125e-07"
            ]
          },
          "metadata": {},
          "execution_count": 2
        }
      ]
    },
    {
      "cell_type": "code",
      "source": [
        "1e9 == (1e9 + np.spacing(1e9)/3)"
      ],
      "metadata": {
        "colab": {
          "base_uri": "https://localhost:8080/"
        },
        "id": "P3oD9GgD94En",
        "outputId": "dca5fbdc-8d0d-4373-83c8-e0d25ee41861"
      },
      "execution_count": null,
      "outputs": [
        {
          "output_type": "execute_result",
          "data": {
            "text/plain": [
              "True"
            ]
          },
          "metadata": {},
          "execution_count": 3
        }
      ]
    },
    {
      "cell_type": "markdown",
      "source": [
        "There are special cases for the value of a floating point number when e = 0 (i.e., e = 00000000000 (base2)) and when e = 2047 (i.e., e = 11111111111 (base2)), which are reserved. When the exponent is 0, the leading 1 in the fraction takes the value 0 instead. The result is a **subnormal number**, which is computed by *n = (-1)$^{s}$2$^{e-1023}$(1 + f)*"
      ],
      "metadata": {
        "id": "tY8Prd5b-HjM"
      }
    },
    {
      "cell_type": "code",
      "source": [
        "largest = (2**(2046-1023))*((1 + sum(0.5**np.arange(1,53))))\n",
        "largest"
      ],
      "metadata": {
        "colab": {
          "base_uri": "https://localhost:8080/"
        },
        "id": "ylnsBH0K-wVL",
        "outputId": "ad34b9ae-a091-4ec6-f34b-46c87fbe9c7d"
      },
      "execution_count": null,
      "outputs": [
        {
          "output_type": "execute_result",
          "data": {
            "text/plain": [
              "1.7976931348623157e+308"
            ]
          },
          "metadata": {},
          "execution_count": 4
        }
      ]
    },
    {
      "cell_type": "code",
      "source": [
        "sys.float_info.max"
      ],
      "metadata": {
        "colab": {
          "base_uri": "https://localhost:8080/"
        },
        "id": "HrcVY2j1--5M",
        "outputId": "4ccf025d-b29f-41a8-bbbb-9a716e043205"
      },
      "execution_count": null,
      "outputs": [
        {
          "output_type": "execute_result",
          "data": {
            "text/plain": [
              "1.7976931348623157e+308"
            ]
          },
          "metadata": {},
          "execution_count": 7
        }
      ]
    },
    {
      "cell_type": "code",
      "source": [
        "smallest = (2**(1-1023))*(1+0)\n",
        "smallest"
      ],
      "metadata": {
        "colab": {
          "base_uri": "https://localhost:8080/"
        },
        "id": "cT-LII4N_FPK",
        "outputId": "ba62048f-8a36-4755-cfc3-5d5557d49e61"
      },
      "execution_count": null,
      "outputs": [
        {
          "output_type": "execute_result",
          "data": {
            "text/plain": [
              "2.2250738585072014e-308"
            ]
          },
          "metadata": {},
          "execution_count": 8
        }
      ]
    },
    {
      "cell_type": "code",
      "source": [
        "sys.float_info.min"
      ],
      "metadata": {
        "colab": {
          "base_uri": "https://localhost:8080/"
        },
        "id": "hpMvIi-R_OrU",
        "outputId": "241f828a-677e-47c6-b679-0a519ecac84b"
      },
      "execution_count": null,
      "outputs": [
        {
          "output_type": "execute_result",
          "data": {
            "text/plain": [
              "2.2250738585072014e-308"
            ]
          },
          "metadata": {},
          "execution_count": 9
        }
      ]
    },
    {
      "cell_type": "markdown",
      "source": [
        "Numbers that are larger than the largest representable floating point number result in **overflow**, and Python handles this case by assigning the result to *inf*. Numbers that are smaller than the smallest subnormal number result in **underflow**, and Python handles this case by assigning the result to 0."
      ],
      "metadata": {
        "id": "CpGd1kZd_ScO"
      }
    },
    {
      "cell_type": "code",
      "source": [
        "2**(-1075)"
      ],
      "metadata": {
        "colab": {
          "base_uri": "https://localhost:8080/"
        },
        "id": "0Qevx5ow_lP9",
        "outputId": "087ea1eb-5f3a-4a66-d1b6-338b2b1fc66c"
      },
      "execution_count": null,
      "outputs": [
        {
          "output_type": "execute_result",
          "data": {
            "text/plain": [
              "0.0"
            ]
          },
          "metadata": {},
          "execution_count": 10
        }
      ]
    },
    {
      "cell_type": "code",
      "source": [
        "2**(-1075) == 0"
      ],
      "metadata": {
        "colab": {
          "base_uri": "https://localhost:8080/"
        },
        "id": "1nU9RLTF_wwE",
        "outputId": "8a4796eb-8f47-41e3-a6f9-613554eae5ba"
      },
      "execution_count": null,
      "outputs": [
        {
          "output_type": "execute_result",
          "data": {
            "text/plain": [
              "True"
            ]
          },
          "metadata": {},
          "execution_count": 11
        }
      ]
    },
    {
      "cell_type": "code",
      "source": [
        "2**(-1074)"
      ],
      "metadata": {
        "colab": {
          "base_uri": "https://localhost:8080/"
        },
        "id": "Wgs1X7qh_0WC",
        "outputId": "009742d2-52f4-41e4-8a0f-65073ac5d804"
      },
      "execution_count": null,
      "outputs": [
        {
          "output_type": "execute_result",
          "data": {
            "text/plain": [
              "5e-324"
            ]
          },
          "metadata": {},
          "execution_count": 12
        }
      ]
    },
    {
      "cell_type": "markdown",
      "source": [
        "##**9.3: Round-off Errors**\n",
        "In the previous section, we talked about how the floating point numbers are represented in computers as base 2 fractions. This has a side effect that the floating point numbers can not be stored with perfect precision, instead the numbers are approximated by finite number of bytes. Therefore, the difference between an approximation of a number used in computation and its correct (true) value is called **round-off error**. It is one of the common errors usually in the numerical calculations. The other one is **truncation error**.\n",
        "\n",
        "###**Representation error**\n",
        "The common form round-off error is the representation error in the floating point numbers. A simple example will be to represent π. We know that π is an infinite number, but when we use it, we usually only use a finite digits. For example, if you only use 3.14159265, there will be an error between this approximation and the true infinite number.\n",
        "\n",
        "###**Round-off error by floating-point arithmetic**\n",
        "The error between 4.845 and 4.8 should be 0.055. But if you calculate it in Python, you will see the 4.9 - 4.845 is not equal to 0.055.\n"
      ],
      "metadata": {
        "id": "F2iNqNWT5FzZ"
      }
    },
    {
      "cell_type": "code",
      "source": [
        "4.9 - 4.845 == 0.055\n",
        "# we actually get 0.055000000000000604"
      ],
      "metadata": {
        "colab": {
          "base_uri": "https://localhost:8080/"
        },
        "id": "gnGhA0SpZvYV",
        "outputId": "a6ab25ee-02f2-4a4e-f3a2-f9cea88a14f9"
      },
      "execution_count": 1,
      "outputs": [
        {
          "output_type": "execute_result",
          "data": {
            "text/plain": [
              "False"
            ]
          },
          "metadata": {},
          "execution_count": 1
        }
      ]
    },
    {
      "cell_type": "markdown",
      "source": [
        "This is because the floating point can not be represented by the exact number, it is just approcimation, and when it is used in arithmetic, it is causing a small error."
      ],
      "metadata": {
        "id": "tYmr_2q_Z2YS"
      }
    },
    {
      "cell_type": "code",
      "source": [
        "4.9 - 4.845"
      ],
      "metadata": {
        "colab": {
          "base_uri": "https://localhost:8080/"
        },
        "id": "DTNyJyAgaI6K",
        "outputId": "81f8d62b-bfdb-425b-d241-0a0d9d88dcca"
      },
      "execution_count": 2,
      "outputs": [
        {
          "output_type": "execute_result",
          "data": {
            "text/plain": [
              "0.055000000000000604"
            ]
          },
          "metadata": {},
          "execution_count": 2
        }
      ]
    },
    {
      "cell_type": "code",
      "source": [
        "4.8 - 4.845"
      ],
      "metadata": {
        "colab": {
          "base_uri": "https://localhost:8080/"
        },
        "id": "rdsueJppaMbs",
        "outputId": "62e956f7-66c3-40ab-9435-b356c658b13a"
      },
      "execution_count": 3,
      "outputs": [
        {
          "output_type": "execute_result",
          "data": {
            "text/plain": [
              "-0.04499999999999993"
            ]
          },
          "metadata": {},
          "execution_count": 3
        }
      ]
    },
    {
      "cell_type": "markdown",
      "source": [
        "Another example is 0.1 + 0.2 + 0.3 does not equal 0.6, which has the same cause."
      ],
      "metadata": {
        "id": "BX4ipEZjaOrk"
      }
    },
    {
      "cell_type": "code",
      "source": [
        "0.1 + 0.2 + 0.3 == 0.6"
      ],
      "metadata": {
        "colab": {
          "base_uri": "https://localhost:8080/"
        },
        "id": "2atDf8rgaWhx",
        "outputId": "cf0be864-69ac-4f46-d8b9-e852da8f0bd1"
      },
      "execution_count": 4,
      "outputs": [
        {
          "output_type": "execute_result",
          "data": {
            "text/plain": [
              "False"
            ]
          },
          "metadata": {},
          "execution_count": 4
        }
      ]
    },
    {
      "cell_type": "markdown",
      "source": [
        "Though the numbers cannot be made closer to their intended exact values, the *round* function can be useful for post-rounding so that results with inexact values become comparable to one another:"
      ],
      "metadata": {
        "id": "WdQmXjW9ab5F"
      }
    },
    {
      "cell_type": "code",
      "source": [
        "round(0.1 + 0.2 + 0.3, 5) == round(0.6, 5)"
      ],
      "metadata": {
        "colab": {
          "base_uri": "https://localhost:8080/"
        },
        "id": "oUjhP-ztaoF1",
        "outputId": "ed83f442-4f61-42b1-b326-79abf1e1b262"
      },
      "execution_count": 8,
      "outputs": [
        {
          "output_type": "execute_result",
          "data": {
            "text/plain": [
              "True"
            ]
          },
          "metadata": {},
          "execution_count": 8
        }
      ]
    },
    {
      "cell_type": "markdown",
      "source": [
        "###**Accumulation of round-off error**\n",
        "When we are doing a sequence of calculations on an initial input with round-off error due to inexact representation, the errors can be magnified or accumulated. The following is an example, that we have the number 1 add and subtract 1/3, which gives us the same number 1. But what if we add 1/3 for many times and subtract the same number of times 1/3, do we still get the same number 1?"
      ],
      "metadata": {
        "id": "1LkheeW1a7MQ"
      }
    },
    {
      "cell_type": "code",
      "source": [
        "# If we only do it once\n",
        "1 + 1/3 - 1/3"
      ],
      "metadata": {
        "colab": {
          "base_uri": "https://localhost:8080/"
        },
        "id": "6ULOx-i6bj8e",
        "outputId": "6f3c497f-743d-4f60-e4b0-c39ed7d1e8ae"
      },
      "execution_count": 9,
      "outputs": [
        {
          "output_type": "execute_result",
          "data": {
            "text/plain": [
              "1.0"
            ]
          },
          "metadata": {},
          "execution_count": 9
        }
      ]
    },
    {
      "cell_type": "code",
      "source": [
        "def add_and_subtract(iterations):\n",
        "  result = 1\n",
        "\n",
        "  for i in range(iterations):\n",
        "    result += 1/3\n",
        "\n",
        "  for i in range(iterations):\n",
        "    result -= 1/3\n",
        "  return result"
      ],
      "metadata": {
        "id": "7Dd19uMqboCO"
      },
      "execution_count": 10,
      "outputs": []
    },
    {
      "cell_type": "code",
      "source": [
        "# If we do this 100 times\n",
        "add_and_subtract(100)"
      ],
      "metadata": {
        "colab": {
          "base_uri": "https://localhost:8080/"
        },
        "id": "x07Vq2imb2w8",
        "outputId": "0fa21dfc-9192-4c52-aab1-0aada5175f38"
      },
      "execution_count": 11,
      "outputs": [
        {
          "output_type": "execute_result",
          "data": {
            "text/plain": [
              "1.0000000000000002"
            ]
          },
          "metadata": {},
          "execution_count": 11
        }
      ]
    },
    {
      "cell_type": "code",
      "source": [
        "# If we do this 1000 times\n",
        "add_and_subtract(1000)"
      ],
      "metadata": {
        "colab": {
          "base_uri": "https://localhost:8080/"
        },
        "id": "OGZ2gVNwb8Yc",
        "outputId": "e0a4d224-d209-4ac7-a6a5-b39241a7c939"
      },
      "execution_count": 12,
      "outputs": [
        {
          "output_type": "execute_result",
          "data": {
            "text/plain": [
              "1.0000000000000064"
            ]
          },
          "metadata": {},
          "execution_count": 12
        }
      ]
    },
    {
      "cell_type": "code",
      "source": [
        "# If we do this 10000 times\n",
        "add_and_subtract(1000)"
      ],
      "metadata": {
        "colab": {
          "base_uri": "https://localhost:8080/"
        },
        "id": "3sRCHm1sb-ol",
        "outputId": "0e92755a-4b7d-44aa-fc65-bcbabdc94ec9"
      },
      "execution_count": 13,
      "outputs": [
        {
          "output_type": "execute_result",
          "data": {
            "text/plain": [
              "1.0000000000000064"
            ]
          },
          "metadata": {},
          "execution_count": 13
        }
      ]
    }
  ]
}