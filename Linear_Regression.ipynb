{
  "nbformat": 4,
  "nbformat_minor": 0,
  "metadata": {
    "colab": {
      "provenance": [],
      "authorship_tag": "ABX9TyNtNF/QAcXpVe7yGxjHana8",
      "include_colab_link": true
    },
    "kernelspec": {
      "name": "python3",
      "display_name": "Python 3"
    },
    "language_info": {
      "name": "python"
    }
  },
  "cells": [
    {
      "cell_type": "markdown",
      "metadata": {
        "id": "view-in-github",
        "colab_type": "text"
      },
      "source": [
        "<a href=\"https://colab.research.google.com/github/jacob-jones23/MAT-422/blob/main/Linear_Regression.ipynb\" target=\"_parent\"><img src=\"https://colab.research.google.com/assets/colab-badge.svg\" alt=\"Open In Colab\"/></a>"
      ]
    },
    {
      "cell_type": "code",
      "execution_count": null,
      "metadata": {
        "id": "UGLwvV6grzUE"
      },
      "outputs": [],
      "source": [
        "import numpy as np\n",
        "from numpy.linalg import inv"
      ]
    },
    {
      "cell_type": "markdown",
      "source": [
        "#**1.3 Linear Regression**\n",
        "Linear regression is used frequently in practical applications because of its simplicity. The models depend linearly on their unknown parameters and therefore are easier to fit that models which are non-linearly related to their parameters. As a result, the statistical properties of the resulting estimators are easier to determine.\n",
        "\n",
        "##**1.3.1 QR Decomposition**\n",
        "QR decomposition is a useful procedure to solve the linear least squares problem. First we use the Gram-Schmidt algorithm (from 1.2.3) to obtain an orthonormal basis span(**a$_{1}$**,...,**a$_{m}$**) from a linearly independent set of span(**a$_{1}$**,...,**a$_{m}$**) . In order to derive QR decomposition, let\n",
        "\\begin{align}\n",
        " A = \\begin{pmatrix}\n",
        "        ⃒ & \\ & ⃒   \\\\\n",
        "        \\mathbf{a_{1}} &... & \\mathbf{a_{m}} \\\\\n",
        "         ⃒ & \\ & ⃒  \n",
        "        \\end{pmatrix}\n",
        "\\end{align}\n",
        "\\begin{align}\n",
        "\\text{and}\n",
        "\\end{align}\n",
        "\\begin{align}\n",
        "         Q = \\begin{pmatrix}\n",
        "        ⃒ & \\ & ⃒   \\\\\n",
        "        \\mathbf{q_{1}} &... & \\mathbf{q_{m}} \\\\\n",
        "         ⃒ & \\ & ⃒  \n",
        "        \\end{pmatrix}.\n",
        "\\end{align}\n",
        "where *A*, *Q* are *n*  𝖷 *m* matrices. The output of the Gram-Schimdt algorithm above can then be written in the following compact form, known as QR decomposition in Figure 1.3.\n",
        "\\begin{align}\n",
        "A = QR\n",
        "\\end{align}\n",
        "where column *i* of the *m* 𝖷 *m* matrix *R* contains the coefficients of the linear combination of **q$_{j}$**'s that produces **a$_{i}$**. *Q* is a ℝ$^{n 𝚡 m}$ matrix with *Q$^{T}$Q* = *I$_{m𝚡 m}$*. It may be easier to verify *A* =*QR* by\n",
        "\\begin{align}\n",
        "A^{T} = R^{T}Q^{T}\n",
        "\\end{align}\n",
        "\n",
        "By the proof of Gram-Schmidt, **a$_{i}$** ∈ span(**q$_{1}$,...,q$_{i}$**). So columni *i* of *R* has only zeros below the diagonal. Hence *R* has a special structure: it is upper triangular.\n",
        "\n",
        "\\begin{align}\n",
        "      \\begin{bmatrix}\n",
        "       | & | & & & | \\\\\n",
        "       | & | & & & | \\\\\n",
        "       a_{1} & a_{2} & □ & □ & a_{n} \\\\\n",
        "       | & | & & & | \\\\\n",
        "       | & | & & & | \\\\\n",
        "        \\end{bmatrix}\n",
        "        =\n",
        "        \\begin{bmatrix}\n",
        "       | & | & & & | \\\\\n",
        "       | & | & & & | \\\\\n",
        "       q_{1} & q_{2} & □ & □ & q_{n} \\\\\n",
        "       | & | & & & | \\\\\n",
        "       | & | & & & | \\\\\n",
        "        \\end{bmatrix}\n",
        "        \\begin{bmatrix}\n",
        "       r & 𝖷 & 𝖷  & 𝖷 & 𝖷  \\\\\n",
        "         & r & 𝖷 & 𝖷  & 𝖷  \\\\\n",
        "         &   & □ & 𝖷  & 𝖷  \\\\\n",
        "         &   &     &  □ &  𝖷 \\\\\n",
        "        &    &     &       & r \\\\\n",
        "        \\end{bmatrix}\n",
        "\\end{align}\n",
        "\\begin{align}\n",
        "        \\text{Fig. 1.3: QR decomposition}\n",
        "\\end{align}"
      ],
      "metadata": {
        "id": "mwxKBSMzr3tz"
      }
    },
    {
      "cell_type": "code",
      "source": [
        "#Gram Schmidt Algorithm\n",
        "def gram_schmidt(V):\n",
        "    U = np.zeros(V.shape)\n",
        "    for i in range(V.shape[1]):\n",
        "        # orthogonalization\n",
        "        vector = V[:, i] ## holds the sepcified i vector\n",
        "        space = U[:, :i] ## holds all the vectors up to the specified i variable\n",
        "        projection = vector @ space\n",
        "        vector = vector - np.sum(projection * space, axis=1)\n",
        "        # normalization\n",
        "        norm = np.sqrt(vector @ vector)\n",
        "        vector /=round(abs(norm),ndigits=0)  < 1e-8 and 1 or norm\n",
        "        U[:, i] = vector\n",
        "    return U"
      ],
      "metadata": {
        "id": "T6XkKTLVhBqe"
      },
      "execution_count": null,
      "outputs": []
    },
    {
      "cell_type": "code",
      "source": [
        "A = np.array([[1,1,0],[1,0,1],[0,1,1]], dtype=float)\n",
        "print(\"matrix A\")\n",
        "print(A)\n",
        "Q = gram_schmidt(A) ## Find matrix Q using the gram-schmidt algorithm\n",
        "print('Q is', Q)\n",
        "R = Q.T @ A ## Find matrix R using Q^T*A\n",
        "print('R is', R)\n",
        "QR = Q@R\n",
        "print('QR is ', QR)\n"
      ],
      "metadata": {
        "id": "iMI1kfNRqZtx",
        "colab": {
          "base_uri": "https://localhost:8080/"
        },
        "outputId": "fbb8189a-5546-403c-e30a-2ccee863fb37"
      },
      "execution_count": null,
      "outputs": [
        {
          "output_type": "stream",
          "name": "stdout",
          "text": [
            "matrix A\n",
            "[[1. 1. 0.]\n",
            " [1. 0. 1.]\n",
            " [0. 1. 1.]]\n",
            "Q is [[ 0.70710678  0.40824829 -0.57735027]\n",
            " [ 0.70710678 -0.40824829  0.57735027]\n",
            " [ 0.          0.81649658  0.57735027]]\n",
            "R is [[ 1.41421356e+00  7.07106781e-01  7.07106781e-01]\n",
            " [ 1.66533454e-16  1.22474487e+00  4.08248290e-01]\n",
            " [ 2.22044605e-16 -1.11022302e-16  1.15470054e+00]]\n",
            "QR is  [[ 1.00000000e+00  1.00000000e+00  4.02426802e-17]\n",
            " [ 1.00000000e+00 -2.45223988e-16  1.00000000e+00]\n",
            " [ 2.64171508e-16  1.00000000e+00  1.00000000e+00]]\n"
          ]
        }
      ]
    },
    {
      "cell_type": "markdown",
      "source": [
        "##**1.3.2 Least-squares Problems**\n",
        "Let *A* ∈ ℝ$^{n𝖷m}$ be an *n 𝖷 m* matrix and **b** ∈ ℝ$^{n}$ be a vector. We try to solve the system *A* **x** = **b**, which is often inconsistent. We are looking to use the A**x** to approximate **b**. It is reasonable to assume that matrix *A* has linearly independent columns. If *n* = *m*, that is, if *A* is a square matrix, we can use the matrix inverse to solve the system. But we are particularly interested in the over-determined case where *n* > *m*. We cannot use the matrix inverse then. One possibility to make sense of the problem in that case is to cast it as the least-square problem.\n",
        "\n",
        "\\begin{align}\n",
        "\\min_{x∈ℝ^{m}} ||A\\mathbf{x}-\\mathbf{b}||\n",
        "\\end{align}\n",
        "\n",
        "In order to use the orthogonal decomposition result, we write\n",
        "\\begin{align}\n",
        " A = \\begin{pmatrix}\n",
        "        ⃒ & \\ & ⃒   \\\\\n",
        "        \\mathbf{a_{1}} &... & \\mathbf{a_{m}} \\\\\n",
        "         ⃒ & \\ & ⃒  \n",
        "        \\end{pmatrix} =\n",
        "        \\begin{pmatrix}\n",
        "        a_{1,1} & ... & a_{1,m}   \\\\\n",
        "        a_{2,1} &... & a_{2,m} \\\\\n",
        "        ... & ... & ... \\\\\n",
        "        a_{n,1} & ... & a_{n,m}  \n",
        "        \\end{pmatrix}\n",
        "\\text{and }\n",
        "\\mathbf{b} = \\begin{pmatrix}\n",
        "b_{1} \\\\ : \\\\ b_{n}\n",
        "\\end{pmatrix}\n",
        "\\end{align}\n",
        "\n",
        "Now we seek a linear combination of the columns of *A* that minimizes the objectives\n",
        "\\begin{align}\n",
        "||\\sum_{j=1}^{n}x_j\\mathbf{a_j}-\\mathbf{b}||^2 = \\sum_{j=1}^{n} \\left(\\sum_{j=1}^{m}x_{j}a_{i,j}-b_i\\right)^2 = \\sum_{j=1}^{n}(\\hat{y_{i}}-b_i)^2.\n",
        "\\end{align}\n",
        "\n",
        "where\n",
        "\\begin{align}\n",
        "\\hat{y_{i}} = \\sum_{j=1}^{m}x_{j}a_{i,j}.\n",
        "\\end{align}\n",
        "\n",
        "Now apply our characterization of the orthogonal projection on the column space of *A*. Let\n",
        "\\begin{align}\n",
        "\\hat{\\mathbf{b}}= 𝒫_{col(A)}\\mathbf{b}.\n",
        "\\end{align}\n",
        "\n",
        "Because $\\hat{\\mathbf{b}}$ is in the column space of *A*, the equation *A* **x** = $\\hat{\\mathbf{b}}$ is consistent and there is an$\\hat{x}$ such that\n",
        "\\begin{align}\n",
        "A\\hat{\\mathbf{x}} = \\hat{\\mathbf{b}}.(1.3.1)\n",
        "\\end{align}\n",
        "\n",
        "Since $\\hat{\\mathbf{b}}$ is the closed point in col(A) to **b**, a vector $\\hat{\\mathbf{x}}$ is a least-square solution of *A* **x** = **b** if and only if (1.3.1) holds. The following theorem provides an alternative description of the solution.\n",
        "\n",
        "**Theorem 1.3.1 (Normal Equations)** Let *A* ∈ ℝ$^{n𝖷m}$ be an *n* 𝖷 *m* matrix with linearly independent columns and let **b** ∈ℝ$^{n}$ be a vector. The solution to the least square problem\n",
        "\\begin{align}\n",
        "\\min_{x∈ℝ^{m}} ||A\\mathbf{x}-\\mathbf{b}||\n",
        "\\end{align}\n",
        "satisfies\n",
        "\\begin{align}\n",
        "A^{T}A\\mathbf{x}=A^{T}\\mathbf{b}\n",
        "\\end{align}\n",
        "which are known as the normal equations.\n"
      ],
      "metadata": {
        "id": "GfkzxEIIqZ7-"
      }
    },
    {
      "cell_type": "code",
      "source": [
        "## generate random data\n",
        "def generate_data():\n",
        "    A = np.random.rand(100,1) # gives us 100 random values but formated as a 1D array\n",
        "    b = 4 + 3*A + np.random.randn(100,1)\n",
        "    return A, b\n",
        "\n",
        "# Define the Normal Equation (A^T*A)^-1*A^Tb\n",
        "def normalEquation(A,b):\n",
        "    AT = A.T # A transpose\n",
        "    NE = inv(AT.dot(A)).dot(AT).dot(b)\n",
        "    return NE # returns normal equation\n",
        "\n",
        "# Plot the generated data\n",
        "A,b = generate_data()\n",
        "import matplotlib.pyplot as plt\n",
        "plt.plot(A,b, \"r.\")\n"
      ],
      "metadata": {
        "id": "Tf-EJNzvaZ_3",
        "colab": {
          "base_uri": "https://localhost:8080/",
          "height": 448
        },
        "outputId": "83b321ff-3aec-44c7-f77d-836ea119eb5d"
      },
      "execution_count": null,
      "outputs": [
        {
          "output_type": "execute_result",
          "data": {
            "text/plain": [
              "[<matplotlib.lines.Line2D at 0x7a4a044e58d0>]"
            ]
          },
          "metadata": {},
          "execution_count": 3
        },
        {
          "output_type": "display_data",
          "data": {
            "text/plain": [
              "<Figure size 640x480 with 1 Axes>"
            ],
            "image/png": "[encoded data removed]"
          },
          "metadata": {}
        }
      ]
    },
    {
      "cell_type": "code",
      "source": [
        "A_b = np.c_[np.ones((100, 1)), A]\n",
        "params = normalEquation(A_b,b)\n",
        "print(params)"
      ],
      "metadata": {
        "colab": {
          "base_uri": "https://localhost:8080/"
        },
        "id": "vxAghABnQrDc",
        "outputId": "53478da4-8bca-40cc-eb2c-1adbd17a39a9"
      },
      "execution_count": null,
      "outputs": [
        {
          "output_type": "stream",
          "name": "stdout",
          "text": [
            "[[3.95134131]\n",
            " [3.14712977]]\n"
          ]
        }
      ]
    },
    {
      "cell_type": "markdown",
      "source": [
        "**Theorem 1.3.2 (Least Squares via QR)** Let *A* ∈ ℝ$^{n𝖷m}$ be an *n* 𝖷 *m* matrix with linearly independent columns, let **b** ∈ ℝ$^{n}$ be a vector, and let *A* = *QR* be a QR decomposition of *A*, where *Q* is a ℝ$^{n𝖷m}$ matrix with *Q$^{T}$Q* = *I$_{m𝖷m}$* and *R* is upper triangular. The solution to the least-squares problem\n",
        "\\begin{align}\n",
        "\\min_{x∈ℝ^{m}} ||A\\mathbf{x}-\\mathbf{b}||\n",
        "\\end{align}\n",
        "satisfies\n",
        "\\begin{align}\n",
        "R \\mathbf{x}^* = Q^{T} \\mathbf{b}\n",
        "\\end{align}"
      ],
      "metadata": {
        "id": "_J1Nnrw_4GPv"
      }
    },
    {
      "cell_type": "code",
      "source": [
        "test_A = np.array([[0],[2]])\n",
        "test_A_b = np.c_[np.ones((2,1)), test_A]\n",
        "prediction = test_A_b.dot(params)\n",
        "print(prediction)"
      ],
      "metadata": {
        "colab": {
          "base_uri": "https://localhost:8080/"
        },
        "id": "K-mASjPB6oNM",
        "outputId": "a90c0fae-d25a-4e98-f013-00b0cf01c6f5"
      },
      "execution_count": null,
      "outputs": [
        {
          "output_type": "stream",
          "name": "stdout",
          "text": [
            "[[ 3.95134131]\n",
            " [10.24560084]]\n"
          ]
        }
      ]
    },
    {
      "cell_type": "code",
      "source": [
        "plt.plot(test_A, prediction, \"r--\")\n",
        "plt.plot(A, b, \"b.\")\n",
        "plt.axis([0, 2, 0, 15])\n",
        "plt.show()"
      ],
      "metadata": {
        "colab": {
          "base_uri": "https://localhost:8080/",
          "height": 430
        },
        "id": "XYNb8iZx7luZ",
        "outputId": "b87f24e7-697e-4774-99f1-42e862417bd7"
      },
      "execution_count": null,
      "outputs": [
        {
          "output_type": "display_data",
          "data": {
            "text/plain": [
              "<Figure size 640x480 with 1 Axes>"
            ],
            "image/png": "[encoded data removed]"
          },
          "metadata": {}
        }
      ]
    },
    {
      "cell_type": "markdown",
      "source": [
        "##**1.3.3 Linear Regression**\n",
        "Given input data points {(**x$_{i}$**,*y$_{i}$*)}$_{i=1}^n$ with each **x$_{i}$** = (*x$_{i1}$,...,*x$_{id}$)$^{T}$, we seek an affine function to fit the data. The common approach involves finding coefficients, β$_{j}$'s that minimize the criterion\n",
        "\\begin{align}\n",
        "\\sum_{i=1}^{n}(y_{i}-\\hat{y}_{i})^2\n",
        "\\end{align}\n",
        "where\n",
        "\\begin{align}\n",
        "\\hat{y}_{i} = β_{0} + \\sum_{j=1}^{d}β_{j}x_{ij}\n",
        "\\end{align}\n",
        "can be viewed as the predicted values of the linear model with coefficients β$_{j}$. The minimization problem can be formulated in matrix form. Let\n",
        "\\begin{align}\n",
        "y = \\begin{pmatrix}\n",
        "       y_1 \\\\\n",
        "       y_2 \\\\\n",
        "       \\text{:} \\\\\n",
        "       y_n\n",
        "        \\end{pmatrix},\n",
        "A = \\begin{pmatrix}\n",
        "      1 & \\mathbf{x}_1^T \\\\\n",
        "      1 & \\mathbf{x}_2^T \\\\\n",
        "      \\text{:} & \\text{:} \\\\\n",
        "      1 & 1 \\mathbf{x}_n^T\n",
        "    \\end{pmatrix},\n",
        "β = \\begin{pmatrix}\n",
        "      β_{0} \\\\\n",
        "      β_{1} \\\\\n",
        "      \\text{:} \\\\\n",
        "      β_{d}\n",
        "    \\end{pmatrix}.\n",
        "\\end{align}\n",
        "\n",
        "Then the problem is transformed to\n",
        "\\begin{align}\n",
        "\\min_{β} ||\\mathbf{y} - Aβ||^2.\n",
        "\\end{align}\n"
      ],
      "metadata": {
        "id": "RF5s9rqg86Zn"
      }
    },
    {
      "cell_type": "code",
      "source": [
        "import pandas as pd\n",
        "# Generate random data\n",
        "np.random.seed(0)\n",
        "A = 2 * np.random.rand(100) # gives us 100 random values\n",
        "extra = np.random.rand(100)\n",
        "b = 4 + 3*A + extra\n",
        "\n",
        "# Create a data frame to store the Correlating A nd b values\n",
        "df = pd.DataFrame(\n",
        "        {'A' : A,\n",
        "         'b' : b}\n",
        "  )\n",
        "\n",
        "# Show the first 5 row\n",
        "df.head()"
      ],
      "metadata": {
        "colab": {
          "base_uri": "https://localhost:8080/",
          "height": 206
        },
        "id": "DDnh5NAyAl9A",
        "outputId": "c7fe1a4c-0ef0-4b16-d7cc-c91de8411aa6"
      },
      "execution_count": null,
      "outputs": [
        {
          "output_type": "execute_result",
          "data": {
            "text/plain": [
              "          A         b\n",
              "0  1.097627  7.970698\n",
              "1  1.430379  8.561144\n",
              "2  1.205527  8.351774\n",
              "3  1.089766  8.231488\n",
              "4  0.847310  6.790682"
            ],
            "text/html": [
              "\n",
              "  <div id=\"df-148e60f3-b6e4-4a83-aafa-154c7c1cd5d1\" class=\"colab-df-container\">\n",
              "    <div>\n",
              "<style scoped>\n",
              "    .dataframe tbody tr th:only-of-type {\n",
              "        vertical-align: middle;\n",
              "    }\n",
              "\n",
              "    .dataframe tbody tr th {\n",
              "        vertical-align: top;\n",
              "    }\n",
              "\n",
              "    .dataframe thead th {\n",
              "        text-align: right;\n",
              "    }\n",
              "</style>\n",
              "<table border=\"1\" class=\"dataframe\">\n",
              "  <thead>\n",
              "    <tr style=\"text-align: right;\">\n",
              "      <th></th>\n",
              "      <th>A</th>\n",
              "      <th>b</th>\n",
              "    </tr>\n",
              "  </thead>\n",
              "  <tbody>\n",
              "    <tr>\n",
              "      <th>0</th>\n",
              "      <td>1.097627</td>\n",
              "      <td>7.970698</td>\n",
              "    </tr>\n",
              "    <tr>\n",
              "      <th>1</th>\n",
              "      <td>1.430379</td>\n",
              "      <td>8.561144</td>\n",
              "    </tr>\n",
              "    <tr>\n",
              "      <th>2</th>\n",
              "      <td>1.205527</td>\n",
              "      <td>8.351774</td>\n",
              "    </tr>\n",
              "    <tr>\n",
              "      <th>3</th>\n",
              "      <td>1.089766</td>\n",
              "      <td>8.231488</td>\n",
              "    </tr>\n",
              "    <tr>\n",
              "      <th>4</th>\n",
              "      <td>0.847310</td>\n",
              "      <td>6.790682</td>\n",
              "    </tr>\n",
              "  </tbody>\n",
              "</table>\n",
              "</div>\n",
              "    <div class=\"colab-df-buttons\">\n",
              "\n",
              "  <div class=\"colab-df-container\">\n",
              "    <button class=\"colab-df-convert\" onclick=\"convertToInteractive('df-148e60f3-b6e4-4a83-aafa-154c7c1cd5d1')\"\n",
              "            title=\"Convert this dataframe to an interactive table.\"\n",
              "            style=\"display:none;\">\n",
              "\n",
              "  <svg xmlns=\"http://www.w3.org/2000/svg\" height=\"24px\" viewBox=\"0 -960 960 960\">\n",
              "    <path d=\"M120-120v-720h720v720H120Zm60-500h600v-160H180v160Zm220 220h160v-160H400v160Zm0 220h160v-160H400v160ZM180-400h160v-160H180v160Zm440 0h160v-160H620v160ZM180-180h160v-160H180v160Zm440 0h160v-160H620v160Z\"/>\n",
              "  </svg>\n",
              "    </button>\n",
              "\n",
              "  <style>\n",
              "    .colab-df-container {\n",
              "      display:flex;\n",
              "      gap: 12px;\n",
              "    }\n",
              "\n",
              "    .colab-df-convert {\n",
              "      background-color: #E8F0FE;\n",
              "      border: none;\n",
              "      border-radius: 50%;\n",
              "      cursor: pointer;\n",
              "      display: none;\n",
              "      fill: #1967D2;\n",
              "      height: 32px;\n",
              "      padding: 0 0 0 0;\n",
              "      width: 32px;\n",
              "    }\n",
              "\n",
              "    .colab-df-convert:hover {\n",
              "      background-color: #E2EBFA;\n",
              "      box-shadow: 0px 1px 2px rgba(60, 64, 67, 0.3), 0px 1px 3px 1px rgba(60, 64, 67, 0.15);\n",
              "      fill: #174EA6;\n",
              "    }\n",
              "\n",
              "    .colab-df-buttons div {\n",
              "      margin-bottom: 4px;\n",
              "    }\n",
              "\n",
              "    [theme=dark] .colab-df-convert {\n",
              "      background-color: #3B4455;\n",
              "      fill: #D2E3FC;\n",
              "    }\n",
              "\n",
              "    [theme=dark] .colab-df-convert:hover {\n",
              "      background-color: #434B5C;\n",
              "      box-shadow: 0px 1px 3px 1px rgba(0, 0, 0, 0.15);\n",
              "      filter: drop-shadow(0px 1px 2px rgba(0, 0, 0, 0.3));\n",
              "      fill: #FFFFFF;\n",
              "    }\n",
              "  </style>\n",
              "\n",
              "    <script>\n",
              "      const buttonEl =\n",
              "        document.querySelector('#df-148e60f3-b6e4-4a83-aafa-154c7c1cd5d1 button.colab-df-convert');\n",
              "      buttonEl.style.display =\n",
              "        google.colab.kernel.accessAllowed ? 'block' : 'none';\n",
              "\n",
              "      async function convertToInteractive(key) {\n",
              "        const element = document.querySelector('#df-148e60f3-b6e4-4a83-aafa-154c7c1cd5d1');\n",
              "        const dataTable =\n",
              "          await google.colab.kernel.invokeFunction('convertToInteractive',\n",
              "                                                    [key], {});\n",
              "        if (!dataTable) return;\n",
              "\n",
              "        const docLinkHtml = 'Like what you see? Visit the ' +\n",
              "          '<a target=\"_blank\" href=https://colab.research.google.com/notebooks/data_table.ipynb>data table notebook</a>'\n",
              "          + ' to learn more about interactive tables.';\n",
              "        element.innerHTML = '';\n",
              "        dataTable['output_type'] = 'display_data';\n",
              "        await google.colab.output.renderOutput(dataTable, element);\n",
              "        const docLink = document.createElement('div');\n",
              "        docLink.innerHTML = docLinkHtml;\n",
              "        element.appendChild(docLink);\n",
              "      }\n",
              "    </script>\n",
              "  </div>\n",
              "\n",
              "\n",
              "<div id=\"df-7f50ad43-298f-4737-b85f-faaa6c1ffe11\">\n",
              "  <button class=\"colab-df-quickchart\" onclick=\"quickchart('df-7f50ad43-298f-4737-b85f-faaa6c1ffe11')\"\n",
              "            title=\"Suggest charts.\"\n",
              "            style=\"display:none;\">\n",
              "\n",
              "<svg xmlns=\"http://www.w3.org/2000/svg\" height=\"24px\"viewBox=\"0 0 24 24\"\n",
              "     width=\"24px\">\n",
              "    <g>\n",
              "        <path d=\"M19 3H5c-1.1 0-2 .9-2 2v14c0 1.1.9 2 2 2h14c1.1 0 2-.9 2-2V5c0-1.1-.9-2-2-2zM9 17H7v-7h2v7zm4 0h-2V7h2v10zm4 0h-2v-4h2v4z\"/>\n",
              "    </g>\n",
              "</svg>\n",
              "  </button>\n",
              "\n",
              "<style>\n",
              "  .colab-df-quickchart {\n",
              "      --bg-color: #E8F0FE;\n",
              "      --fill-color: #1967D2;\n",
              "      --hover-bg-color: #E2EBFA;\n",
              "      --hover-fill-color: #174EA6;\n",
              "      --disabled-fill-color: #AAA;\n",
              "      --disabled-bg-color: #DDD;\n",
              "  }\n",
              "\n",
              "  [theme=dark] .colab-df-quickchart {\n",
              "      --bg-color: #3B4455;\n",
              "      --fill-color: #D2E3FC;\n",
              "      --hover-bg-color: #434B5C;\n",
              "      --hover-fill-color: #FFFFFF;\n",
              "      --disabled-bg-color: #3B4455;\n",
              "      --disabled-fill-color: #666;\n",
              "  }\n",
              "\n",
              "  .colab-df-quickchart {\n",
              "    background-color: var(--bg-color);\n",
              "    border: none;\n",
              "    border-radius: 50%;\n",
              "    cursor: pointer;\n",
              "    display: none;\n",
              "    fill: var(--fill-color);\n",
              "    height: 32px;\n",
              "    padding: 0;\n",
              "    width: 32px;\n",
              "  }\n",
              "\n",
              "  .colab-df-quickchart:hover {\n",
              "    background-color: var(--hover-bg-color);\n",
              "    box-shadow: 0 1px 2px rgba(60, 64, 67, 0.3), 0 1px 3px 1px rgba(60, 64, 67, 0.15);\n",
              "    fill: var(--button-hover-fill-color);\n",
              "  }\n",
              "\n",
              "  .colab-df-quickchart-complete:disabled,\n",
              "  .colab-df-quickchart-complete:disabled:hover {\n",
              "    background-color: var(--disabled-bg-color);\n",
              "    fill: var(--disabled-fill-color);\n",
              "    box-shadow: none;\n",
              "  }\n",
              "\n",
              "  .colab-df-spinner {\n",
              "    border: 2px solid var(--fill-color);\n",
              "    border-color: transparent;\n",
              "    border-bottom-color: var(--fill-color);\n",
              "    animation:\n",
              "      spin 1s steps(1) infinite;\n",
              "  }\n",
              "\n",
              "  @keyframes spin {\n",
              "    0% {\n",
              "      border-color: transparent;\n",
              "      border-bottom-color: var(--fill-color);\n",
              "      border-left-color: var(--fill-color);\n",
              "    }\n",
              "    20% {\n",
              "      border-color: transparent;\n",
              "      border-left-color: var(--fill-color);\n",
              "      border-top-color: var(--fill-color);\n",
              "    }\n",
              "    30% {\n",
              "      border-color: transparent;\n",
              "      border-left-color: var(--fill-color);\n",
              "      border-top-color: var(--fill-color);\n",
              "      border-right-color: var(--fill-color);\n",
              "    }\n",
              "    40% {\n",
              "      border-color: transparent;\n",
              "      border-right-color: var(--fill-color);\n",
              "      border-top-color: var(--fill-color);\n",
              "    }\n",
              "    60% {\n",
              "      border-color: transparent;\n",
              "      border-right-color: var(--fill-color);\n",
              "    }\n",
              "    80% {\n",
              "      border-color: transparent;\n",
              "      border-right-color: var(--fill-color);\n",
              "      border-bottom-color: var(--fill-color);\n",
              "    }\n",
              "    90% {\n",
              "      border-color: transparent;\n",
              "      border-bottom-color: var(--fill-color);\n",
              "    }\n",
              "  }\n",
              "</style>\n",
              "\n",
              "  <script>\n",
              "    async function quickchart(key) {\n",
              "      const quickchartButtonEl =\n",
              "        document.querySelector('#' + key + ' button');\n",
              "      quickchartButtonEl.disabled = true;  // To prevent multiple clicks.\n",
              "      quickchartButtonEl.classList.add('colab-df-spinner');\n",
              "      try {\n",
              "        const charts = await google.colab.kernel.invokeFunction(\n",
              "            'suggestCharts', [key], {});\n",
              "      } catch (error) {\n",
              "        console.error('Error during call to suggestCharts:', error);\n",
              "      }\n",
              "      quickchartButtonEl.classList.remove('colab-df-spinner');\n",
              "      quickchartButtonEl.classList.add('colab-df-quickchart-complete');\n",
              "    }\n",
              "    (() => {\n",
              "      let quickchartButtonEl =\n",
              "        document.querySelector('#df-7f50ad43-298f-4737-b85f-faaa6c1ffe11 button');\n",
              "      quickchartButtonEl.style.display =\n",
              "        google.colab.kernel.accessAllowed ? 'block' : 'none';\n",
              "    })();\n",
              "  </script>\n",
              "</div>\n",
              "    </div>\n",
              "  </div>\n"
            ]
          },
          "metadata": {},
          "execution_count": 8
        }
      ]
    },
    {
      "cell_type": "code",
      "source": [
        "# Calculate the mean\n",
        "mean_A = np.mean(A)\n",
        "mean_b = np.mean(b)\n",
        "\n",
        "# Calculate the numerator and denominator of beta\n",
        "df['Abcov'] = (df['A']-mean_A) * (df['b'] - mean_A) ## S_xy\n",
        "df['Avar'] = (df['A']-mean_A)**2 ## S_xx\n",
        "# Calculate beta0 and beta1\n",
        "beta = df['Abcov'].sum() / df['Avar'].sum() ## S_xy/S_xx\n",
        "alpha = mean_b - (beta* mean_A)\n",
        "print('alpha = ',alpha)\n",
        "print('beta  = ', beta)"
      ],
      "metadata": {
        "colab": {
          "base_uri": "https://localhost:8080/"
        },
        "id": "OTDW3qTmGxqI",
        "outputId": "ddef199b-8cda-41be-a16f-58d44b5909c5"
      },
      "execution_count": null,
      "outputs": [
        {
          "output_type": "stream",
          "name": "stdout",
          "text": [
            "alpha =  4.558080024157021\n",
            "beta  =  2.968275530101883\n"
          ]
        }
      ]
    },
    {
      "cell_type": "code",
      "source": [
        "# Get a prediction formula\n",
        "yhat = alpha + beta*A\n",
        "\n",
        "# Plot the data with the fitted line\n",
        "plt.plot(A, yhat, \"r-\")\n",
        "plt.plot(A, b, \"b.\")\n",
        "plt.axis([0, 2, 0 , 15])\n",
        "plt.show()"
      ],
      "metadata": {
        "colab": {
          "base_uri": "https://localhost:8080/",
          "height": 430
        },
        "id": "3fuTvixxJPVs",
        "outputId": "822305d7-76b1-4cd1-b47e-ad854d298cfb"
      },
      "execution_count": null,
      "outputs": [
        {
          "output_type": "display_data",
          "data": {
            "text/plain": [
              "<Figure size 640x480 with 1 Axes>"
            ],
            "image/png": "[encoded data removed]"
          },
          "metadata": {}
        }
      ]
    }
  ]
}