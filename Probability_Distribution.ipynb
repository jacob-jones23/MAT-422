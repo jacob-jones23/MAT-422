{
  "nbformat": 4,
  "nbformat_minor": 0,
  "metadata": {
    "colab": {
      "provenance": [],
      "authorship_tag": "ABX9TyODTOjqJ6mLZPdLCLkVgvl2",
      "include_colab_link": true
    },
    "kernelspec": {
      "name": "python3",
      "display_name": "Python 3"
    },
    "language_info": {
      "name": "python"
    }
  },
  "cells": [
    {
      "cell_type": "markdown",
      "metadata": {
        "id": "view-in-github",
        "colab_type": "text"
      },
      "source": [
        "<a href=\"https://colab.research.google.com/github/jacob-jones23/MAT-422/blob/main/Probability_Distribution.ipynb\" target=\"_parent\"><img src=\"https://colab.research.google.com/assets/colab-badge.svg\" alt=\"Open In Colab\"/></a>"
      ]
    },
    {
      "cell_type": "code",
      "execution_count": null,
      "metadata": {
        "id": "2u2uX8vIw1Pm"
      },
      "outputs": [],
      "source": []
    },
    {
      "cell_type": "markdown",
      "source": [
        "#**2.2 Probability Distribution**\n",
        "A probability distribution is the mathematical function that gives the probabilities of occurrence of different possible outcomes for an experiment. We will discuss both discrete and continuous probability distributions.\n",
        "\n",
        "##**2.2.1 Probability Axioms**\n",
        "We start with an experiment which is any activity or porcess whose outcome is subject to uncertainty.\n",
        "\n",
        "**Defenition 2.2.1:** The sample space of an experiment, denoted by *S*, is the set of all possible outcomes of that experiment.\n",
        "\n",
        "In probability, we will be interested not only in the individual outcomes of *S* but also in various collections of outcomes from *S*. In fact, it is often more meaningful to study collection of outcomes.\n",
        "\n",
        "**Definition 2.2.2:** An event is any collection (subset) of outcomes contained in the sample space *S*. An event is simple if it consists of exactly one outcome and compound if it consists of more than one outcome.\n",
        "\n",
        "**Definition 2.2.3:** Given an experiment and a sample space *S*, the probability distribution is a function which assign to each event 8A* a number *P(A)*, called the probability of the event *A*, which will give a precise measure of the chance that *A* will occur. The probability assignments should satisfy the following axioms (basic properties) of probability.\n",
        "\n",
        "* For any event *A*, 1 ≥ *P(A)* ≥ 0\n",
        "* *P(S)* = 1\n",
        "* If *A$_{1}$, A$_{2}$, A$_{3}$,...* is an infinite collection of disjoint events, then\n",
        "\\begin{align}\n",
        "P(A_{1} ∪ A_{2} ∪ A_{3} ∪...) = \\sum_{i=1}^{∞}P(A_{i})\n",
        "\\end{align}\n",
        "\n",
        "* For any event *A*, *P(A)* + *P(A')* = 1, from which *P(A)* = 1 - *P(A')*\n",
        "* When events *A* and *B* are mutually exclusive, *P(A∪B) = P(A) + P(B)*\n",
        "* For any two events *A* and *B*,\n",
        "\\begin{align}\n",
        "P(A∪B) = P(A) + P(B) - P(A∩B)\n",
        "\\end{align}\n",
        "\n",
        "**Example 2.2.4** In a simply and yet common experiment consisting of N outcomes, it is reasonable to assign equal probabilities to all *N* simple events. That is, if there are N equally likely outcomes, the probability for each is 1/*N*. Now consider an event *A* with *N(A)* denoting the number of outcomes contained in *A* and we have\n",
        "\\begin{align}\n",
        "P(A) = \\frac{N(A)} {N}\n",
        "\\end{align}"
      ],
      "metadata": {
        "id": "5YhX8c9xw2IG"
      }
    },
    {
      "cell_type": "markdown",
      "source": [
        "##**2.2.2 Conditional Probability**\n",
        "Conditional probability is defined as the likelihood of an event or outcome occuring, based on the occurance of a previous event or outcome.\n",
        "\n",
        "**Definition 2.2.5:** For any two events *A* and *B* with *P(B)* > 0, the conditional probability of *A* given that *B* occured is defined by\n",
        "\\begin{align}\n",
        "P(A | B) = \\frac{P(A∩B)} {P(B)}\n",
        "\\end{align}\n",
        "Conditional probability give a rise to the multiplication rule\n",
        "\\begin{align}\n",
        "P(A∩B) = P(A| B)· P(B)\n",
        "\\end{align}\n",
        "\n",
        "This rule is important because it is often the case that *P(A ∩ B)* id desired, whereas both *P(B)* and *P(A|B)* can be specified from the problem description.\n",
        "\n",
        "**Definition 2.2.6:** Two events *A* and *B* are independent if *P(A | B)* = *P(A)* or *P(A ∩ B) = P(A)⋅P(B)*, are dependent otherwise.\n",
        "\n",
        "**Definition 2.2.7:** Events *A$_{1}$*,...,*A$_{n}$* are mutually independent if for every *k*(*k* = 2,3,...,*n*) and every subset of indices *i$_{1}$,i$_{2}$,...,i$_{k}$*,\n",
        "\\begin{align}\n",
        "P(A_{i_1} ∩ A_{I_2} ∩ ... ∩ A_{i_k}) = P(A_{i_1})⋅P(A_{i_2}).....P(A_{i_k})\n",
        "\\end{align}\n"
      ],
      "metadata": {
        "id": "j-sRNmo31YqZ"
      }
    },
    {
      "cell_type": "code",
      "source": [],
      "metadata": {
        "id": "egY1yonj4FDr"
      },
      "execution_count": null,
      "outputs": []
    },
    {
      "cell_type": "markdown",
      "source": [
        "##**2.2.3 Discrete Random Variables**\n",
        "A random variable is understood as a measurable function defined on a probability space that maps from the sample space to the real numbers. It is often convenient to associate each outcome of an experiment with a number.\n",
        "\n",
        "**Definition 2.2.8** For a given sample space *S* of some experiment, a random variable is any rule that associates a number with each outcome in *S*. Mathematically, a random variable is a function whose domain is the sample space and whose range is the set of real numbers.\n",
        "\n",
        "* There are two different types of random variables.\n",
        "\n",
        "**Definition 2.2.9** A discrete random variable is a random variable whose possible values either constitute a finite set or else can be listed in an infinite sequence. A random variable is continuous if both of the following apply:\n",
        "1. Its set of possible values consists all numbers in a single interval on the number line.\n",
        "2. *P(X = c)* = 0 for any possible value individual *c*.\n",
        "\n",
        "In practice we wish to know the total probability of 1 is distributed among (allocated to) the various possible **X** values.\n",
        "\n",
        "**Definition 2.2.10** The probability distribution or probability mass function (pmf) of a discrete random variable is defined for every number *x* by\n",
        "\\begin{align}\n",
        "p(x) = P(X = x) = P(\\text{all }s ∈ S : X(s) = x)\n",
        "\\end{align}\n",
        "\n",
        "**Definition 2.2.11** The cumulative distribution function (cdf) *F(x)* of a discrete random variable 𝑿 with pmf *p(x)* is defined for every number *x* by\n",
        "\\begin{align}\n",
        "F(x) = P(X ≤ x) = \\sum_{y:y≤x}p(y)\n",
        "\\end{align}\n"
      ],
      "metadata": {
        "id": "MGhQlDD9AhPm"
      }
    },
    {
      "cell_type": "code",
      "source": [
        "import numpy as np\n",
        "import matplotlib.pyplot as plt\n",
        "import pandas as pd\n",
        "\n",
        "# Number of data points\n",
        "N = 500\n",
        "\n",
        "# initializing random values\n",
        "data = np.random.rand(N)\n",
        "\n",
        "# get data for histogram\n",
        "count, bins_count = np.histogram(data, bins=10)\n",
        "\n",
        "# finding probability mass function\n",
        "pmf = count/sum(count)\n",
        "\n",
        "# calculate cdf using np.cumsum\n",
        "cdf = np.cumsum(pmf)\n",
        "\n",
        "# plotting pmf and cdf\n",
        "plt.plot(bins_count[1:], pmf, color = \"red\", label = \"PMF\")\n",
        "plt.plot(bins_count[1:], cdf, label = \"CDF\")"
      ],
      "metadata": {
        "colab": {
          "base_uri": "https://localhost:8080/",
          "height": 448
        },
        "id": "t-PkKaJWEwB4",
        "outputId": "e651cc35-7487-44d3-aa2d-700713182dd0"
      },
      "execution_count": null,
      "outputs": [
        {
          "output_type": "execute_result",
          "data": {
            "text/plain": [
              "[<matplotlib.lines.Line2D at 0x7db0efc2c820>]"
            ]
          },
          "metadata": {},
          "execution_count": 3
        },
        {
          "output_type": "display_data",
          "data": {
            "text/plain": [
              "<Figure size 640x480 with 1 Axes>"
            ],
            "image/png": "[encoded data removed]"
          },
          "metadata": {}
        }
      ]
    },
    {
      "cell_type": "markdown",
      "source": [
        "**Example 2.2.12** In many cases there are only two possible values associated with the random variable. Any random variable whose only possible values are 0 and 1 is called a Bernoulli random variable. Given Bernoulli experiments with outcomes: S (success) and F(failiure). The binomial random variable *X* associated with independent Bernoulli experiment consisting of *n* trials is defined as\n",
        "\\begin{align}\n",
        "X = \\text{the number of S's among the n trials}\n",
        "\\end{align}\n",
        "The probability of success is constant *p* from trial to trial. The pmf of *X* has the form\n",
        "\\begin{align}\n",
        "b(x;n,p) = \\left\\{\n",
        "        \\begin{array}{cl}\n",
        "        \\begin{pmatrix} n \\\\  x \\end{pmatrix} p^{x}(1-p)^{n-x}, x = 0,1,2,3,...,n\n",
        "         \\\\\n",
        "       0, \\text{ otherwise}\n",
        "        \\end{array}\n",
        "  \\right.\n",
        "\\end{align}\n",
        "\n",
        "The cdf of 𝑿 has the form\n",
        "\\begin{align}\n",
        "B(x;n,p) = P(𝑿 ≤ x) = \\sum_{y≤x}b(x;n,p) = \\sum_{y=0}^{x}\\begin{pmatrix} n \\\\  y \\end{pmatrix} p^{x}(1-p)^{n-x}\n",
        "\\end{align}"
      ],
      "metadata": {
        "id": "GbrI_lPoH1D-"
      }
    },
    {
      "cell_type": "markdown",
      "source": [
        "**Example 2.2.13** The Poisson distribution is a discrete probability distribution that describes the probability of a given number of events occuring in a fixed interval of time or space if these events occur with a known constant mean rate and independently of the time since the last event. A discrete random variable *X* is said to have a poisson distribution with parameter μ if the pmf of *X* has the form\n",
        "\\begin{align}\n",
        "p(x;μ) = \\frac{e^{-μ}μ^{x}} {x!}, x=0,1,2,3,....\n",
        "\\end{align}\n"
      ],
      "metadata": {
        "id": "MDEJsQeEOTsY"
      }
    },
    {
      "cell_type": "code",
      "source": [
        "import numpy as np\n",
        "from scipy.stats import poisson\n",
        "import matplotlib.pyplot as plt\n",
        "fig, ax = plt.subplots(1,1)\n",
        "\n",
        "## Calculate the first 4 moments\n",
        "mu = 0.6\n",
        "mean, var, skew, kurt = poisson.stats(mu, moments='mvsk')\n",
        "\n",
        "## Display pmf\n",
        "x = np.arange(poisson.ppf(0.01,mu), poisson.ppf(0.99,mu))\n",
        "ax.plot(x, poisson.pmf(x, mu), 'bo', ms=8, label='poisson pmf')\n",
        "ax.vlines(x,0,poisson.pmf(x,mu), colors='b', lw=5, alpha=0.5)"
      ],
      "metadata": {
        "colab": {
          "base_uri": "https://localhost:8080/",
          "height": 448
        },
        "id": "MhSYYR2SP697",
        "outputId": "48125f20-8a94-405e-d136-0b6a205d3691"
      },
      "execution_count": 2,
      "outputs": [
        {
          "output_type": "execute_result",
          "data": {
            "text/plain": [
              "<matplotlib.collections.LineCollection at 0x7dae49987070>"
            ]
          },
          "metadata": {},
          "execution_count": 2
        },
        {
          "output_type": "display_data",
          "data": {
            "text/plain": [
              "<Figure size 640x480 with 1 Axes>"
            ],
            "image/png": "[encoded data removed]"
          },
          "metadata": {}
        }
      ]
    },
    {
      "cell_type": "markdown",
      "source": [
        "**2.2.3.1 The Expected Value and Variance of X**\n",
        "The expected value of a random variable *X* is a generalization of the weighted average, and is intuitively the arithmetic mean of a large number of independent realizations of *X*.\n",
        "\n",
        "**Definition 2.2.14** Let 𝑿 be a discrete random variable with set of possible values *D* and pmf *p(x)*. The expected value or mean value of 𝑿, denoted by *E(𝑿)* or μ$_{X}$ or just μ, is\n",
        "\\begin{align}\n",
        "E(X) = \\mu_X = \\sum_{x∈D}x·p(x)\n",
        "\\end{align}\n",
        "\n",
        "**Example 2.2.15** Let 𝑿 = 1 be a Bernoulli random variable with pmf *p(1)* = *p*, *p(0)* = 1 -*p* and, from which *E(X)* = 0 x *p(0)* + 1 x *p(1)* = *p*. That is, the expected value of 𝑿 is just the probability that 𝑿 takes on the value 1.\n",
        "\n",
        "**Proposition 2.2.15** If the random variable 𝑿 has a set of possible values *D* and pmf *p(x)*, then the expected value of any function *h(𝑿), denoted by *E*[h(𝑿)] or μ$_{h(𝑿)}$, is computed by\n",
        "\\begin{align}\n",
        "E[h(𝑿)] = \\sum_{D}h(x)⋅p(x)\n",
        "\\end{align}\n",
        "In particular,\n",
        "\\begin{align}\n",
        "E(a𝑿+b) = a⋅E(𝑿)+b\n",
        "\\end{align}\n",
        "Variance measure how far a set of numbers is spread out from their average values.\n",
        "\n",
        "**Definition 2.2.16** Let 𝑿 have pmf *p(x)* and expected value μ. Then the variance of 𝑿, denoted by *V(𝑿) or σ$_{𝑿}^{2}$, or just σ$^{2}$, is\n",
        "\\begin{align}\n",
        "V(𝑿) = \\sum_{D}(x-μ)^{2}·p(x) = E[(𝑿-μ)^{2}]\n",
        "\\end{align}\n",
        "The standard deviation (SD) of 𝑿 is\n",
        "\\begin{align}\n",
        "σ_{𝑿} = \\sqrt{σ_{𝑿}^{2}}\n",
        "\\end{align}\n",
        "\n",
        "**Proposition 2.2.17**\n",
        "\\begin{align}\n",
        "V(a𝑿+b) = σ_{a𝑿+b}^{2}=a^{2}⋅σ_{𝑿}^{2} \\text{ and } σ_{a𝑿+b} = |a|⋅σ_{x}\n",
        "\\end{align}\n",
        "In particular,\n",
        "\\begin{align}\n",
        "σ_{a𝑿} = |a|⋅σ_{𝑿},\\text{ } σ_{𝑿+b} = σ_{𝑿}\n",
        "\\end{align}\n",
        "\n",
        "**Proposition 2.2.18**\n",
        "* If 𝑿 is a binomial random variable with parameters *n*, *p*, then  *E(𝑿)* = np, *V(𝑿)*=*np*(1-*p*), σ$_{𝑿}$ = $\\sqrt{np(1-p)}$.\n",
        "* If 𝑿 is a Poisson distribution with parameter μ, then *E(𝑿)* = μ, *V(𝑿)* = μ.\n"
      ],
      "metadata": {
        "id": "pCMTxXmuQ7ze"
      }
    },
    {
      "cell_type": "code",
      "source": [
        "from numpy import array\n",
        "from numpy import mean\n",
        "v = array([1,2,3,4,5,6])\n",
        "print(v)\n",
        "result = mean(v)\n",
        "print(result)"
      ],
      "metadata": {
        "id": "5BJtzFGXj0v-"
      },
      "execution_count": 1,
      "outputs": []
    },
    {
      "cell_type": "code",
      "source": [
        "M = array([[1,2,3,4,5,6],[1,2,3,4,5,6]])\n",
        "print(M)\n",
        "col_mean = mean(M, axis=0)\n",
        "print(col_mean)\n",
        "row_mean = mean(M, axis=1)\n",
        "print(row_mean)\n"
      ],
      "metadata": {
        "colab": {
          "base_uri": "https://localhost:8080/"
        },
        "id": "Emy09a6KkC4C",
        "outputId": "dd9fb39a-08bb-4dc6-d9b7-6a823565899d"
      },
      "execution_count": 2,
      "outputs": [
        {
          "output_type": "stream",
          "name": "stdout",
          "text": [
            "[[1 2 3 4 5 6]\n",
            " [1 2 3 4 5 6]]\n",
            "[1. 2. 3. 4. 5. 6.]\n",
            "[3.5 3.5]\n"
          ]
        }
      ]
    },
    {
      "cell_type": "code",
      "source": [
        "from numpy import var\n",
        "v = array([1,2,3,4,5,6])\n",
        "print(v)\n",
        "result = var(v, ddof=1)\n",
        "print(result)"
      ],
      "metadata": {
        "colab": {
          "base_uri": "https://localhost:8080/"
        },
        "id": "qH4NLZKEkVow",
        "outputId": "4989ded5-4937-464b-bc06-59ba71f7b2f9"
      },
      "execution_count": 4,
      "outputs": [
        {
          "output_type": "stream",
          "name": "stdout",
          "text": [
            "[1 2 3 4 5 6]\n",
            "3.5\n"
          ]
        }
      ]
    },
    {
      "cell_type": "code",
      "source": [
        "from numpy import std\n",
        "M = array([[1,2,3,4,5,6],[1,2,3,4,5,6]])\n",
        "print(M)\n",
        "col_std = std(M, ddof=1, axis=0)\n",
        "print(col_std)\n",
        "row_std = std(M, ddof=1, axis=1)\n",
        "print(row_std)"
      ],
      "metadata": {
        "colab": {
          "base_uri": "https://localhost:8080/"
        },
        "id": "omfr3GlCkzG9",
        "outputId": "8fd9a382-97b5-4b5a-8e82-64ca1bb3e1fd"
      },
      "execution_count": 5,
      "outputs": [
        {
          "output_type": "stream",
          "name": "stdout",
          "text": [
            "[[1 2 3 4 5 6]\n",
            " [1 2 3 4 5 6]]\n",
            "[0. 0. 0. 0. 0. 0.]\n",
            "[1.87082869 1.87082869]\n"
          ]
        }
      ]
    },
    {
      "cell_type": "markdown",
      "source": [
        "##**2.2.4 Continues Random Variables**\n",
        "A random variable X is continuous if possible values comprise either a single interval on the number line or a union of disjoint intervals.\n",
        "\n",
        "**Definition 2.2.19** Let *X* be a continuous random variable. Then a probability distribution or probability density function (pdf) of *X* is a function *f(x)* such that for any two numbers *a* and *b* with a ≤ b,\n",
        "\\begin{align}\n",
        "P(a≤X≤b) = \\int_a^{b}f(x)dx\n",
        "\\end{align}\n",
        "\n",
        "That is, the probability that *X* takes on a value in the interval [*a, b*] is the area above this interval and under the graph of the density function, as illustrated in Figure 2.3. *f(x)* must satisfy the following two conditions:\n",
        "1. *f(x)* ≥ 0 for all *x*\n",
        "2. ∫$_{-∞}^{∞}$*f(x)dx* = Total area under the entire graph of *f(x)* = 1\n",
        "\n",
        "**2.2.4.1** Expected values and variances for continuous random variables as for discrete variables.\n",
        "\n",
        "**Definition 2.2.20** The expected or mean value of a continuous random variable *X* with pdf *f(x)* is\n",
        "\\begin{align}\n",
        "μ_{X} = E(X) = \\int_{-∞}^{∞}x⋅f(x)dx\n",
        "\\end{align}\n",
        "\n",
        "**Definition 2.2.21** The variance of a continuous random variable *X* with pdf *f(x)* and the variance is μ is\n",
        "\\begin{align}\n",
        "σ_{X}^{2} = V(X) = ∫_{-∞}^{∞}(x-μ)^{2}⋅f(x)dx = E[(X-μ)^2]\n",
        "\\end{align}\n",
        "The standard deviation (SD) of *X* is σ$_{X}$ = $\\sqrt{V(X)}$\n",
        "\n",
        "**Proposition 2.2.22** The expected values and variance have the following properties;\n",
        "* If *X* is a continuous random variable with pdf *f(x)* and *h(X)* is any function of *X*, then\n",
        "\\begin{align}\n",
        "E[h(X)] = μ_{h(X)}=∫_{-∞}^{∞}h(x)⋅f(x)dx\n",
        "\\end{align}\n",
        "\n",
        "\\begin{align}\n",
        "V(X) = E(X^2)-[E(X)]^2\n",
        "\\end{align}\n",
        "\n",
        "**Definition 2.2.23** *X* is said to have an exponential distribution wiht parameter λ(λ > 0) if the pdf of *X* is\n",
        "\\begin{align}\n",
        "f(x;λ)= \\left\\{\n",
        "        \\begin{array}{cl}\n",
        "        λe^{-λx} \\text{ } \\text{ } x≥0\n",
        "         \\\\\n",
        "       0, \\text{ otherwise}\n",
        "        \\end{array}\n",
        "  \\right.\n",
        "\\end{align}\n",
        "The expected value of an exponentially distributed random variable *X* is\n",
        "\\begin{align}\n",
        "E(X) = ∫_{0}^{∞}xλe^{-λx}dx\n",
        "\\end{align}\n",
        "\n",
        "**2.2.4.2 The Normal Distribution**\n",
        "**Definition 2.2.24** A continuous random variable *X* is said to have a normal distribution with parameters μ and σ (or μ and σ$^{2}$), where -∞ < μ < μ and 0 < σ, if the pdf of *X* is\n",
        "\\begin{align}\n",
        "f(x;μ,σ) = \\frac{1} {\\sqrt{2π}σ} e^{-(x-μ)^{2}/(2σ^{2})} \\text{ } -∞ < x < ∞\n",
        "\\end{align}\n",
        "\n",
        "**Definition 2.2.25** The normal distribution with parameter values μ = 0 and σ = 1 is called the standard normal distribution. A random variable having a standard normal distribution is called a standard normal random variable and will be denoted by *Z*. The pdf of *Z* is\n",
        "\\begin{align}\n",
        "f(z;0,1) = \\frac{1} {\\sqrt{2\\pi}}e^{-z^{2}/2} \\text{ } -∞ < z < ∞\n",
        "\\end{align}\n",
        "\n",
        "**Proposition 2.2.26** If *X* has a normal distribution with mean μ and standard deviation σ, then\n",
        "\\begin{align}\n",
        "Z = \\frac{X-μ} {σ}\n",
        "\\end{align}\n",
        "has a standard normal distribution."
      ],
      "metadata": {
        "id": "Qbf8jRBclWXQ"
      }
    },
    {
      "cell_type": "code",
      "source": [
        "import math\n",
        "import scipy.stats as stats\n",
        "A = stats.norm(loc=100, scale=15) # Declare A to be a normal random variable\n",
        "print(A)\n",
        "t = np.linspace(50,150,100)\n",
        "plt.plot(t,A.pdf(t), label=\"PDF\")\n",
        "plt.legend()\n",
        "plt.show()"
      ],
      "metadata": {
        "colab": {
          "base_uri": "https://localhost:8080/",
          "height": 448
        },
        "id": "r6pP88neqedd",
        "outputId": "d534cd04-dfd6-4255-f99a-fefec67edb45"
      },
      "execution_count": 3,
      "outputs": [
        {
          "output_type": "stream",
          "name": "stdout",
          "text": [
            "<scipy.stats._distn_infrastructure.rv_continuous_frozen object at 0x7dae806af8b0>\n"
          ]
        },
        {
          "output_type": "display_data",
          "data": {
            "text/plain": [
              "<Figure size 640x480 with 1 Axes>"
            ],
            "image/png": "[encoded data removed]"
          },
          "metadata": {}
        }
      ]
    },
    {
      "cell_type": "code",
      "source": [
        "# Beta distribution\n",
        "beta = stats.beta(a=2, b=5)\n",
        "beta.rvs(size=5, random_state = 133)\n",
        "beta_sample = beta.rvs(size=1000, random_state=133)\n",
        "t=np.linspace(0,1,100)\n",
        "plt.plot(t, beta.pdf(t), label=\"PDF\")\n",
        "plt.legend()\n",
        "plt.ylabel(\"Density\")\n",
        "plt.title(\"Beta distribution\")\n",
        "plt.show()"
      ],
      "metadata": {
        "colab": {
          "base_uri": "https://localhost:8080/",
          "height": 452
        },
        "id": "OSSYswzlM4VR",
        "outputId": "d9cbb605-f724-4ee6-acd6-f8dfe3681b61"
      },
      "execution_count": 4,
      "outputs": [
        {
          "output_type": "display_data",
          "data": {
            "text/plain": [
              "<Figure size 640x480 with 1 Axes>"
            ],
            "image/png": "[encoded data removed]"
          },
          "metadata": {}
        }
      ]
    }
  ]
}