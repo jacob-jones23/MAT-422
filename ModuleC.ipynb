{
  "nbformat": 4,
  "nbformat_minor": 0,
  "metadata": {
    "colab": {
      "provenance": [],
      "authorship_tag": "ABX9TyOpZJDjooFaRa+4TDTdGOgp",
      "include_colab_link": true
    },
    "kernelspec": {
      "name": "python3",
      "display_name": "Python 3"
    },
    "language_info": {
      "name": "python"
    }
  },
  "cells": [
    {
      "cell_type": "markdown",
      "metadata": {
        "id": "view-in-github",
        "colab_type": "text"
      },
      "source": [
        "<a href=\"https://colab.research.google.com/github/jacob-jones23/MAT-422/blob/main/ModuleC.ipynb\" target=\"_parent\"><img src=\"https://colab.research.google.com/assets/colab-badge.svg\" alt=\"Open In Colab\"/></a>"
      ]
    },
    {
      "cell_type": "markdown",
      "source": [
        "#**Chapter 19: Root Finding**\n",
        "\n",
        "Motivation: As the name suggests, the roots of a function are one of its most important properties. Finding the roots of functions is important in many engineering applications such as signal processing and optimization. For simple functions such as *f(x) = ax$^{2}$ + bx + c,* you may already be familiar with the \"quadratic formula\"\n",
        "\\begin{align}\n",
        "x_r = \\frac{-b ± \\sqrt{b^2-4ac}}{2a}\n",
        "\\end{align}\n",
        "\n",
        "which gives *x$_{r}$*, the two roots of *f* exactly. However for more complicated functions, the roots can rarley be computed using such explicit, or exact, means."
      ],
      "metadata": {
        "id": "X0dh8OFrjyzq"
      }
    },
    {
      "cell_type": "markdown",
      "source": [
        "#**19.1: Root Finding Problem Statement**\n",
        "The **root** or **zero** of a function, *f(x)*, is an *x$_{r}$* such that *f(x$_{r}$)* = 0. For functions such as *f(x) = x$^{2}$ -9*, the roots are clearly 3 and -3. However other functions like *f(x). cos(x) - x*, determining an **analytic**, or exact, solution for the roots of functions can be difficult. For this case it is useful to generate numerical approximations of the roots of *f* and understand the limitations in doing so.\n",
        "\n",
        "\n",
        "**TRY IT** Using *fsolve* function from scipy to compute the root of f(x) = cos(x) - x near -2."
      ],
      "metadata": {
        "id": "SDA2TNgjlAwH"
      }
    },
    {
      "cell_type": "code",
      "source": [
        "import numpy as np\n",
        "from scipy import optimize\n",
        "f = lambda x: np.cos(x) - x\n",
        "r = optimize.fsolve(f, -2)\n",
        "print(\"r =\", r)\n",
        "\n",
        "# Verify the solution is a root\n",
        "result = f(r)\n",
        "print(\"result =\", result)"
      ],
      "metadata": {
        "colab": {
          "base_uri": "https://localhost:8080/"
        },
        "id": "HL2tMnhKlzgC",
        "outputId": "c86044f4-73cd-4035-d225-78dcc0003141"
      },
      "execution_count": null,
      "outputs": [
        {
          "output_type": "stream",
          "name": "stdout",
          "text": [
            "r = [0.73908513]\n",
            "result = [0.]\n"
          ]
        }
      ]
    },
    {
      "cell_type": "markdown",
      "source": [
        "**TRY IT** The function f(x) = $\\frac{1}{x}$ has no root. Use the fsolve function to try to compute the root of *f(x)* = $\\frac{1}{x}$. Turn on the *full_output* to see what's going on."
      ],
      "metadata": {
        "id": "xYXGsfLDmddC"
      }
    },
    {
      "cell_type": "code",
      "source": [
        "f = lambda x: 1/x\n",
        "\n",
        "r, infodict, ier, mesg = optimize.fsolve(f, -2, full_output = True)\n",
        "print(\"r =\", r)\n",
        "\n",
        "result = f(r)\n",
        "print(\"result =\", result)\n",
        "\n",
        "print(mesg)"
      ],
      "metadata": {
        "colab": {
          "base_uri": "https://localhost:8080/"
        },
        "id": "h5wQC0LWmuvk",
        "outputId": "aa06868a-47ef-461c-98b0-2e9d6223e833"
      },
      "execution_count": null,
      "outputs": [
        {
          "output_type": "stream",
          "name": "stdout",
          "text": [
            "r = [-3.52047359e+83]\n",
            "result = [-2.84052692e-84]\n",
            "The number of calls to function has reached maxfev = 400.\n"
          ]
        }
      ]
    },
    {
      "cell_type": "markdown",
      "source": [
        "We can see that, the value r we got is not a root, even though the f(r) is a very small number. Sunce we turned on the full_output, which have more information. A message will be returned if no solution is found, and we can see mesg details for the cause of failire - \"The number of calls to function has reached maxfev = 400\""
      ],
      "metadata": {
        "id": "fVxj8wudnFRC"
      }
    },
    {
      "cell_type": "markdown",
      "source": [
        "#**19.2: Tolerance**\n",
        "In engineering and science, **error** is a deviation from an expected or computed value. **Tolerance** is the level of error that is acceptable for an engineering application. We say that a computer program has **converged** to a solution when it has found a solution with an error smaller than the tolerance. When computing roots numerically, or conduction any other kind of numerical analysis, it is important to establish both a metric for error and a tolerance that is suitable for a given engineering/science application.\n",
        "\n",
        "For computing roots, we want x$_{r}$ such that f(x$_{r}$) is very close to 0. Therefore |f(x)| is a possible choice for the measure of error since the smaller it is, the likelier we are to a root."
      ],
      "metadata": {
        "id": "Ct0wcSrHnf9m"
      }
    },
    {
      "cell_type": "markdown",
      "source": [
        "#**19.3: Bisection Method**\n",
        "The **intermediate value theorem** says that if f(x) is a continuous function between a and b, and sign(f(a)) != sign(f(b)), then there must be a c, such that a < c < b and f(c) = 0.\n",
        "\n",
        "The **bisection method** uses the intermediate value theorem iteratively to find roots. Let f(x) be a continuous function, and a and b be real scalar values such that a < b. Assume without loss of generality, that f(a) > 0 and f(b) < 0. Then by the intermediate value theorem, there must be a root on the poen interval (a,b). Now let m = $\\frac{b++a}{2}$, the midpoint between a and b. If f(m) = 0 or is close enough, then m is a root. If f(m) > 0, then m is an improvement on the left bound, a, and there is guranteed to be a root on the open interval (m, b). If f(m) < 0, then m is an improvement on the right bound, b, and there is guaranteed to be a root on the open interval (a, m).\n",
        "\n",
        "**TRY IT** Program a function my_bisection(f, a, b, tol) that approximates a root r of f, bounded by a and b to withing |f($\\frac{b+a}{2}$)| < tol"
      ],
      "metadata": {
        "id": "OpZNL0ztomah"
      }
    },
    {
      "cell_type": "code",
      "source": [
        "import numpy as np\n",
        "\n",
        "def my_bisection(f, a, b, tol):\n",
        "\n",
        "  if np.sign(f(a)) == np.sign(f(b)):\n",
        "    raise Exception(\n",
        "        \"The scalars a and b do not bound a root\")\n",
        "\n",
        "  m = (a+b)/2\n",
        "\n",
        "  if np.abs(f(m)) < tol:\n",
        "    # stopping condition, report m as root\n",
        "    return m\n",
        "  elif np.sign(f(a)) == np.sign(f(m)):\n",
        "    # case where m is an improvement on a.\n",
        "    # Make recursive call with a = m\n",
        "    return my_bisection(f, m, b, tol)\n",
        "  elif np.sign(f(b)) == np.sign(f(m)):\n",
        "    # case where m is an improvement on b.\n",
        "    # Make recursive call with b = m\n",
        "    return my_bisection(f, a, m, tol)"
      ],
      "metadata": {
        "id": "kvVv67DPpmf-"
      },
      "execution_count": null,
      "outputs": []
    },
    {
      "cell_type": "markdown",
      "source": [
        "**TRY IT** The $\\sqrt{2}$ can be computed as the root of the function f(x) = x$^{2}$ - 2.  Starting at a = 0 and b =2, use my_bisection to approximate the $\\sqrt{2}$ to a tolerance of |f(x)| < 0.1 and |f(x)| < 0.01. Verify that the results are close to a root by plugging the root back into the function."
      ],
      "metadata": {
        "id": "wVXUAaAorFE-"
      }
    },
    {
      "cell_type": "code",
      "source": [
        "f = lambda x: x**2 - 2\n",
        "\n",
        "r1 = my_bisection(f, 0, 2, 0.1)\n",
        "print(\"r1 =\", r1)\n",
        "r01 = my_bisection(f, 0, 2, 0.01)\n",
        "print(\"r01 =\", r01)\n",
        "\n",
        "print(\"f(r1) =\", f(r1))\n",
        "print(\"f(r01) =\", f(r01))"
      ],
      "metadata": {
        "colab": {
          "base_uri": "https://localhost:8080/"
        },
        "id": "khX_I4SPreCz",
        "outputId": "7f808d4b-6c5e-484c-f08b-500bbb6877d2"
      },
      "execution_count": null,
      "outputs": [
        {
          "output_type": "stream",
          "name": "stdout",
          "text": [
            "r1 = 1.4375\n",
            "r01 = 1.4140625\n",
            "f(r1) = 0.06640625\n",
            "f(r01) = -0.00042724609375\n"
          ]
        }
      ]
    },
    {
      "cell_type": "markdown",
      "source": [
        "**TRY IT** See what will happen when a = 2 and b = 4 for the above."
      ],
      "metadata": {
        "id": "xnY-dPh8sCf7"
      }
    },
    {
      "cell_type": "code",
      "source": [
        "my_bisection(f, 2, 4, 0.1)"
      ],
      "metadata": {
        "colab": {
          "base_uri": "https://localhost:8080/",
          "height": 297
        },
        "id": "M7XoeG6NsLMf",
        "outputId": "343bac22-034e-4fff-aac6-1620e8001a48"
      },
      "execution_count": null,
      "outputs": [
        {
          "output_type": "error",
          "ename": "Exception",
          "evalue": "The scalars a and b do not bound a root",
          "traceback": [
            "\u001b[0;31m---------------------------------------------------------------------------\u001b[0m",
            "\u001b[0;31mException\u001b[0m                                 Traceback (most recent call last)",
            "\u001b[0;32m<ipython-input-10-c77002340c98>\u001b[0m in \u001b[0;36m<cell line: 1>\u001b[0;34m()\u001b[0m\n\u001b[0;32m----> 1\u001b[0;31m \u001b[0mmy_bisection\u001b[0m\u001b[0;34m(\u001b[0m\u001b[0mf\u001b[0m\u001b[0;34m,\u001b[0m \u001b[0;36m2\u001b[0m\u001b[0;34m,\u001b[0m \u001b[0;36m4\u001b[0m\u001b[0;34m,\u001b[0m \u001b[0;36m0.1\u001b[0m\u001b[0;34m)\u001b[0m\u001b[0;34m\u001b[0m\u001b[0;34m\u001b[0m\u001b[0m\n\u001b[0m",
            "\u001b[0;32m<ipython-input-8-85a24ceaeb3c>\u001b[0m in \u001b[0;36mmy_bisection\u001b[0;34m(f, a, b, tol)\u001b[0m\n\u001b[1;32m      4\u001b[0m \u001b[0;34m\u001b[0m\u001b[0m\n\u001b[1;32m      5\u001b[0m   \u001b[0;32mif\u001b[0m \u001b[0mnp\u001b[0m\u001b[0;34m.\u001b[0m\u001b[0msign\u001b[0m\u001b[0;34m(\u001b[0m\u001b[0mf\u001b[0m\u001b[0;34m(\u001b[0m\u001b[0ma\u001b[0m\u001b[0;34m)\u001b[0m\u001b[0;34m)\u001b[0m \u001b[0;34m==\u001b[0m \u001b[0mnp\u001b[0m\u001b[0;34m.\u001b[0m\u001b[0msign\u001b[0m\u001b[0;34m(\u001b[0m\u001b[0mf\u001b[0m\u001b[0;34m(\u001b[0m\u001b[0mb\u001b[0m\u001b[0;34m)\u001b[0m\u001b[0;34m)\u001b[0m\u001b[0;34m:\u001b[0m\u001b[0;34m\u001b[0m\u001b[0;34m\u001b[0m\u001b[0m\n\u001b[0;32m----> 6\u001b[0;31m     raise Exception(\n\u001b[0m\u001b[1;32m      7\u001b[0m         \"The scalars a and b do not bound a root\")\n\u001b[1;32m      8\u001b[0m \u001b[0;34m\u001b[0m\u001b[0m\n",
            "\u001b[0;31mException\u001b[0m: The scalars a and b do not bound a root"
          ]
        }
      ]
    },
    {
      "cell_type": "markdown",
      "source": [
        "#**19.4: Newton-Raphson Method**\n",
        "Let f(x) be a smooth and continuous function and x$_{r}$ be an unknown root of f(x). Now assume that x$_{0}$ is a guess for x$_{r}$. Unless x$_{0}$ is a very lucky guess, f(x$_{0}$) will not be a root. Given this scenario, we want to find an x$_{1}$ that is an improvement on x$_{0}$ (i.e., closer to x$_{r}$ than x$_{0}$). If we assume that x$_{0}$ is \"close enough\" to x$_{r}$, then we can improve upon it by taking the linear approximation of f(x) around x$_{0}$, which is a line, and finding the intersection of this line with the x-axis. Written out, the linear approximation of f(x) around x$_{0}$ is f(x) = f(x$_{0}$) + f'(x$_{0}$)(x-x$_{0}$). Using this approximation, we find x$_{1}$ such that f(x$_{1}$) = 0. Plugging these values into the linear approximation results in the equation\n",
        "\\begin{align}\n",
        "0 = f(x_0) + f'(x_0)(x_1 - x_0),\n",
        "\\end{align}\n",
        "which when solved for x$_{1}$ is x$_{1}$ = x$_{0}$ - $\\frac{f(x_0)}{f'(x_0)}$.\n",
        "\n",
        "Written generally, a **newton step** computes an improved guess, x$_{i}$, using a previous guess x$_{i-1}$, and is given by the equation\n",
        "\\begin{align}\n",
        "x_i = x_{i-1} - \\frac{g(x_{i-1})}{g'(x_{i-1})}\n",
        "\\end{align}\n",
        "\n",
        "The **Newton-Raphson Method** of finding roots iterates Newton steps from x$_{0}$ until the error is less than the tolerance.\n",
        "\n",
        "**TRY IT** Again, the $\\sqrt{2}$ is the root of the function f(x) = x$^2$ - 2. Using $x_{0}$ = 1.4 as a starting point, use the previous equation to estimate $\\sqrt{2}$.  Compare the approximation with the value computed by Python's sqrt function.\n",
        "\\begin{align}\n",
        "x = 1.4 - \\frac{1.4^2 - 2}{2(1.4)} = 1.4142857142857144\n",
        "\\end{align}"
      ],
      "metadata": {
        "id": "qiyrPwk9scZf"
      }
    },
    {
      "cell_type": "code",
      "source": [
        "import numpy as np\n",
        "\n",
        "f = lambda x: x**2 - 2\n",
        "f_prime = lambda x: 2*x\n",
        "newton_raphson = 1.4 - (f(1.4))/(f_prime(1.4))\n",
        "\n",
        "print(\"newton_raphson =\", newton_raphson)\n",
        "print(\"sqrt(2) =\", np.sqrt(2))"
      ],
      "metadata": {
        "colab": {
          "base_uri": "https://localhost:8080/"
        },
        "id": "zYA2TJ6pdMvQ",
        "outputId": "c790edee-41d8-4625-c029-63b16ce4e984"
      },
      "execution_count": null,
      "outputs": [
        {
          "output_type": "stream",
          "name": "stdout",
          "text": [
            "newton_raphson = 1.4142857142857144\n",
            "sqrt(2) = 1.4142135623730951\n"
          ]
        }
      ]
    },
    {
      "cell_type": "markdown",
      "source": [
        "**TRY IT** Write a function my_newton(f, df, x0, tol), where the output is an estimation of the root of f, f is a function object f(x), df is a function object to f'(x), x0 is an inital guess, and tol is the error tolerance. The error measurement should be |f(x)|."
      ],
      "metadata": {
        "id": "251w41XAdUK7"
      }
    },
    {
      "cell_type": "code",
      "source": [
        "def my_newton(f, df, x0, tol):\n",
        "  #outupt an estimation of the root of f\n",
        "  # using newton-raphson method\n",
        "  if abs(f(x0)) < tol:\n",
        "    return x0\n",
        "  else:\n",
        "    return my_newton(f, df, x0 - f(x0)/df(x0), tol)"
      ],
      "metadata": {
        "id": "uZjWqLJJb5cf"
      },
      "execution_count": null,
      "outputs": []
    },
    {
      "cell_type": "markdown",
      "source": [
        "**TRY IT** Use my_newton to compute $\\sqrt{2}$ to within tolerance of 1e-6 starting at x0 = 1.5."
      ],
      "metadata": {
        "id": "ubqXJ2eUcaNw"
      }
    },
    {
      "cell_type": "code",
      "source": [
        "estimate = my_newton(f, f_prime, 1.5, 1e-6)\n",
        "print(\"estimate =\", estimate)\n",
        "print(\"sqrt(2) =\", np.sqrt(2))"
      ],
      "metadata": {
        "colab": {
          "base_uri": "https://localhost:8080/"
        },
        "id": "TUBSoUsgcZmy",
        "outputId": "22b10584-72e1-4c40-8e13-49bf03e1917c"
      },
      "execution_count": null,
      "outputs": [
        {
          "output_type": "stream",
          "name": "stdout",
          "text": [
            "estimate = 1.4142135623746899\n",
            "sqrt(2) = 1.4142135623730951\n"
          ]
        }
      ]
    },
    {
      "cell_type": "markdown",
      "source": [
        "**TRY IT** Compute a single Newton step to get an improved approximation of the root of the function f(x) = x$^{3}$ + 3x$^{2}$ - 2x -5 and an initial guess, x$_{0}$ = 0.29."
      ],
      "metadata": {
        "id": "F2lpj487en1-"
      }
    },
    {
      "cell_type": "code",
      "source": [
        "x0 = 0.29\n",
        "x1 = x0-(x0**3 + 3*x0**2 - 2*x0 -5)/(3*x0**2 + 6*x0 - 2)\n",
        "print(\"x1 =\", x1)"
      ],
      "metadata": {
        "colab": {
          "base_uri": "https://localhost:8080/"
        },
        "id": "y3eScicTfGjT",
        "outputId": "86fa270b-a241-454e-f43d-13f46e6f2256"
      },
      "execution_count": null,
      "outputs": [
        {
          "output_type": "stream",
          "name": "stdout",
          "text": [
            "x1 = -688.4516883116648\n"
          ]
        }
      ]
    },
    {
      "cell_type": "markdown",
      "source": [
        "#**19.5: Root Finding in Python**\n",
        "Python has the existing root-finding functions for us to use to make things easy. The function we will use to find the root is f_solve from the scipy.optimize.\n",
        "\n",
        "The f_solve function takes in many arguments but the most important two is the function you want to find the root, and the initial guess.\n",
        "\n",
        "**TRY IT** Compute the root of the function f(x) = x$^{3}$ - 100x$^{2}$ -x + 100 using *f_solve*."
      ],
      "metadata": {
        "id": "ucR12MEXfafv"
      }
    },
    {
      "cell_type": "code",
      "source": [
        "from scipy.optimize import fsolve"
      ],
      "metadata": {
        "id": "W9cw1hB1f7Qc"
      },
      "execution_count": null,
      "outputs": []
    },
    {
      "cell_type": "code",
      "source": [
        "f = lambda x: x**3 - 100*x**2 -x+100\n",
        "\n",
        "fsolve(f, [2,80])"
      ],
      "metadata": {
        "colab": {
          "base_uri": "https://localhost:8080/"
        },
        "id": "vknAb1yzf-Qe",
        "outputId": "e93cf8f7-bbd8-4988-96a3-f9ae6e4a0f76"
      },
      "execution_count": null,
      "outputs": [
        {
          "output_type": "execute_result",
          "data": {
            "text/plain": [
              "array([  1., 100.])"
            ]
          },
          "metadata": {},
          "execution_count": 20
        }
      ]
    }
  ]
}