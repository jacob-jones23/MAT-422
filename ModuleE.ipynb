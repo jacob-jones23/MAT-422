{
  "nbformat": 4,
  "nbformat_minor": 0,
  "metadata": {
    "colab": {
      "provenance": [],
      "authorship_tag": "ABX9TyNosXVNKEFAVPzOeuBTEVnT",
      "include_colab_link": true
    },
    "kernelspec": {
      "name": "python3",
      "display_name": "Python 3"
    },
    "language_info": {
      "name": "python"
    }
  },
  "cells": [
    {
      "cell_type": "markdown",
      "metadata": {
        "id": "view-in-github",
        "colab_type": "text"
      },
      "source": [
        "<a href=\"https://colab.research.google.com/github/jacob-jones23/MAT-422/blob/main/ModuleE.ipynb\" target=\"_parent\"><img src=\"https://colab.research.google.com/assets/colab-badge.svg\" alt=\"Open In Colab\"/></a>"
      ]
    },
    {
      "cell_type": "markdown",
      "source": [
        "#**Module E**\n",
        "\n",
        "##**3.2 Continuity and Differentiation**\n",
        "\n",
        "###**3.2.1 Limits and Continuity**\n",
        "Limits are essential to calculus and mathematical analysis, and are used to define continuity, derivatives, and integrals. In this chapter, we will use the Euclidean norm ||$\\mathbf{x}$|| = $\\sqrt{∑_{i=1}^{d}x_i^2}$ for $\\mathbf{x}$ = (x$_{1}$,...x$_{d}$)$^{T}$ ∈ ℝ$^{d}$. The open r-ball around $\\mathbf{x}$ ∈ ℝ$^{d}$ is the set of points with Euclidean distance r of $\\mathbf{x}$, that is,\n",
        "\\begin{align}\n",
        "B_r(\\mathbf{x}) = \\{{\\mathbf{y} ∈ ℝ^d : ||\\mathbf{y-x}|| < r}\\}\n",
        "\\end{align}\n",
        "\n",
        "A point $\\mathbf{x}$ ∈ ℝ$^{d}$ is a limit point of a set A ⊆ ℝ$^{d}$ if every open ball around $\\mathbf{x}$ contains an element of $\\mathbf{a}$ of A such that $\\mathbf{a}$ $\\ne$ $\\mathbf{x}$.\n",
        "\n",
        "**Definition 3.2.1 (Limits of a function)**: Let f : D → ℝ be a real-valued function on D ⊆ ℝ$^{d}$. Then f is said to have a limit L ∈ℝ as $\\mathbf{x}$ approaches $\\mathbf{a}$ if: for any ϵ > 0, there exists a δ > 0 such that |f($\\mathbf{x}$) - L| < ϵ for all $\\mathbf{x}$ ∈ D ∩ B$_{δ}$($\\mathbf{a}$) \\ {$\\mathbf{a}$}. This is written as\n",
        "\\begin{align}\n",
        "\\lim_{\\mathbf{x→a}}f(\\mathbf{x})=L.\n",
        "\\end{align}\n",
        "\n",
        "**Definition 3.2.2 (Continuous function)**: Let f: D → ℝ be a real-valued function on D ⊆ ℝ$^{d}$. Then f is said to be continuous at $\\mathbf{a}$ ∈ D if\n",
        "\\begin{align}\n",
        "\\lim_{\\mathbf{x→a}}f(\\mathbf{x}) = f(\\mathbf{a}).\n",
        "\\end{align}\n",
        "\n",
        "**Lemma 3.2.3 (Composition of Continuous Functions)**: Let $\\mathbf{f}$ : D$_{1}$ → ℝ$^{m}$, where D$_{1}$ ⊆ ℝ$^{d}$, and let $\\mathbf{g}$ : D$_{2}$ → ℝ$^{p}$, where D$_{2}$ ⊆ ℝ$^{m}$. Assume that $\\mathbf{f}$ is continuous at $\\mathbf{x_0}$ and that $\\mathbf{g}$ is continuous $\\mathbf{f(x_0)}$. Then g ∘ f is continuous at $\\mathbf{x_0}$."
      ],
      "metadata": {
        "id": "OpgNl6kO0h1I"
      }
    },
    {
      "cell_type": "code",
      "source": [
        "# Function to combine two\n",
        "def composite_function(f, g):\n",
        "  return lambda x : f(g(x))\n",
        "\n",
        "# Function to add 2\n",
        "def add(x):\n",
        "  return x + 2\n",
        "\n",
        "# Function to multiply 2\n",
        "def multiply(x):\n",
        "  return x*2\n",
        "\n",
        "# Composite function returns a lambda function\n",
        "add_multiply = composite_function(multiply, add)\n",
        "\n",
        "print(\"Adding 2 to 5 and multiply the result with 2: \", add_multiply(5))"
      ],
      "metadata": {
        "colab": {
          "base_uri": "https://localhost:8080/"
        },
        "id": "cIlhm9nY6m10",
        "outputId": "6d4d97d9-de34-4245-e4c7-7955073abd8e"
      },
      "execution_count": null,
      "outputs": [
        {
          "output_type": "stream",
          "name": "stdout",
          "text": [
            "Adding 2 to 5 and multiply the result with 2:  14\n"
          ]
        }
      ]
    },
    {
      "cell_type": "markdown",
      "source": [
        "**Definition 3.2.4 (Extremum)**: Suppose f : D → ℝ is defined on a set D ⊆ ℝ$^{d}$. We say that f attains a maximum value M at $\\mathbf{z}$* if f($\\mathbf{z}$*) = M and M ≥ f($\\mathbf{x}$) for all $\\mathbf{x}$ ∈ D. Similarly, we say f attains a minimum value m at $\\mathbf{z_*}$ if f($\\mathbf{z_*}$) = m and m ≤ f($\\mathbf{x}$) for all $\\mathbf{x}$ ∈ D.\n",
        "\n",
        "**Theorem 3.2.5 (Extreme Value)**: Let f : D → ℝ be a real-valued, continuous function on a nonempty, closed, bounded set D ⊆ ℝ$^{d}$. The f attains a maximum and a minimum on D."
      ],
      "metadata": {
        "id": "eCZyIkgS6shE"
      }
    },
    {
      "cell_type": "markdown",
      "source": [
        "###**3.2.2 Derivatives**\n",
        "\n",
        "####**3.2.2.1 Single-Variable Case**\n",
        "**Definition 3.2.6 (Derivative)**: Let f : D → ℝ where D ⊆ ℝ and let x$_{0}$ ∈ D be an interior point of D. The derivative of f at x$_{0}$ is\n",
        "\\begin{align}\n",
        "f'(x_0) = \\frac{df(x_0)}{dx} = \\lim_{h→0}\\frac{f(x_0 + h) - f(x_0)}{h},\n",
        "\\end{align}\n",
        "provided the limit exists."
      ],
      "metadata": {
        "id": "BZQvGkRL7qnE"
      }
    },
    {
      "cell_type": "code",
      "source": [
        "import sympy as sp\n",
        "x = sp.Symbol('x')\n",
        "f = sp.sin(x) + x**2 + sp.exp(4*x)\n",
        "print(f)\n",
        "df = sp.diff(f, x)\n",
        "print(df)\n",
        "ddf = sp.diff(f, x, 2)\n",
        "print(ddf)"
      ],
      "metadata": {
        "colab": {
          "base_uri": "https://localhost:8080/"
        },
        "id": "iIKQOoeI8eVZ",
        "outputId": "101064c7-1f8c-4fe3-b616-a94f0305e577"
      },
      "execution_count": null,
      "outputs": [
        {
          "output_type": "stream",
          "name": "stdout",
          "text": [
            "x**2 + exp(4*x) + sin(x)\n",
            "2*x + 4*exp(4*x) + cos(x)\n",
            "16*exp(4*x) - sin(x) + 2\n"
          ]
        }
      ]
    },
    {
      "cell_type": "markdown",
      "source": [
        "**Proposition 3.2.7** Let f and g have derivatives at x and let α and β be constants. The following results hold\n",
        "\\begin{align}\n",
        "[αf(x) + βg(x)]' = αf'(x) + βg'(x).\n",
        "\\end{align}\n",
        "\n",
        "**Lemma 3.2.8** Let *f* : *D* → ℝ with *D* ⊆ ℝ and let *x$_{0}$ ∈ *D* be an interior point of *D* where f'(x$_{0}$) exists. If *f'(x$_{0}$)* > 0, then there is an open ball *B$_{δ}$(x$_{0}$)* ⊆ *D* around *x$_{0}$* such that for each *x* in *B$_{δ}$(x$_{0}$)*\n",
        "  \n",
        "  (a) f(x) > f(x$_{0}$) if x > x$_{0}$\n",
        "  \n",
        "  (b) f(x) < f(x$_{0}$) if x < x$_{0}$\n",
        "  \n",
        "If instead *f*'(x$_{0}$) < 0, the opposite holds.\n",
        "\n",
        "**Theorem 3.2.9 (Rolle)** Let *f*:[a,b] → ℝ be a continuous function and assume that its derivative exists on (*a,b*). If *f(a)* = *f(b)*, then there is *a* < *c* < *b* such that *f'(c)* = 0."
      ],
      "metadata": {
        "id": "9WpiZQKJ8onb"
      }
    },
    {
      "cell_type": "code",
      "source": [
        "from sympy import *\n",
        "from random import randrange\n",
        "import cmath\n",
        "x,y,z = symbols('x y z')\n",
        "init_printing(use_unicode = True)\n",
        "flagcontinuity = False\n",
        "flagdifferentiability = False\n",
        "flagequality = False\n",
        "def h(x):\n",
        "  expr = x**3-4*x\n",
        "  return expr\n",
        "print(h(x))\n",
        "plot(h(x),(x,-2,2))"
      ],
      "metadata": {
        "colab": {
          "base_uri": "https://localhost:8080/",
          "height": 521
        },
        "id": "-fY6MpTg9nEd",
        "outputId": "e0446a20-c5dc-4288-91a3-4112d75e6c59"
      },
      "execution_count": null,
      "outputs": [
        {
          "output_type": "stream",
          "name": "stdout",
          "text": [
            "x**3 - 4*x\n"
          ]
        },
        {
          "output_type": "display_data",
          "data": {
            "text/plain": [
              "<Figure size 640x480 with 1 Axes>"
            ],
            "image/png": "[encoded data removed]"
          },
          "metadata": {}
        },
        {
          "output_type": "execute_result",
          "data": {
            "text/plain": [
              "<sympy.plotting.plot.Plot at 0x7add3929d0f0>"
            ]
          },
          "metadata": {},
          "execution_count": 3
        }
      ]
    },
    {
      "cell_type": "code",
      "source": [
        "for i in range(0,1):\n",
        "  j = randrange(-2,2)\n",
        "  difflnhd = diff(limit(h(x),x,j,'+'))\n",
        "  diffrnhd = diff(limit(h(x),x,j,'-'))\n",
        "print(difflnhd)\n",
        "print(diffrnhd)\n",
        "if (difflnhd==diffrnhd):\n",
        "  print('function is differentiable')\n",
        "else:\n",
        "  print('function is not differentiable')\n",
        "  flagdifferentiability=True"
      ],
      "metadata": {
        "colab": {
          "base_uri": "https://localhost:8080/"
        },
        "id": "5DdYxwfR9xMA",
        "outputId": "d44158b3-a5ab-43fa-e7d2-329dc9c943cc"
      },
      "execution_count": null,
      "outputs": [
        {
          "output_type": "stream",
          "name": "stdout",
          "text": [
            "0\n",
            "0\n",
            "function is differentiable\n"
          ]
        }
      ]
    },
    {
      "cell_type": "code",
      "source": [
        "r1 = h(-2)\n",
        "r2 = h(2)\n",
        "if (r1==r2):\n",
        "  print('f(a)=f(b)')\n",
        "else:\n",
        "  print('f(a) != f(b)')\n",
        "  flagequality=True"
      ],
      "metadata": {
        "colab": {
          "base_uri": "https://localhost:8080/"
        },
        "id": "JT839kId96cN",
        "outputId": "52110613-8e29-4734-c616-e45d6160982b"
      },
      "execution_count": null,
      "outputs": [
        {
          "output_type": "stream",
          "name": "stdout",
          "text": [
            "f(a)=f(b)\n"
          ]
        }
      ]
    },
    {
      "cell_type": "code",
      "source": [
        "if (flagcontinuity==True) or (flagdifferentiability==True) or (flagequality==True):\n",
        "  print('all conditions of rolles theorem is not satisfied')\n",
        "else:\n",
        "  print('all conditions of rolles theorem is satisfied')\n",
        "d1=diff(h(x),x)\n",
        "print('derivative of h(x) is', d1)\n",
        "print('There exist some constant c')\n",
        "a = int(input())\n",
        "b = int(input())\n",
        "c = int(input())\n",
        "disc = b**2-4*a*c\n",
        "root1 = b+cmath.sqrt(disc)/(2*a)\n",
        "root2 = b-cmath.sqrt(disc)/(2*a)\n",
        "print('The derivative of equation are {0} and {1}'.format(root1,root2), 'where derivative is zero')\n",
        "plot(h(x), (x,-2,2),root1,root2)"
      ],
      "metadata": {
        "colab": {
          "base_uri": "https://localhost:8080/",
          "height": 646
        },
        "id": "ejVr1aC_9-zy",
        "outputId": "1cdab1ea-c32e-424a-8bc3-41d9367fd2d5"
      },
      "execution_count": null,
      "outputs": [
        {
          "output_type": "stream",
          "name": "stdout",
          "text": [
            "all conditions of rolles theorem is satisfied\n",
            "derivative of h(x) is 3*x**2 - 4\n",
            "There exist some constant c\n",
            "4\n",
            "5\n",
            "6\n",
            "The derivative of equation are (5+1.0532687216470449j) and (5-1.0532687216470449j) where derivative is zero\n"
          ]
        },
        {
          "output_type": "display_data",
          "data": {
            "text/plain": [
              "<Figure size 640x480 with 1 Axes>"
            ],
            "image/png": "[encoded data removed]"
          },
          "metadata": {}
        },
        {
          "output_type": "execute_result",
          "data": {
            "text/plain": [
              "<sympy.plotting.plot.Plot at 0x7add39f86860>"
            ]
          },
          "metadata": {},
          "execution_count": 6
        }
      ]
    },
    {
      "cell_type": "markdown",
      "source": [
        "**Theorem 3.2.10 (Mean Value): Let f : [a,b] → ℝ be a continuous function and assume that its derivative exists on (a,b). Then there is a < c < b such that\n",
        "\\begin{align}\n",
        "f(b) = f(a) + (b-a)f'(c)\n",
        "\\end{align}\n",
        "or put differently\n",
        "\\begin{align}\n",
        "\\frac{f(b)-f(a)}{b-a}=f'(c).\n",
        "\\end{align}"
      ],
      "metadata": {
        "id": "Bs3LdxQXu8iS"
      }
    },
    {
      "cell_type": "code",
      "source": [
        "from mpmath import*\n",
        "from sympy import*\n",
        "import random\n",
        "import cmath\n",
        "x,y,z,a,b,c = symbols('x y z a b c')\n",
        "init_printing(use_unicode=True)\n",
        "flagcontinuity = False\n",
        "flagdifferentiability = False\n",
        "def h(x):\n",
        "  expr=x*(x-1)*(x-2)\n",
        "  return expr\n",
        "print(h(x))\n",
        "print('generating graph of equation')\n",
        "plot(h(x),(x,0,1/2))"
      ],
      "metadata": {
        "colab": {
          "base_uri": "https://localhost:8080/",
          "height": 536
        },
        "id": "UOSZBJSXvcaW",
        "outputId": "016c8087-f702-487d-d109-b9b25436135c"
      },
      "execution_count": 1,
      "outputs": [
        {
          "output_type": "stream",
          "name": "stdout",
          "text": [
            "x*(x - 2)*(x - 1)\n",
            "generating graph of equation\n"
          ]
        },
        {
          "output_type": "display_data",
          "data": {
            "text/plain": [
              "<Figure size 640x480 with 1 Axes>"
            ],
            "image/png": "[encoded data removed]"
          },
          "metadata": {}
        },
        {
          "output_type": "execute_result",
          "data": {
            "text/plain": [
              "<sympy.plotting.plot.Plot at 0x7e5ba081c8b0>"
            ]
          },
          "metadata": {},
          "execution_count": 1
        }
      ]
    },
    {
      "cell_type": "code",
      "source": [
        "# Checking first condition of theorem\n",
        "lnhdlimit_pos = limit(h(x),x,0,'+')\n",
        "lnhdlimit_neg = limit(h(x),x,0,'-')\n",
        "print(lnhdlimit_pos)\n",
        "print(lnhdlimit_neg)\n",
        "rnhdlimit_pos = limit(h(x),x,1/2,'+')\n",
        "rnhdlimit_neg = limit(h(x),x,1/2,'-')\n",
        "print(rnhdlimit_pos)\n",
        "print(rnhdlimit_neg)\n",
        "if (lnhdlimit_pos==lnhdlimit_neg) and (lnhdlimit_neg==h(0)) and (rnhdlimit_pos==rnhdlimit_neg) and (rnhdlimit_neg==h(1/2)):\n",
        "  print('function is continuous')\n",
        "else:\n",
        "  print('function is discontinuous')\n",
        "  flagcontinuity=True\n"
      ],
      "metadata": {
        "colab": {
          "base_uri": "https://localhost:8080/"
        },
        "id": "9q1K7cTvvqEM",
        "outputId": "d5e99097-5946-4c5c-e36e-b46dfbe4e25a"
      },
      "execution_count": 6,
      "outputs": [
        {
          "output_type": "stream",
          "name": "stdout",
          "text": [
            "0\n",
            "0\n",
            "0.375000000000000\n",
            "0.375000000000000\n",
            "function is continuous\n"
          ]
        }
      ]
    },
    {
      "cell_type": "code",
      "source": [
        "for i in range(0,1):\n",
        "  j = random.uniform(0,1/2)\n",
        "  difflnhd = diff(limit(h(x),x,j,'+'))\n",
        "  diffrnhd = diff(limit(h(x),x,j,'-'))\n",
        "print(difflnhd)\n",
        "print(diffrnhd)\n",
        "if (difflnhd==diffrnhd):\n",
        "  print('function is differentiable')\n",
        "else:\n",
        "  print('function is not differentiable')\n",
        "  flagdifferentiability=True"
      ],
      "metadata": {
        "colab": {
          "base_uri": "https://localhost:8080/"
        },
        "id": "twhbQffDwIvg",
        "outputId": "d23efa16-616c-4b1b-ee86-fc52cc14ef7c"
      },
      "execution_count": 7,
      "outputs": [
        {
          "output_type": "stream",
          "name": "stdout",
          "text": [
            "0\n",
            "0\n",
            "function is differentiable\n"
          ]
        }
      ]
    },
    {
      "cell_type": "code",
      "source": [
        "if (flagcontinuity==True) or (flagdifferentiability==True):\n",
        "  print('Lgrange Theorem is not applicable')\n",
        "else:\n",
        "  print('Larange Theorem is applicable')\n",
        "d2 = diff(h(x),x)\n",
        "print('derivative of h(x) is', d2)\n",
        "print('There exist some constant c')\n",
        "a = float(int(input()))\n",
        "b = float(int(input()))\n",
        "ratio = (h(b)-h(a))/(b-1)\n",
        "print(ratio)\n",
        "rd=round(ratio,2)\n",
        "print('Round value of ratio at two decimal points', rd)\n",
        "print(diff(h(c),c),'=',rd)\n",
        "z = diff(h(c),c)\n",
        "simplify(diff(h(c),c))\n",
        "print(solve((c*(c-2)+c*(c-1)+(c-2)*(c-1)-rd),c))\n",
        "ar=solve((c*(c-2)+c*(c-1)+(c-2)*(c-1)-rd),c)\n",
        "print('value of c is', ar)\n",
        "print('It lies between a and b', a,b)\n",
        "plot(h(x),(x,0,1/2),ar[0],ar[1])"
      ],
      "metadata": {
        "colab": {
          "base_uri": "https://localhost:8080/",
          "height": 695
        },
        "id": "XKPqjL4IwLYP",
        "outputId": "e8de1be8-4473-4b07-d65b-603375f95cc8"
      },
      "execution_count": 8,
      "outputs": [
        {
          "output_type": "stream",
          "name": "stdout",
          "text": [
            "Larange Theorem is applicable\n",
            "derivative of h(x) is x*(x - 2) + x*(x - 1) + (x - 2)*(x - 1)\n",
            "There exist some constant c\n",
            "5\n",
            "2\n",
            "-60.0\n",
            "Round value of ratio at two decimal points -60.0\n",
            "c*(c - 2) + c*(c - 1) + (c - 2)*(c - 1) = -60.0\n",
            "[1.0 - 4.43471156521669*I, 1.0 + 4.43471156521669*I]\n",
            "value of c is [1.0 - 4.43471156521669*I, 1.0 + 4.43471156521669*I]\n",
            "It lies between a and b 5.0 2.0\n"
          ]
        },
        {
          "output_type": "display_data",
          "data": {
            "text/plain": [
              "<Figure size 640x480 with 1 Axes>"
            ],
            "image/png": "[encoded data removed]"
          },
          "metadata": {}
        },
        {
          "output_type": "execute_result",
          "data": {
            "text/plain": [
              "<sympy.plotting.plot.Plot at 0x7e5b6d0d5870>"
            ]
          },
          "metadata": {},
          "execution_count": 8
        }
      ]
    },
    {
      "cell_type": "markdown",
      "source": [
        "####**3.2.2.2 General Case**\n",
        "Many functions in data science involves several independent variables. For functions of several variables, we have the following generalization. As before, we let $\\mathbf{e_i}$ ∈ ℝ$^{d}$ be the i-th standard basis vector.\n",
        "\n",
        "**Definition 3.2.11 (Partial Derivative)**: Let f : D → ℝ where D ⊆ ℝ$^{d}$ and let $\\mathbf{x_0}$ ∈ D be an interior point of D. The partial derivative of f at $\\mathbf{x_0}$ with respect to x$_{i}$ is\n",
        "\\begin{align}\n",
        "\\frac{∂f(\\mathbf{x_0})}{∂x_i}= \\lim_{h→0}\\frac{f(\\mathbf{x_0}+h\\mathbf{e_i})}{h},\n",
        "\\end{align}\n",
        "\n",
        "provided the limit exists. If $\\frac{∂f(\\mathbf{x_0})}{∂x_i}$ exists and is continuous in an open ball around $\\mathbf{x_0}$ for all i, then we say that f continuously differentiable at $\\mathbf{x_0}$.\n"
      ],
      "metadata": {
        "id": "LMdcVujvwOgL"
      }
    },
    {
      "cell_type": "code",
      "source": [
        "from sympy import Symbol, Derivative\n",
        "x = Symbol('x')\n",
        "y = Symbol('y')\n",
        "function = x**2 * y**3 + 12*y**4\n",
        "\n",
        "partialderiv = Derivative(function,y)\n",
        "partialderiv.doit()"
      ],
      "metadata": {
        "colab": {
          "base_uri": "https://localhost:8080/",
          "height": 39
        },
        "id": "roaM2ezCyQyt",
        "outputId": "aeb5cc39-2cf8-4412-e89a-aa58c9b44852"
      },
      "execution_count": 9,
      "outputs": [
        {
          "output_type": "execute_result",
          "data": {
            "text/plain": [
              "   2  2       3\n",
              "3⋅x ⋅y  + 48⋅y "
            ],
            "text/latex": "$\\displaystyle 3 x^{2} y^{2} + 48 y^{3}$"
          },
          "metadata": {},
          "execution_count": 9
        }
      ]
    },
    {
      "cell_type": "markdown",
      "source": [
        "**Definition 3.2.12 (Jacobian)**: Let $\\mathbf{f}$ = $(f_1,...,f_m)$ : D → ℝ$^{m}$ where D ⊆ ℝ$^{d}$ and let $\\mathbf{x_0}$ ∈ D be an interior point of D where $\\frac{∂f_j(\\mathbf{x_0})}{∂_{x_i}}$ exists for all i, j. The Jacobian of $\\mathbf{f}$ at $\\mathbf{x_0}$ is the d × m matrix\n",
        "\\begin{align}\n",
        "\\mathbf{J_f(x_0)} =\n",
        "\\begin{pmatrix}\n",
        "\\frac{∂f_1(\\mathbf{x}_0)}{∂x_{1}} & ... & \\frac{∂f_1(\\mathbf{x}_0)}{∂x_{d}} \\\\\n",
        "⋯ & ⋯ & ⋯ \\\\\n",
        "\\frac{∂f_m(\\mathbf{x}_0)}{∂x_{1}} & ... &\n",
        "\\frac{∂f_m(\\mathbf{x}_0)}{∂x_{d}}\n",
        "\\end{pmatrix}\n",
        "\\end{align}\n",
        "For a real-valued function *f* : *D* → ℝ, the Jacobian reduces to the row vector **J**$_{f}$(**x**$_{0}$) = ▽*f*(**x**$_{0}$)$^{T}$ where the vector\n",
        "\\begin{align}\n",
        "▽f(\\mathbf{x}_0)=\n",
        "\\begin{pmatrix}\n",
        "\\frac{∂f(\\mathbf{x}_0)}{∂x_{i}}, & ... & \\frac{∂f(\\mathbf{x}_0)}{∂x_{d}}\n",
        "\\end{pmatrix}^{T}\n",
        "\\end{align}\n",
        "is the gradient of *f* at **x**$_{0}$."
      ],
      "metadata": {
        "id": "W5Cyf9fUyyEs"
      }
    },
    {
      "cell_type": "code",
      "source": [
        "import autograd.numpy as np\n",
        "from autograd import grad, jacobian\n",
        "\n",
        "x = np.array([5,3], dtype=float)\n",
        "\n",
        "def cost(x):\n",
        "  return x[0]**2 / x[1] - np.log(x[1])\n",
        "\n",
        "gradient_cost = grad(cost)\n",
        "jacobian_cost = jacobian(cost)\n",
        "\n",
        "gradient_cost(x)\n",
        "jacobian_cost(np.array([x,x,x]))"
      ],
      "metadata": {
        "colab": {
          "base_uri": "https://localhost:8080/"
        },
        "id": "8t5BuufQ0JNn",
        "outputId": "ac7b7df1-2292-4eaa-d534-404c0b1eb4b5"
      },
      "execution_count": 10,
      "outputs": [
        {
          "output_type": "execute_result",
          "data": {
            "text/plain": [
              "array([[[ 2.        ,  0.        ],\n",
              "        [-1.2       ,  0.        ],\n",
              "        [ 0.        ,  0.        ]],\n",
              "\n",
              "       [[ 0.        ,  2.        ],\n",
              "        [ 0.        , -1.33333333],\n",
              "        [ 0.        ,  0.        ]]])"
            ]
          },
          "metadata": {},
          "execution_count": 10
        }
      ]
    },
    {
      "cell_type": "code",
      "source": [
        "from sympy import sin, cos, Matrix\n",
        "from sympy.abc import rho, phi\n",
        "\n",
        "X = Matrix([rho*cos(phi), rho*sin(phi), rho**2])\n",
        "Y = Matrix([rho, phi])\n",
        "\n",
        "X.jacobian(Y)"
      ],
      "metadata": {
        "colab": {
          "base_uri": "https://localhost:8080/",
          "height": 78
        },
        "id": "7dz4sT-10Kg2",
        "outputId": "91f85a1d-8d9e-4db5-807e-ef91d636351f"
      },
      "execution_count": 11,
      "outputs": [
        {
          "output_type": "execute_result",
          "data": {
            "text/plain": [
              "⎡cos(φ)  -ρ⋅sin(φ)⎤\n",
              "⎢                 ⎥\n",
              "⎢sin(φ)  ρ⋅cos(φ) ⎥\n",
              "⎢                 ⎥\n",
              "⎣ 2⋅ρ        0    ⎦"
            ],
            "text/latex": "$\\displaystyle \\left[\\begin{matrix}\\cos{\\left(\\phi \\right)} & - \\rho \\sin{\\left(\\phi \\right)}\\\\\\sin{\\left(\\phi \\right)} & \\rho \\cos{\\left(\\phi \\right)}\\\\2 \\rho & 0\\end{matrix}\\right]$"
          },
          "metadata": {},
          "execution_count": 11
        }
      ]
    },
    {
      "cell_type": "markdown",
      "source": [
        "**Theorem 3.2.15 (Chain Rule)** Let **f**: *D$_{1}$* → ℝ$^{m}$, where *D$_{1}$* ⊆ ℝ$^{d}$ and let **g**: *D$_{2}$* → ℝ$^{p}$, where *D$_{2}$* ⊆ ℝ$^{m}$. Assume that **f** is continuously differentiable at **x**$_{0}$, an interior point of *D*$_{1}$, and that **g** is continuously differentiable at **f(x$_{0}$)**, an interior point of *D$_{2}$*. Then\n",
        "\\begin{align}\n",
        "\\mathbf{J_{g∘f}(x_0)} = \\mathbf{J_{g}(f(x_{0}))J_{f}(x_0)}\n",
        "\\end{align}\n",
        "as a product of matrices."
      ],
      "metadata": {
        "id": "uZQ4bS4-0Rsw"
      }
    },
    {
      "cell_type": "markdown",
      "source": [
        "####**3.2.2.3 Further Derivative**\n",
        "\n",
        "**Definition 3.2.16 (Directional Derivative)** Let *f* : *D* → ℝ$^{d}$, let **x**$_{0}$ ∈ *D* be an interior point of *D* and let **v** ∈ ℝ$^{d}$ be a unit vector. The directional derivative of *f* at **x**$_{0}$ in the direction **v** is\n",
        "\n",
        "\\begin{align}\n",
        "\\frac{∂f(x_0)} {∂e_i} = \\lim_{h→0} \\frac{f(\\mathbf{x_0}+h\\mathbf{e_i})-f(x_0)} {h} = \\frac{∂f(\\mathbf{x}_0)}{∂x_i}\n",
        "\\end{align}\n",
        "\n",
        "Conversely, a general directional derivative can be expressed in terms of the partial derivatives.\n",
        "\n",
        "**Theorem 3.2.17 (Directional Derivative from Gradient)** Let *f* : *D* → ℝ where *D* ⊆ ℝ$^{d}$, let **x**$_{0}$ ∈ *D* be an interior point of *D* and let **v** ∈ ℝ$^{d}$ be a unit vector. Assume that *f* is continuously differentiable at **x**$_{0}$. Then the directional derivative of *f* at **x**$_{0}$ in the direction **v** is given by\n",
        "\\begin{align}\n",
        "\\frac{∂f(\\mathbf{x_0})}{∂\\mathbf{v}} = \\mathbf{J}_f(\\mathbf{x}_0)\\mathbf{v} = ▽f(\\mathbf{x}_{0})^{T}\\mathbf{v}.\n",
        "\\end{align}\n",
        "\n",
        "**Definition 3.2.18 (Second Partial Derivatives and Hessian)** Let *f* : *D* → ℝ where *D* ⊆ ℝ$^{d}$ and let **x**$_{0}$ ∈ *D* be an interior point of *D*. Assume that *f* is continuously differentiable in an open ball around **x**$_{0}$. The ∂f(**x**)/∂x$_{i}$ is itself a function of **x** and its partial derivative with respect to *x*$_{j}$, if it exists, is denoted by\n",
        "\\begin{align}\n",
        "\\frac{∂^{2}f(\\mathbf{x_0})}{∂x_{j}∂x_{i}} = \\lim_{h→0} \\frac{∂f(\\mathbf{x_0}+h\\mathbf{e_j})/∂x_{i}-\\partial f(x_0)/∂x_i} {h}\n",
        "\\end{align}\n",
        "\n",
        "**Theorem 3.2.19 (Symmetry of the Hessian)** Let *f* : *D* → ℝ where *D* ⊆ ℝ$^{d}$ and let **x**$_{0}$ ∈ *D* be an interior point of *D*. Assume that *f* is twice continuously differentiable at **x**$_{0}$. Then for all i != j,\n",
        "\\begin{align}\n",
        "\\frac{∂^{2}f(\\mathbf{x_0})}{∂x_{j}∂x_{i}}  = \\frac{∂^{2}f(\\mathbf{x_0})}{∂x_{i}∂x_{j}}.\n",
        "\\end{align}"
      ],
      "metadata": {
        "id": "kXaWvRBz0WZi"
      }
    },
    {
      "cell_type": "markdown",
      "source": [
        "###**3.2.3 Taylor's Theorem**\n",
        "**Theorem 3.2.21 (Taylor)** Let *f* : *D* → ℝ where *D* ⊆ ℝ. Suppose *f* has a *m* times continuous derivative on [a,b]. Then\n",
        "\\begin{align}\n",
        "f(b) = f(a) + (b-a)f'(a) + \\frac{1}{2}(b-a)^{2}f''(a)+...+\\frac{(b-a)^{m-1}}{(m-1)!}f^{(m-1)}(a) + R_m,\n",
        "\\end{align}\n",
        "\n",
        "where *R$_{m}$* = $\\frac{(b-a)^{m}}{(m)!}$*f*$^{(m)}$(a+θ (b-a)) for some 0 < θ  < 1. In particular, for *m* = 2, we have\n",
        "\\begin{align}\n",
        "f(b)=f(a)+(b-a)f'(a)+\\frac{1}{2}(b-a)^2f''(ξ )\n",
        "\\end{align}\n",
        "for some *a* < ξ  < *b*\n",
        "\n",
        "**Theorem 3.2.22 (Multivariate Mean Value)** Let *f* : *D* → ℝ where *D* ⊆ ℝ$^{d}$. Let **x**$_{0}$ ∈ *D* and δ > 0 be such that *B*$_{δ}$(**x**$_{0}$) ⊆ *D*. If *f* is continuously differentiable on *B*$_{δ}$(**x**$_{0}$), then for any **x** ∈ *B*$_{δ}$(**x**$_{0}$)\n",
        "\\begin{align}\n",
        "f(\\mathbf{x}) = f(\\mathbf{x}_0)+ ∇f(\\mathbf{x}_0+ ξ\\mathbf{p})^{T}\\mathbf{p}\n",
        "\\end{align}\n",
        "for some ξ ∈ (0,1), where **p** = **x** - **x**$_{0}$\n",
        "\n",
        "**Theorem 3.2.23 (Multivariate Taylor)** Let *f* : *D* → ℝ where *D* ⊆ ℝ$^{d}$. Let **x**$_{0}$ ∈ *D* and δ > 0 be such that *B*$_{δ}$(**x**$_{0}$) ⊆ *D*. If *f* is three times continuously differentiable on *B*$_{δ}$(**x**$_{0}$), then for any **x** ∈ *B*$_{δ}$(**x**$_{0}$)\n",
        "\\begin{align}\n",
        "f(\\mathbf{x}) = f(\\mathbf{x}_0) + ∇f(\\mathbf{x}_0)^{T}\\mathbf{p} + \\frac{1}{2}\\mathbf{p}^{T}\\mathbf{H}_f(\\mathbf{x}_0)\\mathbf{p}+O(||\\mathbf{p}||^3),\n",
        "\\end{align}\n",
        "where **p** = **x** - **x**$_{0}$\n",
        "\n",
        "\n",
        "If *f* is twice continuously differentiable on *B*$_{δ}$(**x**$_{0}$), then for any **x** ∈ *B*$_{δ}$(**x**$_{0}$)\n",
        "\\begin{align}\n",
        "f(\\mathbf{x}) = f(\\mathbf{x}_0) + ∇f(\\mathbf{x}_0)^{T}\\mathbf{p} + \\frac{1}{2}\\mathbf{p}^{T}\\mathbf{H}_f(\\mathbf{x}_0+ξ\\mathbf{p})\\mathbf{p}\n",
        "\\end{align}\n",
        "for some ξ ∈ (0,1), where **p** = **x** - **x**$_{0}$"
      ],
      "metadata": {
        "id": "sYw8cwRw5m7Y"
      }
    },
    {
      "cell_type": "code",
      "source": [],
      "metadata": {
        "id": "P6l2iWkT5rzG"
      },
      "execution_count": null,
      "outputs": []
    },
    {
      "cell_type": "code",
      "source": [
        "import sympy as sy\n",
        "from sympy.matrices import *\n",
        "x, t, a, h, k = sy.symbols('x t a h k')\n",
        "x0, t0 = sy.symbols('x_0, t_0')\n",
        "\n",
        "v = sy.Function('v')(x, t)\n",
        "X = Matrix([x,t])\n",
        "dX = Matrix([h,k])\n",
        "sy.init_printing()"
      ],
      "metadata": {
        "id": "IQGNJhIt5uL9"
      },
      "execution_count": 20,
      "outputs": []
    },
    {
      "cell_type": "code",
      "source": [
        "dX"
      ],
      "metadata": {
        "colab": {
          "base_uri": "https://localhost:8080/",
          "height": 58
        },
        "id": "fDl0lvbj5vm6",
        "outputId": "3576ce55-63aa-4427-89ac-39ab4faea94f"
      },
      "execution_count": 21,
      "outputs": [
        {
          "output_type": "execute_result",
          "data": {
            "text/plain": [
              "⎡h⎤\n",
              "⎢ ⎥\n",
              "⎣k⎦"
            ],
            "text/latex": "$\\displaystyle \\left[\\begin{matrix}h\\\\k\\end{matrix}\\right]$"
          },
          "metadata": {},
          "execution_count": 21
        }
      ]
    },
    {
      "cell_type": "code",
      "source": [
        "X"
      ],
      "metadata": {
        "colab": {
          "base_uri": "https://localhost:8080/",
          "height": 58
        },
        "id": "KjzOaMR55w_5",
        "outputId": "39234323-99b2-435a-eca0-9324f14fa5d2"
      },
      "execution_count": 22,
      "outputs": [
        {
          "output_type": "execute_result",
          "data": {
            "text/plain": [
              "⎡x⎤\n",
              "⎢ ⎥\n",
              "⎣t⎦"
            ],
            "text/latex": "$\\displaystyle \\left[\\begin{matrix}x\\\\t\\end{matrix}\\right]$"
          },
          "metadata": {},
          "execution_count": 22
        }
      ]
    },
    {
      "cell_type": "code",
      "source": [
        "TE = 0\n",
        "v0 = v\n",
        "for idx, x in enumerate(X):\n",
        "  v0 = v0.subs(x, 0)\n",
        "TE += v0\n",
        "TE"
      ],
      "metadata": {
        "colab": {
          "base_uri": "https://localhost:8080/",
          "height": 39
        },
        "id": "KIW2JUbH5xtu",
        "outputId": "9519f5b8-b057-4965-90d9-8679787ee1a8"
      },
      "execution_count": 23,
      "outputs": [
        {
          "output_type": "execute_result",
          "data": {
            "text/plain": [
              "v(0, 0)"
            ],
            "text/latex": "$\\displaystyle v{\\left(0,0 \\right)}$"
          },
          "metadata": {},
          "execution_count": 23
        }
      ]
    },
    {
      "cell_type": "code",
      "source": [
        "# The first order term\n",
        "gradV = Matrix([v.diff(xi,1) for xi in X])\n",
        "gradV"
      ],
      "metadata": {
        "colab": {
          "base_uri": "https://localhost:8080/",
          "height": 59
        },
        "id": "IYj0Oip050S0",
        "outputId": "7342c00a-7958-4b14-f233-7dab2ac5b5b5"
      },
      "execution_count": 24,
      "outputs": [
        {
          "output_type": "execute_result",
          "data": {
            "text/plain": [
              "⎡∂          ⎤\n",
              "⎢──(v(x, t))⎥\n",
              "⎢∂x         ⎥\n",
              "⎢           ⎥\n",
              "⎢∂          ⎥\n",
              "⎢──(v(x, t))⎥\n",
              "⎣∂t         ⎦"
            ],
            "text/latex": "$\\displaystyle \\left[\\begin{matrix}\\frac{\\partial}{\\partial x} v{\\left(x,t \\right)}\\\\\\frac{\\partial}{\\partial t} v{\\left(x,t \\right)}\\end{matrix}\\right]$"
          },
          "metadata": {},
          "execution_count": 24
        }
      ]
    },
    {
      "cell_type": "code",
      "source": [
        "firstTerm = gradV.T*dX\n",
        "TE += sum(firstTerm)\n",
        "firstTerm[0]"
      ],
      "metadata": {
        "colab": {
          "base_uri": "https://localhost:8080/",
          "height": 52
        },
        "id": "zFGHHqER51ms",
        "outputId": "9acf3205-bf22-40f2-84b5-73f4625994c0"
      },
      "execution_count": 25,
      "outputs": [
        {
          "output_type": "execute_result",
          "data": {
            "text/plain": [
              "  ∂               ∂          \n",
              "h⋅──(v(x, t)) + k⋅──(v(x, t))\n",
              "  ∂x              ∂t         "
            ],
            "text/latex": "$\\displaystyle h \\frac{\\partial}{\\partial x} v{\\left(x,t \\right)} + k \\frac{\\partial}{\\partial t} v{\\left(x,t \\right)}$"
          },
          "metadata": {},
          "execution_count": 25
        }
      ]
    },
    {
      "cell_type": "code",
      "source": [
        "def factorial(n):\n",
        "  if n<= 0:\n",
        "    return 1\n",
        "  else:\n",
        "    return n * factorial(n-1)\n",
        "tsOrderGroup = lambda f, X, n: dX.T * Matrix([f.diff(xi,1) for xi in X]) / factorial(n)\n",
        "grad = tsOrderGroup(v, X, 1).T\n",
        "fir = grad\n",
        "sum(fir)"
      ],
      "metadata": {
        "colab": {
          "base_uri": "https://localhost:8080/",
          "height": 52
        },
        "id": "SJwwEKcp53n0",
        "outputId": "18dff93c-3bd9-46ff-8f56-2d7aae436aa1"
      },
      "execution_count": 26,
      "outputs": [
        {
          "output_type": "execute_result",
          "data": {
            "text/plain": [
              "  ∂               ∂          \n",
              "h⋅──(v(x, t)) + k⋅──(v(x, t))\n",
              "  ∂x              ∂t         "
            ],
            "text/latex": "$\\displaystyle h \\frac{\\partial}{\\partial x} v{\\left(x,t \\right)} + k \\frac{\\partial}{\\partial t} v{\\left(x,t \\right)}$"
          },
          "metadata": {},
          "execution_count": 26
        }
      ]
    },
    {
      "cell_type": "code",
      "source": [
        "# The second order term\n",
        "sy.hessian(v, X)\n",
        "secondTerm = .5*dX.T*sy.hessian(v,X)*dX\n",
        "TE += sum(secondTerm)\n",
        "sy.simplify(sum(secondTerm))"
      ],
      "metadata": {
        "colab": {
          "base_uri": "https://localhost:8080/",
          "height": 54
        },
        "id": "hMTJX0Lr53ue",
        "outputId": "15ed8a6a-18e3-4ad8-9965-1dfce92ce48e"
      },
      "execution_count": 27,
      "outputs": [
        {
          "output_type": "execute_result",
          "data": {
            "text/plain": [
              "         2                       2                      2         \n",
              "     2  ∂                       ∂                   2  ∂          \n",
              "0.5⋅h ⋅───(v(x, t)) + 1.0⋅h⋅k⋅─────(v(x, t)) + 0.5⋅k ⋅───(v(x, t))\n",
              "         2                    ∂x ∂t                     2         \n",
              "       ∂x                                             ∂t          "
            ],
            "text/latex": "$\\displaystyle 0.5 h^{2} \\frac{\\partial^{2}}{\\partial x^{2}} v{\\left(x,t \\right)} + 1.0 h k \\frac{\\partial^{2}}{\\partial x\\partial t} v{\\left(x,t \\right)} + 0.5 k^{2} \\frac{\\partial^{2}}{\\partial t^{2}} v{\\left(x,t \\right)}$"
          },
          "metadata": {},
          "execution_count": 27
        }
      ]
    },
    {
      "cell_type": "code",
      "source": [
        "gNext = Matrix([tsOrderGroup(dv, X, 2) for dv in grad * factorial(2-1)])\n",
        "sy.simplify(sum(gNext))"
      ],
      "metadata": {
        "colab": {
          "base_uri": "https://localhost:8080/",
          "height": 58
        },
        "id": "IO5fhSno556_",
        "outputId": "9f6469d0-31e3-4173-fd4d-17415ff96edf"
      },
      "execution_count": 28,
      "outputs": [
        {
          "output_type": "execute_result",
          "data": {
            "text/plain": [
              "     2                                      2         \n",
              " 2  ∂                                   2  ∂          \n",
              "h ⋅───(v(x, t))                        k ⋅───(v(x, t))\n",
              "     2                   2                  2         \n",
              "   ∂x                   ∂                 ∂t          \n",
              "─────────────── + h⋅k⋅─────(v(x, t)) + ───────────────\n",
              "       2              ∂x ∂t                   2       "
            ],
            "text/latex": "$\\displaystyle \\frac{h^{2} \\frac{\\partial^{2}}{\\partial x^{2}} v{\\left(x,t \\right)}}{2} + h k \\frac{\\partial^{2}}{\\partial x\\partial t} v{\\left(x,t \\right)} + \\frac{k^{2} \\frac{\\partial^{2}}{\\partial t^{2}} v{\\left(x,t \\right)}}{2}$"
          },
          "metadata": {},
          "execution_count": 28
        }
      ]
    },
    {
      "cell_type": "code",
      "source": [
        "# The remaining term\n",
        "gNext = Matrix([tsOrderGroup(dv, X, 3) for dv in gNext * factorial(3-1)])\n",
        "TE += sum(gNext)\n",
        "sy.simplify(sum(gNext))"
      ],
      "metadata": {
        "colab": {
          "base_uri": "https://localhost:8080/",
          "height": 58
        },
        "id": "P4XTVlQW58m3",
        "outputId": "e049400d-d584-499e-9d33-a931708d6d5b"
      },
      "execution_count": 29,
      "outputs": [
        {
          "output_type": "execute_result",
          "data": {
            "text/plain": [
              "     3                    3                      3                   3        \n",
              " 3  ∂              2     ∂                  2   ∂                3  ∂         \n",
              "h ⋅───(v(x, t))   h ⋅k⋅──────(v(x, t))   h⋅k ⋅──────(v(x, t))   k ⋅───(v(x, t)\n",
              "     3                   2                         2                 3        \n",
              "   ∂x                  ∂x  ∂t                 ∂x ∂t                ∂t         \n",
              "─────────────── + ──────────────────── + ──────────────────── + ──────────────\n",
              "       6                   2                      2                    6      \n",
              "\n",
              " \n",
              " \n",
              ")\n",
              " \n",
              " \n",
              "─\n",
              " "
            ],
            "text/latex": "$\\displaystyle \\frac{h^{3} \\frac{\\partial^{3}}{\\partial x^{3}} v{\\left(x,t \\right)}}{6} + \\frac{h^{2} k \\frac{\\partial^{3}}{\\partial x^{2}\\partial t} v{\\left(x,t \\right)}}{2} + \\frac{h k^{2} \\frac{\\partial^{3}}{\\partial x\\partial t^{2}} v{\\left(x,t \\right)}}{2} + \\frac{k^{3} \\frac{\\partial^{3}}{\\partial t^{3}} v{\\left(x,t \\right)}}{6}$"
          },
          "metadata": {},
          "execution_count": 29
        }
      ]
    },
    {
      "cell_type": "code",
      "source": [
        "TE += sy.O(h**4) + sy.O(k**4)\n",
        "sy.simplify(TE)"
      ],
      "metadata": {
        "colab": {
          "base_uri": "https://localhost:8080/",
          "height": 128
        },
        "id": "fXKa0ttG5-Ih",
        "outputId": "77e753a8-e474-486b-9495-6fc38337b8bc"
      },
      "execution_count": 30,
      "outputs": [
        {
          "output_type": "execute_result",
          "data": {
            "text/plain": [
              "                                           2                                  \n",
              "                    ∂                  2  ∂                                3  \n",
              "1.0⋅v(0, 0) + 1.0⋅k⋅──(v(x, t)) + 0.5⋅k ⋅───(v(x, t)) + 0.166666666666667⋅k ⋅─\n",
              "                    ∂t                     2                                  \n",
              "                                         ∂t                                  ∂\n",
              "\n",
              " 3                                           2                         3      \n",
              "∂                   ∂                       ∂                     2   ∂       \n",
              "──(v(x, t)) + 1.0⋅h⋅──(v(x, t)) + 1.0⋅h⋅k⋅─────(v(x, t)) + 0.5⋅h⋅k ⋅──────(v(x\n",
              " 3                  ∂x                    ∂x ∂t                          2    \n",
              "t                                                                   ∂x ∂t     \n",
              "\n",
              "                 2                        3                                   \n",
              "             2  ∂                  2     ∂                                  3 \n",
              ", t)) + 0.5⋅h ⋅───(v(x, t)) + 0.5⋅h ⋅k⋅──────(v(x, t)) + 0.166666666666667⋅h ⋅\n",
              "                 2                       2                                    \n",
              "               ∂x                      ∂x  ∂t                                 \n",
              "\n",
              "  3                         \n",
              " ∂              ⎛ 4⎞    ⎛ 4⎞\n",
              "───(v(x, t)) + O⎝k ⎠ + O⎝h ⎠\n",
              "  3                         \n",
              "∂x                          "
            ],
            "text/latex": "$\\displaystyle 1.0 v{\\left(0,0 \\right)} + 1.0 k \\frac{\\partial}{\\partial t} v{\\left(x,t \\right)} + 0.5 k^{2} \\frac{\\partial^{2}}{\\partial t^{2}} v{\\left(x,t \\right)} + 0.166666666666667 k^{3} \\frac{\\partial^{3}}{\\partial t^{3}} v{\\left(x,t \\right)} + 1.0 h \\frac{\\partial}{\\partial x} v{\\left(x,t \\right)} + 1.0 h k \\frac{\\partial^{2}}{\\partial x\\partial t} v{\\left(x,t \\right)} + 0.5 h k^{2} \\frac{\\partial^{3}}{\\partial x\\partial t^{2}} v{\\left(x,t \\right)} + 0.5 h^{2} \\frac{\\partial^{2}}{\\partial x^{2}} v{\\left(x,t \\right)} + 0.5 h^{2} k \\frac{\\partial^{3}}{\\partial x^{2}\\partial t} v{\\left(x,t \\right)} + 0.166666666666667 h^{3} \\frac{\\partial^{3}}{\\partial x^{3}} v{\\left(x,t \\right)} + O\\left(k^{4}\\right) + O\\left(h^{4}\\right)$"
          },
          "metadata": {},
          "execution_count": 30
        }
      ]
    },
    {
      "cell_type": "code",
      "source": [
        "TE.removeO()"
      ],
      "metadata": {
        "colab": {
          "base_uri": "https://localhost:8080/",
          "height": 197
        },
        "id": "eEqb1p8U5_h1",
        "outputId": "7f65a5d1-9ed3-4661-c156-4a4c19526cae"
      },
      "execution_count": 31,
      "outputs": [
        {
          "output_type": "execute_result",
          "data": {
            "text/plain": [
              "  ⎛  ⎛    3                 3           ⎞     ⎛     3                   3     \n",
              "  ⎜  ⎜   ∂                 ∂            ⎟     ⎜    ∂                   ∂      \n",
              "h⋅⎜h⋅⎜h⋅───(v(x, t)) + k⋅──────(v(x, t))⎟ + k⋅⎜h⋅──────(v(x, t)) + k⋅──────(v(\n",
              "  ⎜  ⎜    3                2            ⎟     ⎜    2                      2   \n",
              "  ⎝  ⎝  ∂x               ∂x  ∂t         ⎠     ⎝  ∂x  ∂t              ∂x ∂t    \n",
              "──────────────────────────────────────────────────────────────────────────────\n",
              "                                          6                                   \n",
              "                                                                              \n",
              "\n",
              "      ⎞⎞                                                                     ⎛\n",
              "      ⎟⎟                                                                     ⎜\n",
              "x, t))⎟⎟                                                                   k⋅⎜\n",
              "      ⎟⎟     ⎛        2                     2          ⎞                     ⎜\n",
              "      ⎠⎠     ⎜       ∂                     ∂           ⎟     ∂               ⎝\n",
              "──────── + h⋅⎜0.5⋅h⋅───(v(x, t)) + 0.5⋅k⋅─────(v(x, t))⎟ + h⋅──(v(x, t)) + ───\n",
              "             ⎜        2                  ∂x ∂t         ⎟     ∂x               \n",
              "             ⎝      ∂x                                 ⎠                      \n",
              "\n",
              "  ⎛     3                   3           ⎞     ⎛     3                  3      \n",
              "  ⎜    ∂                   ∂            ⎟     ⎜    ∂                  ∂       \n",
              "h⋅⎜h⋅──────(v(x, t)) + k⋅──────(v(x, t))⎟ + k⋅⎜h⋅──────(v(x, t)) + k⋅───(v(x, \n",
              "  ⎜    2                      2         ⎟     ⎜       2                3      \n",
              "  ⎝  ∂x  ∂t              ∂x ∂t          ⎠     ⎝  ∂x ∂t               ∂t       \n",
              "──────────────────────────────────────────────────────────────────────────────\n",
              "                                       6                                      \n",
              "                                                                              \n",
              "\n",
              "   ⎞⎞                                                                         \n",
              "   ⎟⎟                                                                         \n",
              "t))⎟⎟                                                                         \n",
              "   ⎟⎟     ⎛         2                     2         ⎞                         \n",
              "   ⎠⎠     ⎜        ∂                     ∂          ⎟     ∂                   \n",
              "───── + k⋅⎜0.5⋅h⋅─────(v(x, t)) + 0.5⋅k⋅───(v(x, t))⎟ + k⋅──(v(x, t)) + v(0, 0\n",
              "          ⎜      ∂x ∂t                    2         ⎟     ∂t                  \n",
              "          ⎝                             ∂t          ⎠                         \n",
              "\n",
              " \n",
              " \n",
              " \n",
              " \n",
              " \n",
              ")\n",
              " \n",
              " "
            ],
            "text/latex": "$\\displaystyle \\frac{h \\left(h \\left(h \\frac{\\partial^{3}}{\\partial x^{3}} v{\\left(x,t \\right)} + k \\frac{\\partial^{3}}{\\partial x^{2}\\partial t} v{\\left(x,t \\right)}\\right) + k \\left(h \\frac{\\partial^{3}}{\\partial x^{2}\\partial t} v{\\left(x,t \\right)} + k \\frac{\\partial^{3}}{\\partial x\\partial t^{2}} v{\\left(x,t \\right)}\\right)\\right)}{6} + h \\left(0.5 h \\frac{\\partial^{2}}{\\partial x^{2}} v{\\left(x,t \\right)} + 0.5 k \\frac{\\partial^{2}}{\\partial x\\partial t} v{\\left(x,t \\right)}\\right) + h \\frac{\\partial}{\\partial x} v{\\left(x,t \\right)} + \\frac{k \\left(h \\left(h \\frac{\\partial^{3}}{\\partial x^{2}\\partial t} v{\\left(x,t \\right)} + k \\frac{\\partial^{3}}{\\partial x\\partial t^{2}} v{\\left(x,t \\right)}\\right) + k \\left(h \\frac{\\partial^{3}}{\\partial x\\partial t^{2}} v{\\left(x,t \\right)} + k \\frac{\\partial^{3}}{\\partial t^{3}} v{\\left(x,t \\right)}\\right)\\right)}{6} + k \\left(0.5 h \\frac{\\partial^{2}}{\\partial x\\partial t} v{\\left(x,t \\right)} + 0.5 k \\frac{\\partial^{2}}{\\partial t^{2}} v{\\left(x,t \\right)}\\right) + k \\frac{\\partial}{\\partial t} v{\\left(x,t \\right)} + v{\\left(0,0 \\right)}$"
          },
          "metadata": {},
          "execution_count": 31
        }
      ]
    },
    {
      "cell_type": "code",
      "source": [
        "def myTaylorSeries(v, nOrder, X, dX):\n",
        "  TE = 0\n",
        "  v0 = v\n",
        "  for idx, x in enumerate(X):\n",
        "    v0 = v0.subs(x, 0)\n",
        "    TE += sy.O(x**(nOrder+1))\n",
        "  TE += v0\n",
        "  tsOrderGroup = lambda f, X, n: dX.T * Matrix([f.diff(xi,1) for xi in X])\n",
        "  grad = tsOrderGroup(v, X, 1).T\n",
        "  TE += sum(grad)\n",
        "  gNext = grad\n",
        "  for nord in range(2, nOrder+1):\n",
        "    gNext = Matrix([tsOrderGroup(dv, X, nord) for dv in gNext])\n",
        "    TE += sum(gNext)/factorial(nord)\n",
        "  return TE"
      ],
      "metadata": {
        "id": "fDouKmav6B8A"
      },
      "execution_count": 32,
      "outputs": []
    },
    {
      "cell_type": "code",
      "source": [
        "sy.simplify(myTaylorSeries(v, 4, X, dX))"
      ],
      "metadata": {
        "colab": {
          "base_uri": "https://localhost:8080/",
          "height": 141
        },
        "id": "C5sSITyf6EbY",
        "outputId": "f1b9ace8-2e66-4573-b240-d976041c11ca"
      },
      "execution_count": 33,
      "outputs": [
        {
          "output_type": "execute_result",
          "data": {
            "text/plain": [
              "                               2                 3                 4          \n",
              "                           2  ∂              3  ∂              4  ∂           \n",
              "                          k ⋅───(v(x, t))   k ⋅───(v(x, t))   k ⋅───(v(x, t)) \n",
              "                               2                 3                 4          \n",
              "            ∂                ∂t                ∂t                ∂t           \n",
              "v(0, 0) + k⋅──(v(x, t)) + ─────────────── + ─────────────── + ─────────────── \n",
              "            ∂t                   2                 6                 24       \n",
              "\n",
              "                                               3                      4       \n",
              "                                          2   ∂                  3   ∂        \n",
              "                                       h⋅k ⋅──────(v(x, t))   h⋅k ⋅──────(v(x,\n",
              "                         2                       2                      3     \n",
              "    ∂                   ∂                   ∂x ∂t                  ∂x ∂t      \n",
              "+ h⋅──(v(x, t)) + h⋅k⋅─────(v(x, t)) + ──────────────────── + ────────────────\n",
              "    ∂x                ∂x ∂t                     2                      6      \n",
              "\n",
              "            2                    3                        4                   \n",
              "        2  ∂              2     ∂                2  2    ∂                3  ∂\n",
              " t))   h ⋅───(v(x, t))   h ⋅k⋅──────(v(x, t))   h ⋅k ⋅───────(v(x, t))   h ⋅──\n",
              "            2                   2                       2   2                 \n",
              "          ∂x                  ∂x  ∂t                  ∂x  ∂t                ∂x\n",
              "──── + ─────────────── + ──────────────────── + ────────────────────── + ─────\n",
              "              2                   2                       4                   \n",
              "\n",
              "3                    4                   4                         \n",
              "              3     ∂                4  ∂                          \n",
              "─(v(x, t))   h ⋅k⋅──────(v(x, t))   h ⋅───(v(x, t))                \n",
              "3                   3                    4                         \n",
              "                  ∂x  ∂t               ∂x              ⎛ 5⎞    ⎛ 5⎞\n",
              "────────── + ──────────────────── + ─────────────── + O⎝x ⎠ + O⎝t ⎠\n",
              "  6                   6                    24                      "
            ],
            "text/latex": "$\\displaystyle v{\\left(0,0 \\right)} + k \\frac{\\partial}{\\partial t} v{\\left(x,t \\right)} + \\frac{k^{2} \\frac{\\partial^{2}}{\\partial t^{2}} v{\\left(x,t \\right)}}{2} + \\frac{k^{3} \\frac{\\partial^{3}}{\\partial t^{3}} v{\\left(x,t \\right)}}{6} + \\frac{k^{4} \\frac{\\partial^{4}}{\\partial t^{4}} v{\\left(x,t \\right)}}{24} + h \\frac{\\partial}{\\partial x} v{\\left(x,t \\right)} + h k \\frac{\\partial^{2}}{\\partial x\\partial t} v{\\left(x,t \\right)} + \\frac{h k^{2} \\frac{\\partial^{3}}{\\partial x\\partial t^{2}} v{\\left(x,t \\right)}}{2} + \\frac{h k^{3} \\frac{\\partial^{4}}{\\partial x\\partial t^{3}} v{\\left(x,t \\right)}}{6} + \\frac{h^{2} \\frac{\\partial^{2}}{\\partial x^{2}} v{\\left(x,t \\right)}}{2} + \\frac{h^{2} k \\frac{\\partial^{3}}{\\partial x^{2}\\partial t} v{\\left(x,t \\right)}}{2} + \\frac{h^{2} k^{2} \\frac{\\partial^{4}}{\\partial x^{2}\\partial t^{2}} v{\\left(x,t \\right)}}{4} + \\frac{h^{3} \\frac{\\partial^{3}}{\\partial x^{3}} v{\\left(x,t \\right)}}{6} + \\frac{h^{3} k \\frac{\\partial^{4}}{\\partial x^{3}\\partial t} v{\\left(x,t \\right)}}{6} + \\frac{h^{4} \\frac{\\partial^{4}}{\\partial x^{4}} v{\\left(x,t \\right)}}{24} + O\\left(x^{5}\\right) + O\\left(t^{5}\\right)$"
          },
          "metadata": {},
          "execution_count": 33
        }
      ]
    },
    {
      "cell_type": "code",
      "source": [
        "x, y, z, t, h, l, m, k = sy.symbols('x, y, z, t, h, l, m, k')\n",
        "S = Matrix([x, y, z, t])\n",
        "dS = Matrix([h, l, m, k])\n",
        "f = sy.Function('f')(x, y, z, t)\n",
        "fTS = myTaylorSeries(f, 2, S, dS)"
      ],
      "metadata": {
        "id": "fD8NZs8t6GJA"
      },
      "execution_count": 34,
      "outputs": []
    },
    {
      "cell_type": "code",
      "source": [
        "sy.simplify(fTS)"
      ],
      "metadata": {
        "colab": {
          "base_uri": "https://localhost:8080/",
          "height": 190
        },
        "id": "oKfeCKAL6HiI",
        "outputId": "9def8a8a-9e98-4783-a1f4-2c0f46b6efcc"
      },
      "execution_count": 35,
      "outputs": [
        {
          "output_type": "execute_result",
          "data": {
            "text/plain": [
              "                                           2                                  \n",
              "                                       2  ∂                                   \n",
              "                                      m ⋅───(f(x, y, z, t))                   \n",
              "                                           2                                  \n",
              "                  ∂                      ∂z                     ∂             \n",
              "f(0, 0, 0, 0) + m⋅──(f(x, y, z, t)) + ───────────────────── + l⋅──(f(x, y, z, \n",
              "                  ∂z                            2               ∂y            \n",
              "\n",
              "                                      2                                       \n",
              "                                  2  ∂                                        \n",
              "                                 l ⋅───(f(x, y, z, t))                        \n",
              "             2                        2                                       \n",
              "            ∂                       ∂y                     ∂                  \n",
              "t)) + l⋅m⋅─────(f(x, y, z, t)) + ───────────────────── + k⋅──(f(x, y, z, t)) +\n",
              "          ∂z ∂y                            2               ∂t                 \n",
              "\n",
              "                                                            2                 \n",
              "                                                        2  ∂                  \n",
              "                                                       k ⋅───(f(x, y, z, t))  \n",
              "        2                          2                        2                 \n",
              "       ∂                          ∂                       ∂t                  \n",
              " k⋅m⋅─────(f(x, y, z, t)) + k⋅l⋅─────(f(x, y, z, t)) + ───────────────────── +\n",
              "     ∂z ∂t                      ∂y ∂t                            2            \n",
              "\n",
              "                                                                              \n",
              "                                                                              \n",
              "                                                                              \n",
              "                              2                          2                    \n",
              "   ∂                         ∂                          ∂                     \n",
              " h⋅──(f(x, y, z, t)) + h⋅m⋅─────(f(x, y, z, t)) + h⋅l⋅─────(f(x, y, z, t)) + h\n",
              "   ∂x                      ∂z ∂x                      ∂y ∂x                   \n",
              "\n",
              "                               2                                              \n",
              "                           2  ∂                                               \n",
              "                          h ⋅───(f(x, y, z, t))                               \n",
              "      2                        2                                              \n",
              "     ∂                       ∂x                    ⎛ 3⎞    ⎛ 3⎞    ⎛ 3⎞    ⎛ 3\n",
              "⋅k⋅─────(f(x, y, z, t)) + ───────────────────── + O⎝z ⎠ + O⎝y ⎠ + O⎝x ⎠ + O⎝t \n",
              "   ∂x ∂t                            2                                         \n",
              "\n",
              " \n",
              " \n",
              " \n",
              " \n",
              "⎞\n",
              "⎠\n",
              " "
            ],
            "text/latex": "$\\displaystyle f{\\left(0,0,0,0 \\right)} + m \\frac{\\partial}{\\partial z} f{\\left(x,y,z,t \\right)} + \\frac{m^{2} \\frac{\\partial^{2}}{\\partial z^{2}} f{\\left(x,y,z,t \\right)}}{2} + l \\frac{\\partial}{\\partial y} f{\\left(x,y,z,t \\right)} + l m \\frac{\\partial^{2}}{\\partial z\\partial y} f{\\left(x,y,z,t \\right)} + \\frac{l^{2} \\frac{\\partial^{2}}{\\partial y^{2}} f{\\left(x,y,z,t \\right)}}{2} + k \\frac{\\partial}{\\partial t} f{\\left(x,y,z,t \\right)} + k m \\frac{\\partial^{2}}{\\partial z\\partial t} f{\\left(x,y,z,t \\right)} + k l \\frac{\\partial^{2}}{\\partial y\\partial t} f{\\left(x,y,z,t \\right)} + \\frac{k^{2} \\frac{\\partial^{2}}{\\partial t^{2}} f{\\left(x,y,z,t \\right)}}{2} + h \\frac{\\partial}{\\partial x} f{\\left(x,y,z,t \\right)} + h m \\frac{\\partial^{2}}{\\partial z\\partial x} f{\\left(x,y,z,t \\right)} + h l \\frac{\\partial^{2}}{\\partial y\\partial x} f{\\left(x,y,z,t \\right)} + h k \\frac{\\partial^{2}}{\\partial x\\partial t} f{\\left(x,y,z,t \\right)} + \\frac{h^{2} \\frac{\\partial^{2}}{\\partial x^{2}} f{\\left(x,y,z,t \\right)}}{2} + O\\left(z^{3}\\right) + O\\left(y^{3}\\right) + O\\left(x^{3}\\right) + O\\left(t^{3}\\right)$"
          },
          "metadata": {},
          "execution_count": 35
        }
      ]
    },
    {
      "cell_type": "markdown",
      "source": [
        "##**3.3 Uncostrained Optimization**\n",
        "###**3.3.1 Necessary and Sufficient Conditions of Local Minimizers**\n",
        "\n",
        "**Definition 3.3.1 (Global minimizer)** Let *f* : ℝ$^{d}$ → ℝ. The point **x**$^{*}$ ∈ ℝ$^{d}$ is a global minimizer of *f* over ℝ$^{d}$ if\n",
        "\\begin{align}\n",
        "f(\\mathbf{x})≥f(\\mathbf{x}^*), ∀\\mathbf{x}∈ ℝ^{d}.\n",
        "\\end{align}\n",
        "\n",
        "**Definition 3.3.2 (Local minimizer)** Let *f* : ℝ$^{d}$ → ℝ. The point **x**$^{*}$ ∈ ℝ$^{d}$ is a local minimizer of *f* over ℝ$^{d}$ if there is δ > 0 such that\n",
        "\\begin{align}\n",
        "f(\\mathbf{x}) ≥ f(\\mathbf{x}^*), ∀\\mathbf{x}∈ B_{δ}(\\mathbf{x}^*) \\text{ \\ } {\\mathbf{x}^*}.\n",
        "\\end{align}\n",
        "If the inequality is strict, we say that **x**$^{*}$ is a strict local minimizer.\n"
      ],
      "metadata": {
        "id": "LWoeKXpF6TKm"
      }
    },
    {
      "cell_type": "code",
      "source": [
        "from scipy import optimize\n",
        "import numpy as np\n",
        "\n",
        "def f(x):\n",
        "  return -np.exp(-(x-0.7)**2)\n",
        "result = optimize.minimize_scalar(f)\n",
        "result.success # check if solver was successful\n",
        "x_min = result.x\n",
        "print(x_min)"
      ],
      "metadata": {
        "colab": {
          "base_uri": "https://localhost:8080/"
        },
        "id": "VHyxTS9U6ZiK",
        "outputId": "de452f08-883d-4a80-a2a9-e2f6bacdf5d9"
      },
      "execution_count": 36,
      "outputs": [
        {
          "output_type": "stream",
          "name": "stdout",
          "text": [
            "0.6999999997839409\n"
          ]
        }
      ]
    },
    {
      "cell_type": "code",
      "source": [
        "def f(x): # The rosenbrock function\n",
        "  return .5*(1-x[0])**2 + (x[1]-x[0]**2)**2\n",
        "  optimize.minimize(f, [2,-1], method=\"CG\")"
      ],
      "metadata": {
        "id": "JPq_1f6s6bTk"
      },
      "execution_count": 37,
      "outputs": []
    },
    {
      "cell_type": "code",
      "source": [
        "def jacobian(x):\n",
        "  return np.array((-2*.5*(1-x[0])- 4*x[0]*(x[1]-x[0]**2)))\n",
        "optimize.minimize(f, [2,1], method=\"CG\", jac=jacobian)"
      ],
      "metadata": {
        "colab": {
          "base_uri": "https://localhost:8080/"
        },
        "id": "esCAeWVL6cvG",
        "outputId": "e341d020-e019-4a59-e811-072f62326d81"
      },
      "execution_count": 38,
      "outputs": [
        {
          "output_type": "execute_result",
          "data": {
            "text/plain": [
              " message: Desired error not necessarily achieved due to precision loss.\n",
              " success: False\n",
              "  status: 2\n",
              "     fun: 0.7681805132267088\n",
              "       x: [ 3.886e-01 -6.114e-01]\n",
              "     nit: 2\n",
              "     jac: [ 5.737e-01]\n",
              "    nfev: 58\n",
              "    njev: 46"
            ]
          },
          "metadata": {},
          "execution_count": 38
        }
      ]
    },
    {
      "cell_type": "markdown",
      "source": [
        "**Definition 3.3.3 (Descent Direction)** Let *f* : ℝ$^{d}$ → ℝ. A vector **v** is a descent direction for *f* at **x**$_{0}$ if there is α$^{*}$ > 0 such that\n",
        "\\begin{align}\n",
        "f(\\mathbf{x}_0 + α\\mathbf{v}) < f(\\mathbf{x}_0), ∀α∈ (0,α^{*}) .\n",
        "\\end{align}\n",
        "\n",
        "\n",
        "**Lemma 3.3.4 (Descent Direction and Directional Derivative)** Let *f* : ℝ$^{d}$ → ℝ\n",
        "be continuously differentiable at **x**$_{0}$. A vector **v** is a descent direction for *f* at **x**$_{0}$ if\n",
        "\\begin{align}\n",
        "\\frac{∂f(\\mathbf{x}_0)}{∂\\mathbf{v}} = ∇f(\\mathbf{x}_0)^{T}\\mathbf{v} < 0,\n",
        "\\end{align}\n",
        "that is, if directional derivative of *f* at **x**$_{0}$ in the direction **v** is negative.\n",
        "\n",
        "**Lemma 3.3.5 (Existence of a Descent Direction)** Let *f*:ℝ$^{d}$ → ℝ be continuously differentiable at **x**$_{0}$ and assume that ∇*f*(**x**$_{0}$) != 0. Then *f* has a descent direction at **x**$_{0}$."
      ],
      "metadata": {
        "id": "rhiYs0jg6g2H"
      }
    },
    {
      "cell_type": "code",
      "source": [
        "cur_x = 3 # The algorithm starts at x=3\n",
        "rate = 0.01 # Learning rate\n",
        "precision = 0.000001 # Tells us when to stop the algorithm\n",
        "previous_step_size = 1\n",
        "max_iters = 10000 # maximum number of iterations\n",
        "iters = 0 # iteration counter\n",
        "df = lambda x: 2*(x+5) # Gradient of our function"
      ],
      "metadata": {
        "id": "PTNly0N46hcJ"
      },
      "execution_count": 39,
      "outputs": []
    },
    {
      "cell_type": "code",
      "source": [
        "while previous_step_size > precision and iters < max_iters:\n",
        "  prev_x = cur_x # Store current x value in prev_x\n",
        "  cur_x = cur_x - rate * df(prev_x) # Gradient descent\n",
        "  previous_step_size = abs(cur_x - prev_x) # Change in x\n",
        "  iters = iters+1 # iteration count\n",
        "\n",
        "print(\"The local minimum occur at\", cur_x)"
      ],
      "metadata": {
        "colab": {
          "base_uri": "https://localhost:8080/"
        },
        "id": "MPzoCG9N6kOh",
        "outputId": "7e5bff8b-5770-4276-a03f-839125f5a33e"
      },
      "execution_count": 40,
      "outputs": [
        {
          "output_type": "stream",
          "name": "stdout",
          "text": [
            "The local minimum occur at -4.9999518490318176\n"
          ]
        }
      ]
    },
    {
      "cell_type": "markdown",
      "source": [
        "**Theorem 3.3.6 (First-Order Necessary Condition)**:\n",
        "Let *f* : ℝ$^{d}$ → ℝ be continously differentiable on ℝ$^{d}$. If **x**$_{0}$ is a local minimizer, then ∇f(**x**$_{0}$) = 0.\n",
        "\n",
        "**Definition 3.3.7** A square symmetric *d* x *d* matrix *H* is positive semi-definite (PSD) if **x**$^{T}$H**x** ≥ 0 for any **x** ∈ ℝ$^{d}$\n",
        "\n",
        "**Theorem 3.3.8 (Second-Order Necessary Condition)**: Let *f* : ℝ$^{d}$ → ℝ be continuously differentiable on ℝ$^{d}$. If **x**$_{0}$ is a local minimizer, then *H*$_{f}$(**x**$_{0}$) is PSD."
      ],
      "metadata": {
        "id": "UsmzvoUr6lcJ"
      }
    },
    {
      "cell_type": "markdown",
      "source": [
        "####**3.3.1.1 Sufficient conditions for Local Minimizers**\n",
        "\n",
        "**Theorem 3.3.10 (Second-Order Sufficient Condition)**: Let *f* : ℝ$^{d}$ → ℝ be twice continuously differentiable on ℝ$^{d}$. If ∇*f*(**x**$_{0}$) = **0** and **H**$_{f}$(**x**$_{0}$) is positive definite, then **x**$_{0}$ is a strict local minimizer."
      ],
      "metadata": {
        "id": "W-9ItIn76v_q"
      }
    },
    {
      "cell_type": "markdown",
      "source": [
        "###**3.3.2 Convexity and Global Minimizers**\n",
        "\n",
        "**3.3.2.1 Convex Sets and Functions**\n"
      ],
      "metadata": {
        "id": "VT7wQilr66NC"
      }
    },
    {
      "cell_type": "code",
      "source": [
        "import numpy as np\n",
        "import scipy.optimize as opt\n",
        "objective = np.poly1d([1.0, -2.0, 0.0])\n",
        "print(objective)\n",
        "x0 = 3.0\n",
        "results = opt.minimize(objective, x0)\n",
        "print(\"Solution: x=%f\" % results.x)\n",
        "import matplotlib.pylab as plt\n",
        "x = np.linspace(-3, 5, 100)\n",
        "plt.plot(x, objective(x))\n",
        "plt.plot(results.x, objective(results.x), 'ro')\n",
        "plt.show()"
      ],
      "metadata": {
        "colab": {
          "base_uri": "https://localhost:8080/",
          "height": 537
        },
        "id": "_kML9cMl69-s",
        "outputId": "349c48e8-cd9b-49fa-8bd6-4057eb988aa8"
      },
      "execution_count": 41,
      "outputs": [
        {
          "output_type": "stream",
          "name": "stdout",
          "text": [
            "   2\n",
            "1 x - 2 x\n",
            "Solution: x=1.000000\n"
          ]
        },
        {
          "output_type": "stream",
          "name": "stderr",
          "text": [
            "<ipython-input-41-54496c336f1b>:7: DeprecationWarning: Conversion of an array with ndim > 0 to a scalar is deprecated, and will error in future. Ensure you extract a single element from your array before performing this operation. (Deprecated NumPy 1.25.)\n",
            "  print(\"Solution: x=%f\" % results.x)\n"
          ]
        },
        {
          "output_type": "display_data",
          "data": {
            "text/plain": [
              "<Figure size 640x480 with 1 Axes>"
            ],
            "image/png": "[encoded data removed]"
          },
          "metadata": {}
        }
      ]
    },
    {
      "cell_type": "code",
      "source": [
        "def objective(x,coeffs):\n",
        "  return coeffs[0]*x**2 + coeffs[1]*x + coeffs[2]\n",
        "x0 = 3.0\n",
        "mycoeffs = [1.0, -2.0, 0.0]\n",
        "myoptions = {'disp':True}\n",
        "results = opt.minimize(objective, x0, args=mycoeffs, options = myoptions)\n",
        "print(\"Solution: x=%f\" % results.x)\n",
        "x = np.linspace(-3,5,100)\n",
        "plt.plot(x, objective(x,mycoeffs))\n",
        "plt.plot(results.x, objective(results.x,mycoeffs),'ro')\n",
        "plt.show()"
      ],
      "metadata": {
        "colab": {
          "base_uri": "https://localhost:8080/",
          "height": 589
        },
        "id": "mwHbvoW-6_vx",
        "outputId": "10de0b94-4378-481a-e1a6-64f0acfe3f74"
      },
      "execution_count": 42,
      "outputs": [
        {
          "output_type": "stream",
          "name": "stdout",
          "text": [
            "Optimization terminated successfully.\n",
            "         Current function value: -1.000000\n",
            "         Iterations: 2\n",
            "         Function evaluations: 6\n",
            "         Gradient evaluations: 3\n",
            "Solution: x=1.000000\n"
          ]
        },
        {
          "output_type": "stream",
          "name": "stderr",
          "text": [
            "<ipython-input-42-71ba8c2af1e5>:7: DeprecationWarning: Conversion of an array with ndim > 0 to a scalar is deprecated, and will error in future. Ensure you extract a single element from your array before performing this operation. (Deprecated NumPy 1.25.)\n",
            "  print(\"Solution: x=%f\" % results.x)\n"
          ]
        },
        {
          "output_type": "display_data",
          "data": {
            "text/plain": [
              "<Figure size 640x480 with 1 Axes>"
            ],
            "image/png": "[encoded data removed]"
          },
          "metadata": {}
        }
      ]
    },
    {
      "cell_type": "markdown",
      "source": [
        "**Definition 3.3.11 (Convex Set)** A set *D* ⊆ ℝ$^{d}$ is convex if for all **x, y** ∈ *D* and all α ∈ [0,1]\n",
        "\\begin{align}\n",
        "(1-α)\\mathbf{x} + α\\mathbf{y} ∈ D.\n",
        "\\end{align}\n",
        "\n",
        "**Definition 3.3.13 (Convex Function) A function *f*:** ℝ$^{d}$ → ℝ is convex if, for all **x, y** ∈ ℝ$^{d}$ and all α ∈ [0,1],\n",
        "\\begin{align}\n",
        "f((1-α)\\mathbf{x}+α\\mathbf{y}) ≤ (1-α)f(\\mathbf{x}) + αf(\\mathbf{y}).\n",
        "\\end{align}\n",
        "\n",
        "**Lemma 3.3.14 (Affine Functions are Convex)** Let **w** ∈ ℝ$^{d}$ and *b* ∈ ℝ. The function *f*(**x**) = **w**$^{T}$**x** + *b* is convex.\n",
        "\n",
        "**Lemma 3.3.15 (First-Order Convexity Condition)** Let *f* : ℝ$^{d}$ → ℝ be continuously differentiable. The *f* is convex if and only if for all **x,y** ∈ ℝ$^{d}$\n",
        "\\begin{align}\n",
        "f(\\mathbf{y}) ≥ f(\\mathbf{x}) + ∇f(\\mathbf{x})^{T}(\\mathbf{y-x}).\n",
        "\\end{align}\n",
        "\n",
        "**Lemma 3.3.16 (Second-Order Convexity Condition)** Let *f* : ℝ$^{d}$ → ℝ be twice continuously differentiable. Then *f* is convex if and only if, for all **x** ∈ ℝ$^{d}$, **H**$_{f}$(**x**) is PSD."
      ],
      "metadata": {
        "id": "ec2b1RCw7D1w"
      }
    },
    {
      "cell_type": "markdown",
      "source": [
        "####**3.3.2.2 Global Minimizers of Convex Functions**\n",
        "\n",
        "**Theorem 3.3.18** Let *f* : ℝ$^{d}$ → ℝ be a continuously differentiable, convex function. If ∇*f*(**x**$_{0}$) = **0** then **x**$_{0}$ is a global minimizer.\n",
        "\n",
        "**Theorem 3.3.19 (Global Minimizers of Convex Functions)** Let *f* : ℝ$^{d}$ → ℝ be a convex function. Then any local minimizer of *f* is also a global minimizer."
      ],
      "metadata": {
        "id": "pkSaHopI7HMi"
      }
    },
    {
      "cell_type": "code",
      "source": [
        "def f(x):\n",
        "  return .5*(1-x[0])**2 + (x[1] - x[0]**2)**2\n",
        "optimize.brute(f, ((-1,2), (-1,2)))"
      ],
      "metadata": {
        "colab": {
          "base_uri": "https://localhost:8080/"
        },
        "id": "XO0RLjnh7JxY",
        "outputId": "85cd228e-a605-4295-ce09-277970b27523"
      },
      "execution_count": 43,
      "outputs": [
        {
          "output_type": "execute_result",
          "data": {
            "text/plain": [
              "array([1.00001462, 1.00001547])"
            ]
          },
          "metadata": {},
          "execution_count": 43
        }
      ]
    },
    {
      "cell_type": "markdown",
      "source": [
        "###**3.3.3 Gradient Descent**\n",
        "\n",
        "####**3.3.3.1 Steepest Descent**\n",
        "\n",
        "**Lemma 3.3.22 (Steepest Descent)** Let *f* : ℝ$^{d}$ → ℝ be continuously differentiable at **x**$_{0}$. For any unit vector **v** ∈ ℝ$^{d},\n",
        "\\begin{align}\n",
        "\\frac{∂f(\\mathbf{x}_0)}{∂\\mathbf{v}} ≥ \\frac{∂f(\\mathbf{x}_0)} {∂\\mathbf{v}^*},\n",
        "\\end{align}\n",
        "\n",
        "where\n",
        "\\begin{align}\n",
        "\\mathbf{v}^* = -\\frac{∇f(\\mathbf{x}_0)}{||∇f(\\mathbf{x}_0||}.\n",
        "\\end{align}\n",
        "\n",
        "**Theorem 3.3.23** Suppose that *f*: ℝ$^{d}$ → ℝ is twice continuously differentiable. The step size is chosen to minimize\n",
        "\\begin{align}\n",
        "α_k = \\text{arg min}_{α>0}f(\\mathbf{x}^k - α∇f(\\mathbf{x}^k))\n",
        "\\end{align}\n",
        "\n",
        "Then steepest descent started from any **x**$^{0}$ produces a sequence **x**$^{k}$, *k* = 1,2,... such that if ∇*f*(**x**$^{k}$) != 0, then\n",
        "\\begin{align}\n",
        "f(\\mathbf{x}^{k+1}) ≤ f(\\mathbf{x}^k), ∀k ≥ 1\n",
        "\\end{align}"
      ],
      "metadata": {
        "id": "7NitBLf77Op9"
      }
    },
    {
      "cell_type": "code",
      "source": [
        "def f(x):\n",
        "  return .5*(1-x[0])**2 + (x[1] - x[0]**2)**2\n",
        "optimize.minimize(f, [2,-1], method=\"CG\")"
      ],
      "metadata": {
        "id": "TTYMnyG17SVo",
        "outputId": "c151abd3-e75a-4fa1-cedf-fd0f943e7bf5",
        "colab": {
          "base_uri": "https://localhost:8080/"
        }
      },
      "execution_count": 44,
      "outputs": [
        {
          "output_type": "execute_result",
          "data": {
            "text/plain": [
              " message: Optimization terminated successfully.\n",
              " success: True\n",
              "  status: 0\n",
              "     fun: 1.6503729082243953e-11\n",
              "       x: [ 1.000e+00  1.000e+00]\n",
              "     nit: 13\n",
              "     jac: [-6.153e-06  2.538e-07]\n",
              "    nfev: 81\n",
              "    njev: 27"
            ]
          },
          "metadata": {},
          "execution_count": 44
        }
      ]
    }
  ]
}